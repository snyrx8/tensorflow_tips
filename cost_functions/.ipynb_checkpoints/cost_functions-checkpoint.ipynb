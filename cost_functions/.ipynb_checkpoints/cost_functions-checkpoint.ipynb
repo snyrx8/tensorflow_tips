{
 "cells": [
  {
   "cell_type": "code",
   "execution_count": 2,
   "metadata": {
    "collapsed": true
   },
   "outputs": [],
   "source": [
    "import tensorflow as tf\n",
    "import numpy as np"
   ]
  },
  {
   "cell_type": "markdown",
   "metadata": {},
   "source": [
    "### mean squared error\n",
    "\n",
    "The formula of mean square error is below,\n",
    "\\begin{equation*}\n",
    "E = \\frac{1}{2} \\sum_{k} (y_k - t_k)^{2}\n",
    "\\end{equation*}\n"
   ]
  },
  {
   "cell_type": "code",
   "execution_count": 3,
   "metadata": {},
   "outputs": [
    {
     "name": "stdout",
     "output_type": "stream",
     "text": [
      "x: [[ 0.          0.          1.          0.        ]\n",
      " [ 1.          1.          1.          1.        ]\n",
      " [ 0.1         0.89999998  1.          0.89999998]]\n",
      "y: [[ 0.          0.          1.          0.        ]\n",
      " [ 0.          0.          1.          0.        ]\n",
      " [ 0.1         0.1         1.          0.89999998]]\n",
      "mean squared error: [array([[ 0.        ,  0.        ,  0.        ,  0.        ],\n",
      "       [ 1.        ,  1.        ,  0.        ,  1.        ],\n",
      "       [ 0.        ,  0.63999993,  0.        ,  0.        ]], dtype=float32)]\n"
     ]
    }
   ],
   "source": [
    "x = np.array([[0,0,1,0], [1,1,1,1], [0.1,0.9,1.0,0.9]])\n",
    "y = np.array([[0,0,1,0], [0,0,1,0], [0.1,0.1,1.0,0.9]])\n",
    "\n",
    "batch = x.shape[0]\n",
    "x_ = tf.placeholder(tf.float32, [batch, None])\n",
    "y_ = tf.placeholder(tf.float32, [batch, None])\n",
    "\n",
    "#loss = tf.reduce_mean( tf.square(x_ - y_))\n",
    "loss = tf.square(x_ - y_)\n",
    "\n",
    "init = tf.global_variables_initializer()\n",
    "with tf.Session() as sess:\n",
    "    sess.run(init)\n",
    "    loss = sess.run([loss], feed_dict={x_:x, y_:y})\n",
    "    \n",
    "    print(\"x:\", sess.run(x_, feed_dict={x_:x}))\n",
    "    print(\"y:\", sess.run(y_, feed_dict={y_:y}))\n",
    "    print(\"mean squared error:\", loss)"
   ]
  },
  {
   "cell_type": "markdown",
   "metadata": {},
   "source": [
    "### softmax cross entropy with logits"
   ]
  },
  {
   "cell_type": "code",
   "execution_count": 4,
   "metadata": {
    "scrolled": true
   },
   "outputs": [
    {
     "name": "stdout",
     "output_type": "stream",
     "text": [
      "x: [[   0.            0.            1.            0.        ]\n",
      " [   1.            1.            1.            1.        ]\n",
      " [   0.1           0.89999998  100.            0.89999998]]\n",
      "y: [[ 0.          0.          1.          0.        ]\n",
      " [ 0.          0.          1.          0.        ]\n",
      " [ 0.1         0.1         1.          0.89999998]]\n",
      "softmax cross entropy with logits: [array([   0.74366832,    1.38629436,  109.08998871], dtype=float32)]\n"
     ]
    }
   ],
   "source": [
    "x = np.array([[0,0,1,0], [1,1,1,1], [0.1,0.9,100,0.9]])\n",
    "y = np.array([[0,0,1,0], [0,0,1,0], [0.1,0.1,1.0,0.9]])\n",
    "\n",
    "batch = x.shape[0]\n",
    "x_ = tf.placeholder(tf.float32, [batch, None])\n",
    "y_ = tf.placeholder(tf.float32, [batch, None])\n",
    "\n",
    "loss = tf.nn.softmax_cross_entropy_with_logits(logits=x_, labels=y_)\n",
    "with tf.Session() as sess:\n",
    "    sess.run(init)\n",
    "    loss = sess.run([loss], feed_dict={x_:x, y_:y})\n",
    "    \n",
    "    print(\"x:\", sess.run(x_, feed_dict={x_:x}))\n",
    "    print(\"y:\", sess.run(y_, feed_dict={y_:y}))\n",
    "    print(\"softmax cross entropy with logits:\", loss)"
   ]
  },
  {
   "cell_type": "markdown",
   "metadata": {},
   "source": [
    "### sigmoid cross entropy with logits"
   ]
  },
  {
   "cell_type": "code",
   "execution_count": 5,
   "metadata": {},
   "outputs": [
    {
     "name": "stdout",
     "output_type": "stream",
     "text": [
      "x: \n",
      " [[   0.            0.            1.            0.        ]\n",
      " [   1.            1.            1.            1.        ]\n",
      " [   0.1           0.89999998  100.            0.89999998]]\n",
      "y: \n",
      " [[ 0.          0.          1.          0.        ]\n",
      " [ 0.          0.          1.          0.        ]\n",
      " [ 0.1         0.1         1.          0.89999998]]\n",
      "softmax cross entropy with logits: \n",
      " [array([[ 0.69314718,  0.69314718,  0.31326169,  0.69314718],\n",
      "       [ 1.31326175,  1.31326175,  0.31326169,  1.31326175],\n",
      "       [ 0.7343967 ,  1.1511538 ,  0.        ,  0.43115389]], dtype=float32)]\n"
     ]
    }
   ],
   "source": [
    "x = np.array([[0,0,1,0], [1,1,1,1], [0.1,0.9,100,0.9]])\n",
    "y = np.array([[0,0,1,0], [0,0,1,0], [0.1,0.1,1.0,0.9]])\n",
    "\n",
    "batch = x.shape[0]\n",
    "x_ = tf.placeholder(tf.float32, [batch, None])\n",
    "y_ = tf.placeholder(tf.float32, [batch, None])\n",
    "\n",
    "loss = tf.nn.sigmoid_cross_entropy_with_logits(logits=x_, labels=y_)\n",
    "with tf.Session() as sess:\n",
    "    sess.run(init)\n",
    "    loss = sess.run([loss], feed_dict={x_:x, y_:y})\n",
    "    \n",
    "    print(\"x: \\n\", sess.run(x_, feed_dict={x_:x}))\n",
    "    print(\"y: \\n\", sess.run(y_, feed_dict={y_:y}))\n",
    "    print(\"softmax cross entropy with logits: \\n\", loss)"
   ]
  },
  {
   "cell_type": "code",
   "execution_count": 6,
   "metadata": {},
   "outputs": [
    {
     "data": {
      "text/plain": [
       "3"
      ]
     },
     "execution_count": 6,
     "metadata": {},
     "output_type": "execute_result"
    }
   ],
   "source": [
    "batch"
   ]
  },
  {
   "cell_type": "code",
   "execution_count": null,
   "metadata": {
    "collapsed": true
   },
   "outputs": [],
   "source": []
  },
  {
   "cell_type": "code",
   "execution_count": null,
   "metadata": {
    "collapsed": true
   },
   "outputs": [],
   "source": []
  }
 ],
 "metadata": {
  "kernelspec": {
   "display_name": "Python 3",
   "language": "python",
   "name": "python3"
  },
  "language_info": {
   "codemirror_mode": {
    "name": "ipython",
    "version": 3
   },
   "file_extension": ".py",
   "mimetype": "text/x-python",
   "name": "python",
   "nbconvert_exporter": "python",
   "pygments_lexer": "ipython3",
   "version": "3.5.3"
  }
 },
 "nbformat": 4,
 "nbformat_minor": 2
}
