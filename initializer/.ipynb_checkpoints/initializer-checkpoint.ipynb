{
 "cells": [
  {
   "cell_type": "markdown",
   "metadata": {},
   "source": [
    "### Xavier による重みの初期化\n",
    "\n",
    "活性化関数にシグモイド関数を用いる場合に利用される。\n",
    "\n",
    "全層のノードの個数をnとした場合、1/sqrt(n) の標準偏差を持つ分布を使う。\n",
    "\n",
    "分布は、一様分布、ガウス分布など様々な方法があるみたい。\n"
   ]
  },
  {
   "cell_type": "code",
   "execution_count": 6,
   "metadata": {
    "collapsed": true
   },
   "outputs": [],
   "source": [
    "import tensorflow as tf\n",
    "import numpy as np"
   ]
  },
  {
   "cell_type": "code",
   "execution_count": 2,
   "metadata": {},
   "outputs": [],
   "source": [
    "W_ = tf.get_variable(\"W\", shape=[784, 256],\n",
    "           initializer=tf.contrib.layers.xavier_initializer())"
   ]
  },
  {
   "cell_type": "code",
   "execution_count": 16,
   "metadata": {},
   "outputs": [],
   "source": [
    "init = tf.global_variables_initializer()\n",
    "with tf.Session() as sess:\n",
    "    sess.run(init)\n",
    "    W = np.array(sess.run([W_][0]))"
   ]
  },
  {
   "cell_type": "code",
   "execution_count": 26,
   "metadata": {},
   "outputs": [],
   "source": [
    "import matplotlib.pyplot as plt\n",
    "%matplotlib inline"
   ]
  },
  {
   "cell_type": "code",
   "execution_count": 27,
   "metadata": {},
   "outputs": [],
   "source": [
    "W = W.reshape(1,-1)[0]"
   ]
  },
  {
   "cell_type": "code",
   "execution_count": 28,
   "metadata": {},
   "outputs": [
    {
     "data": {
      "text/plain": [
       "(array([ 19904.,  20043.,  20275.,  20072.,  20091.,  20201.,  20298.,\n",
       "         19831.,  19964.,  20025.]),\n",
       " array([ -7.59545118e-02,  -6.07635856e-02,  -4.55726594e-02,\n",
       "         -3.03817332e-02,  -1.51908070e-02,   1.19209290e-07,\n",
       "          1.51910454e-02,   3.03819716e-02,   4.55728978e-02,\n",
       "          6.07638240e-02,   7.59547502e-02]),\n",
       " <a list of 10 Patch objects>)"
      ]
     },
     "execution_count": 28,
     "metadata": {},
     "output_type": "execute_result"
    },
    {
     "data": {
      "image/png": "[encoded data removed]",
      "text/plain": [
       "<matplotlib.figure.Figure at 0x11acf4160>"
      ]
     },
     "metadata": {},
     "output_type": "display_data"
    }
   ],
   "source": [
    "plt.hist(W)"
   ]
  },
  {
   "cell_type": "markdown",
   "metadata": {},
   "source": [
    "### He による重みの初期化\n",
    "\n",
    "活性化関数にReLUを用いる場合に利用される。\n",
    "\n",
    "全層のノードの数がn個の場合、sart(2/n)を標準偏差とするガウス分布を用いる。\n",
    "\n",
    "「Xavierの初期値」がsqrt(1/n)であったことを考えると、ReLUの場合は負の領域が0になるため、より広がりを持たせるために倍の係数が必要になると（直感的には）解釈できる。"
   ]
  },
  {
   "cell_type": "code",
   "execution_count": 31,
   "metadata": {},
   "outputs": [],
   "source": [
    "#n_inputs = int(X.get_shape()[1])\n",
    "n_inputs = 784\n",
    "n_neurons = 256\n",
    "stddev = 2 / np.sqrt(n_inputs)\n",
    "init = tf.truncated_normal((n_inputs, n_neurons), stddev=stddev)\n",
    "W_ = tf.Variable(init)"
   ]
  },
  {
   "cell_type": "code",
   "execution_count": 32,
   "metadata": {
    "collapsed": true
   },
   "outputs": [],
   "source": [
    "init = tf.global_variables_initializer()\n",
    "with tf.Session() as sess:\n",
    "    sess.run(init)\n",
    "    W = np.array(sess.run([W_][0]))"
   ]
  },
  {
   "cell_type": "code",
   "execution_count": 33,
   "metadata": {
    "collapsed": true
   },
   "outputs": [],
   "source": [
    "W = W.reshape(1,-1)[0]"
   ]
  },
  {
   "cell_type": "code",
   "execution_count": 34,
   "metadata": {},
   "outputs": [
    {
     "data": {
      "text/plain": [
       "(array([  6646.,  12741.,  20248.,  27908.,  32549.,  32644.,  28173.,\n",
       "         20296.,  12657.,   6842.]),\n",
       " array([ -1.42854244e-01,  -1.14283115e-01,  -8.57119858e-02,\n",
       "         -5.71408570e-02,  -2.85697281e-02,   1.40070915e-06,\n",
       "          2.85725296e-02,   5.71436584e-02,   8.57147872e-02,\n",
       "          1.14285916e-01,   1.42857045e-01]),\n",
       " <a list of 10 Patch objects>)"
      ]
     },
     "execution_count": 34,
     "metadata": {},
     "output_type": "execute_result"
    },
    {
     "data": {
      "image/png": "[encoded data removed]",
      "text/plain": [
       "<matplotlib.figure.Figure at 0x11ad23198>"
      ]
     },
     "metadata": {},
     "output_type": "display_data"
    }
   ],
   "source": [
    "plt.hist(W)"
   ]
  },
  {
   "cell_type": "code",
   "execution_count": null,
   "metadata": {
    "collapsed": true
   },
   "outputs": [],
   "source": []
  }
 ],
 "metadata": {
  "kernelspec": {
   "display_name": "Python 3",
   "language": "python",
   "name": "python3"
  },
  "language_info": {
   "codemirror_mode": {
    "name": "ipython",
    "version": 3
   },
   "file_extension": ".py",
   "mimetype": "text/x-python",
   "name": "python",
   "nbconvert_exporter": "python",
   "pygments_lexer": "ipython3",
   "version": "3.5.3"
  }
 },
 "nbformat": 4,
 "nbformat_minor": 2
}
