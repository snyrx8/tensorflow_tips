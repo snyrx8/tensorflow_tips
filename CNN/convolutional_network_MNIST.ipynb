{
 "cells": [
  {
   "cell_type": "code",
   "execution_count": 1,
   "metadata": {
    "collapsed": true
   },
   "outputs": [],
   "source": [
    "from __future__ import division, print_function, absolute_import\n",
    "\n",
    "import tensorflow as tf\n",
    "import numpy as np\n",
    "import matplotlib.pyplot as plt\n",
    "import sys\n",
    "\n",
    "%matplotlib inline\n",
    "\n",
    "from functools import partial"
   ]
  },
  {
   "cell_type": "markdown",
   "metadata": {},
   "source": [
    "### Import MNIST data"
   ]
  },
  {
   "cell_type": "code",
   "execution_count": 2,
   "metadata": {},
   "outputs": [
    {
     "name": "stdout",
     "output_type": "stream",
     "text": [
      "Extracting MNIST_data/train-images-idx3-ubyte.gz\n",
      "Extracting MNIST_data/train-labels-idx1-ubyte.gz\n",
      "Extracting MNIST_data/t10k-images-idx3-ubyte.gz\n",
      "Extracting MNIST_data/t10k-labels-idx1-ubyte.gz\n"
     ]
    }
   ],
   "source": [
    "from tensorflow.examples.tutorials.mnist import input_data\n",
    "mnist = input_data.read_data_sets(\"MNIST_data\", validation_size=0, one_hot=True)"
   ]
  },
  {
   "cell_type": "markdown",
   "metadata": {},
   "source": [
    "### function to save variable summaries for tensorboard"
   ]
  },
  {
   "cell_type": "code",
   "execution_count": 3,
   "metadata": {
    "collapsed": true
   },
   "outputs": [],
   "source": [
    "def variable_summaries(var):\n",
    "    \"\"\" Attach a lot of summaries to a Tensor (for TensorBoard visualization). \"\"\"\n",
    "    with tf.name_scope('summaries'):\n",
    "        mean = tf.reduce_mean(var)\n",
    "        tf.summary.scalar('mean', mean)\n",
    "        with tf.name_scope('stddev'):\n",
    "            stddev = tf.sqrt(tf.reduce_mean(tf.square(var - mean)))\n",
    "        tf.summary.scalar('stddev', stddev)\n",
    "        tf.summary.scalar('max', tf.reduce_max(var))\n",
    "        tf.summary.scalar('min', tf.reduce_min(var))\n",
    "        tf.summary.histogram('histogram', var)"
   ]
  },
  {
   "cell_type": "markdown",
   "metadata": {},
   "source": [
    "### set parameters"
   ]
  },
  {
   "cell_type": "code",
   "execution_count": 4,
   "metadata": {
    "collapsed": true
   },
   "outputs": [],
   "source": [
    "learning_rate = 0.01\n",
    "\n",
    "training_epochs = 50\n",
    "batch_size = 256\n",
    "display_step = 1\n",
    "examples_to_show = 10\n",
    "\n",
    "# Network Parameters\n",
    "n_input = 28 * 28\n",
    "\n",
    "\n",
    "# log directory for tensorboard\n",
    "log_dir = '/tmp/tensorflow/conv_AE_MNIST/logs'"
   ]
  },
  {
   "cell_type": "markdown",
   "metadata": {},
   "source": [
    "### 標準セットのlayerを定義する\n",
    "\n",
    "ここでは、重みの初期化に\"He\"を、regularizerに\"l2\"を設定する。  \n",
    "また、tensorboardへの表示用の出力も設定する。"
   ]
  },
  {
   "cell_type": "code",
   "execution_count": 5,
   "metadata": {
    "collapsed": true
   },
   "outputs": [],
   "source": [
    "def nn_layer(input_tensor, output_dim, name, activation=tf.nn.elu, l2_reg = 0.0005):\n",
    "    with tf.variable_scope(name):\n",
    "        \n",
    "        he_init = tf.contrib.layers.variance_scaling_initializer() # He initialization\n",
    "        l2_regularizer = tf.contrib.layers.l2_regularizer(l2_reg) \n",
    "        layer = tf.layers.dense(input_tensor, output_dim, \n",
    "                                activation=activation,\n",
    "                                kernel_initializer=he_init,\n",
    "                                kernel_regularizer=l2_regularizer)\n",
    "        \n",
    "        layer_vars = layer.graph.get_collection(tf.GraphKeys.TRAINABLE_VARIABLES)\n",
    "        with tf.variable_scope('weights'):\n",
    "            variable_summaries(layer_vars[0])\n",
    "        with tf.variable_scope('biases'):\n",
    "            variable_summaries(layer_vars[1])\n",
    "        with tf.variable_scope('activation'):\n",
    "            tf.summary.histogram('activations', layer)\n",
    "        return layer"
   ]
  },
  {
   "cell_type": "code",
   "execution_count": 6,
   "metadata": {
    "collapsed": true
   },
   "outputs": [],
   "source": [
    "def conv_layer(name, input_tensor, filters, kernel_size, strides=(1,1), padding='valid', activation=tf.nn.elu, l2_reg = 0.005):\n",
    "    with tf.variable_scope(name):\n",
    "        he_init = tf.contrib.layers.variance_scaling_initializer() # He initialization\n",
    "        l2_regularizer = tf.contrib.layers.l2_regularizer(l2_reg) \n",
    "        layer = tf.layers.conv2d(input_tensor, filters, kernel_size, strides=strides, \n",
    "                                 padding=padding, activation=activation,\n",
    "                                 kernel_initializer=he_init,\n",
    "                                 kernel_regularizer=l2_regularizer)\n",
    "        \n",
    "        layer_vars = layer.graph.get_collection(tf.GraphKeys.TRAINABLE_VARIABLES)\n",
    "        with tf.variable_scope('weights'):\n",
    "            variable_summaries(layer_vars[0])\n",
    "        with tf.variable_scope('biases'):\n",
    "            variable_summaries(layer_vars[1])\n",
    "        with tf.variable_scope('activation'):\n",
    "            tf.summary.histogram('activations', layer)\n",
    "        return layer"
   ]
  },
  {
   "cell_type": "markdown",
   "metadata": {},
   "source": [
    "### decoder部"
   ]
  },
  {
   "cell_type": "code",
   "execution_count": 7,
   "metadata": {
    "collapsed": true
   },
   "outputs": [],
   "source": [
    "def encoder(x):\n",
    "    ### Encoder\n",
    "    conv1 = conv_layer('enc_conv1', X, 30, (5,5), padding='same', activation=tf.nn.relu)\n",
    "    # Now 28x28x30\n",
    "    maxpool1 = tf.layers.max_pooling2d(conv1, (2,2), (2,2), padding='same')\n",
    "    # Now 14x14x30\n",
    "    conv2 = conv_layer('enc_conv2', maxpool1, 16, (5,5), padding='same', activation=tf.nn.relu)\n",
    "    # Now 14x14x16\n",
    "    maxpool2 = tf.layers.max_pooling2d(conv2, (2,2), (2,2), padding='same')\n",
    "    # Now 7x7x16\n",
    "    conv3 = conv_layer('enc_conv3', maxpool2, 8, (5,5), padding='same', activation=tf.nn.relu)\n",
    "    # Now 7x7x8\n",
    "    maxpool3 = tf.layers.max_pooling2d(conv3, (2,2), (2,2), padding='same')\n",
    "    # Now 4x4x8\n",
    "    # Dense Layer\n",
    "    pool3_flat = tf.reshape(maxpool3, [-1, 4 * 4 * 8])\n",
    "    dense = nn_layer(pool3_flat, 10, 'dence1', activation=None)\n",
    "    return dense"
   ]
  },
  {
   "cell_type": "markdown",
   "metadata": {},
   "source": [
    "### グラフを定義\n",
    "\n",
    "二乗和誤差を用いてロス値を計算する方法"
   ]
  },
  {
   "cell_type": "code",
   "execution_count": 8,
   "metadata": {},
   "outputs": [
    {
     "data": {
      "text/plain": [
       "\"\\nwith tf.variable_scope('input'):\\n    X = tf.placeholder(tf.float32, (None, 28, 28, 1), name='inputs')\\n    \\n    \\n# Construct model\\nwith tf.name_scope('encoder_part'):\\n    encoder_op = encoder(X)\\n\\nwith tf.name_scope('decoder_part'):\\n    decoder_op = decoder(encoder_op)\\n\\n# Prediction\\nwith tf.name_scope('prediction'):\\n    y_pred = decoder_op\\n\\n# Targets (Labels) are the input data.\\nwith tf.name_scope('target'):\\n    y_true = X\\n\\n# Define loss and optimizer, minimize the squared error\\nwith tf.name_scope('reduce_mean'):\\n    #cost = tf.reduce_mean(tf.pow(y_true - y_pred, 2))\\n    cost = tf.reduce_mean(tf.square(y_true - y_pred))\\ntf.summary.scalar('reduce_mean', cost)\\n\\n\\nwith tf.name_scope('train'):\\n    optimizer = tf.train.AdamOptimizer(learning_rate).minimize(cost)\\n\""
      ]
     },
     "execution_count": 8,
     "metadata": {},
     "output_type": "execute_result"
    }
   ],
   "source": [
    "\"\"\"\n",
    "with tf.variable_scope('input'):\n",
    "    X = tf.placeholder(tf.float32, (None, 28, 28, 1), name='inputs')\n",
    "    \n",
    "    \n",
    "# Construct model\n",
    "with tf.name_scope('encoder_part'):\n",
    "    encoder_op = encoder(X)\n",
    "\n",
    "with tf.name_scope('decoder_part'):\n",
    "    decoder_op = decoder(encoder_op)\n",
    "\n",
    "# Prediction\n",
    "with tf.name_scope('prediction'):\n",
    "    y_pred = decoder_op\n",
    "\n",
    "# Targets (Labels) are the input data.\n",
    "with tf.name_scope('target'):\n",
    "    y_true = X\n",
    "\n",
    "# Define loss and optimizer, minimize the squared error\n",
    "with tf.name_scope('reduce_mean'):\n",
    "    #cost = tf.reduce_mean(tf.pow(y_true - y_pred, 2))\n",
    "    cost = tf.reduce_mean(tf.square(y_true - y_pred))\n",
    "tf.summary.scalar('reduce_mean', cost)\n",
    "\n",
    "\n",
    "with tf.name_scope('train'):\n",
    "    optimizer = tf.train.AdamOptimizer(learning_rate).minimize(cost)\n",
    "\"\"\""
   ]
  },
  {
   "cell_type": "markdown",
   "metadata": {},
   "source": [
    "### Reset Graph"
   ]
  },
  {
   "cell_type": "code",
   "execution_count": 9,
   "metadata": {
    "collapsed": true
   },
   "outputs": [],
   "source": [
    "tf.reset_default_graph()"
   ]
  },
  {
   "cell_type": "markdown",
   "metadata": {},
   "source": [
    "### グラフを定義\n",
    "\n",
    "コスト関数：シグモイド＆クロスエントロピー誤差を用いてロス値を計算する方法"
   ]
  },
  {
   "cell_type": "code",
   "execution_count": 10,
   "metadata": {},
   "outputs": [],
   "source": [
    "# Construct model\n",
    "with tf.variable_scope('input'):\n",
    "    X = tf.placeholder(tf.float32, (None, 28, 28, 1), name='inputs')\n",
    "    \n",
    "with tf.variable_scope('label'):\n",
    "    y_ = tf.placeholder(tf.float32, (None, 10))\n",
    "    \n",
    "with tf.variable_scope('encoder_part'):\n",
    "    encoder_op = encoder(X)\n",
    "    \n",
    "\n",
    "# Targets (Labels) are the input data.\n",
    "with tf.variable_scope('target'):\n",
    "    y_true = y_\n",
    "\n",
    "# Define loss and optimizer, minimize the squared error\n",
    "with tf.variable_scope('reduce_mean'):\n",
    "    loss = tf.nn.softmax_cross_entropy_with_logits(labels=y_, logits=encoder_op)\n",
    "    cost = tf.reduce_mean(loss)\n",
    "    \n",
    "\n",
    "#　精度計算\n",
    "with tf.variable_scope('correct_prediction'):\n",
    "    correct_prediction = tf.equal(tf.argmax(encoder_op, 1), tf.argmax(y_true, 1))\n",
    "    accuracy = tf.reduce_mean(tf.cast(correct_prediction, \"float32\"))\n",
    "\n",
    "# model    \n",
    "model_summary_op = tf.summary.merge_all()\n",
    "    \n",
    "    \n",
    "with tf.variable_scope('train'):\n",
    "    optimizer = tf.train.AdamOptimizer(learning_rate).minimize(cost)\n",
    "    acc_summary_train = tf.summary.scalar(\"acc_train\", accuracy)\n",
    "    loss_summary_train = tf.summary.scalar(\"loss_train\", cost)\n",
    "\n",
    "with tf.variable_scope('test'):\n",
    "    acc_summary_test = tf.summary.scalar(\"acc_test\", accuracy)\n",
    "    loss_summary_test = tf.summary.scalar(\"loss_test\", cost)\n",
    "    \n",
    "with tf.variable_scope(\"val\") as scope:\n",
    "    acc_summary_val = tf.summary.scalar(\"acc_val\", accuracy)\n",
    "    loss_summary_val = tf.summary.scalar(\"loss_val\", cost)\n"
   ]
  },
  {
   "cell_type": "markdown",
   "metadata": {},
   "source": [
    "## Training"
   ]
  },
  {
   "cell_type": "code",
   "execution_count": 11,
   "metadata": {
    "scrolled": false
   },
   "outputs": [
    {
     "name": "stdout",
     "output_type": "stream",
     "text": [
      "Epoch: 0001 train cost= 0.06136 train acc= 0.98040 test cost= 0.06136 test acc= 0.98040\n",
      "Epoch: 0002 train cost= 0.04898 train acc= 0.98490 test cost= 0.04898 test acc= 0.98490\n",
      "Epoch: 0003 train cost= 0.04233 train acc= 0.98640 test cost= 0.04233 test acc= 0.98640\n",
      "Epoch: 0004 train cost= 0.04030 train acc= 0.98800 test cost= 0.04030 test acc= 0.98800\n",
      "Epoch: 0005 train cost= 0.03993 train acc= 0.98770 test cost= 0.03993 test acc= 0.98770\n",
      "Epoch: 0006 train cost= 0.04634 train acc= 0.98680 test cost= 0.04634 test acc= 0.98680\n",
      "Epoch: 0007 train cost= 0.04366 train acc= 0.98890 test cost= 0.04366 test acc= 0.98890\n",
      "Epoch: 0008 train cost= 0.05106 train acc= 0.98410 test cost= 0.05106 test acc= 0.98410\n",
      "Epoch: 0009 train cost= 0.05200 train acc= 0.98640 test cost= 0.05200 test acc= 0.98640\n",
      "Epoch: 0010 train cost= 0.07465 train acc= 0.98080 test cost= 0.07465 test acc= 0.98080\n",
      "Epoch: 0011 train cost= 0.04604 train acc= 0.98850 test cost= 0.04604 test acc= 0.98850\n",
      "Epoch: 0012 train cost= 0.05655 train acc= 0.98790 test cost= 0.05655 test acc= 0.98790\n",
      "Epoch: 0013 train cost= 0.05510 train acc= 0.98800 test cost= 0.05510 test acc= 0.98800\n",
      "Epoch: 0014 train cost= 0.06113 train acc= 0.98550 test cost= 0.06113 test acc= 0.98550\n",
      "Epoch: 0015 train cost= 0.07233 train acc= 0.98410 test cost= 0.07233 test acc= 0.98410\n",
      "Epoch: 0016 train cost= 0.07670 train acc= 0.98410 test cost= 0.07670 test acc= 0.98410\n",
      "Epoch: 0017 train cost= 0.07094 train acc= 0.98520 test cost= 0.07094 test acc= 0.98520\n",
      "Epoch: 0018 train cost= 0.07550 train acc= 0.98290 test cost= 0.07550 test acc= 0.98290\n",
      "Epoch: 0019 train cost= 0.06444 train acc= 0.98700 test cost= 0.06444 test acc= 0.98700\n",
      "Epoch: 0020 train cost= 0.07857 train acc= 0.98380 test cost= 0.07857 test acc= 0.98380\n",
      "Epoch: 0021 train cost= 0.06637 train acc= 0.98590 test cost= 0.06637 test acc= 0.98590\n",
      "Epoch: 0022 train cost= 0.08153 train acc= 0.98450 test cost= 0.08153 test acc= 0.98450\n",
      "Epoch: 0023 train cost= 0.08733 train acc= 0.98320 test cost= 0.08733 test acc= 0.98320\n",
      "Epoch: 0024 train cost= 0.09235 train acc= 0.98350 test cost= 0.09235 test acc= 0.98350\n",
      "Epoch: 0025 train cost= 0.06757 train acc= 0.98510 test cost= 0.06757 test acc= 0.98510\n",
      "Epoch: 0026 train cost= 0.10352 train acc= 0.98470 test cost= 0.10352 test acc= 0.98470\n",
      "Epoch: 0027 train cost= 0.11374 train acc= 0.98460 test cost= 0.11374 test acc= 0.98460\n",
      "Epoch: 0028 train cost= 0.10115 train acc= 0.98300 test cost= 0.10115 test acc= 0.98300\n",
      "Epoch: 0029 train cost= 0.06879 train acc= 0.98730 test cost= 0.06879 test acc= 0.98730\n",
      "Epoch: 0030 train cost= 0.08985 train acc= 0.98490 test cost= 0.08985 test acc= 0.98490\n",
      "Epoch: 0031 train cost= 0.09128 train acc= 0.98440 test cost= 0.09128 test acc= 0.98440\n",
      "Epoch: 0032 train cost= 0.11347 train acc= 0.98540 test cost= 0.11347 test acc= 0.98540\n",
      "Epoch: 0033 train cost= 0.10788 train acc= 0.98590 test cost= 0.10788 test acc= 0.98590\n",
      "Epoch: 0034 train cost= 0.09666 train acc= 0.98430 test cost= 0.09666 test acc= 0.98430\n",
      "Epoch: 0035 train cost= 0.10288 train acc= 0.98330 test cost= 0.10288 test acc= 0.98330\n",
      "Epoch: 0036 train cost= 0.11125 train acc= 0.98680 test cost= 0.11125 test acc= 0.98680\n",
      "Epoch: 0037 train cost= 0.14628 train acc= 0.98110 test cost= 0.14628 test acc= 0.98110\n",
      "Epoch: 0038 train cost= 0.12191 train acc= 0.98510 test cost= 0.12191 test acc= 0.98510\n",
      "Epoch: 0039 train cost= 0.10009 train acc= 0.98720 test cost= 0.10009 test acc= 0.98720\n",
      "Epoch: 0040 train cost= 0.10354 train acc= 0.98670 test cost= 0.10354 test acc= 0.98670\n",
      "Epoch: 0041 train cost= 0.12248 train acc= 0.98450 test cost= 0.12248 test acc= 0.98450\n",
      "Epoch: 0042 train cost= 0.11445 train acc= 0.98660 test cost= 0.11445 test acc= 0.98660\n",
      "Epoch: 0043 train cost= 0.12715 train acc= 0.98480 test cost= 0.12715 test acc= 0.98480\n",
      "Epoch: 0044 train cost= 0.11129 train acc= 0.98780 test cost= 0.11129 test acc= 0.98780\n",
      "Epoch: 0045 train cost= 0.16919 train acc= 0.98120 test cost= 0.16919 test acc= 0.98120\n",
      "Epoch: 0046 train cost= 0.14900 train acc= 0.98670 test cost= 0.14900 test acc= 0.98670\n",
      "Epoch: 0047 train cost= 0.13717 train acc= 0.98560 test cost= 0.13717 test acc= 0.98560\n",
      "Epoch: 0048 train cost= 0.15613 train acc= 0.98540 test cost= 0.15613 test acc= 0.98540\n",
      "Epoch: 0049 train cost= 0.15246 train acc= 0.98300 test cost= 0.15246 test acc= 0.98300\n",
      "Epoch: 0050 train cost= 0.16372 train acc= 0.98410 test cost= 0.16372 test acc= 0.98410\n",
      "Optimization Finished!\n"
     ]
    }
   ],
   "source": [
    "# Initializing the variables\n",
    "#merged = tf.summary.merge_all()\n",
    "#merged = tf.summary.merge(\n",
    "    \n",
    "train_summary_op = tf.summary.merge([acc_summary_train, loss_summary_train])\n",
    "test_summary_op = tf.summary.merge([acc_summary_test, loss_summary_test])\n",
    "    \n",
    "#train_list = [encorder_pard, train, optimizer, cost, accuracy]\n",
    "\n",
    "init = tf.global_variables_initializer()\n",
    "\n",
    "if tf.gfile.Exists(log_dir):\n",
    "    tf.gfile.DeleteRecursively(log_dir)\n",
    "tf.gfile.MakeDirs(log_dir)\n",
    "\n",
    "saver = tf.train.Saver()\n",
    "# Launch the graph\n",
    "with tf.Session() as sess:\n",
    "    sess.run(init)\n",
    "    train_writer = tf.summary.FileWriter(log_dir + '/summaries/train', sess.graph)\n",
    "    test_writer = tf.summary.FileWriter(log_dir + '/summaries/test')\n",
    "\n",
    "    total_batch = int(mnist.train.num_examples/batch_size)\n",
    "    # Training cycle\n",
    "    for epoch in range(training_epochs):\n",
    "        # Loop over all batches\n",
    "        for i in range(total_batch):\n",
    "            batch_x, batch_y = mnist.train.next_batch(batch_size)\n",
    "            imgs = batch_x.reshape((-1, 28, 28, 1))\n",
    "            # Run optimization op (backprop) adn cost op (to get loss value)\n",
    "            #summary, _, c, a = sess.run([merged, optimizer, cost, accuracy], feed_dict={X: imgs, y_:batch_y})\n",
    "            model_summary, train_summary, _, c, a = sess.run([model_summary_op, train_summary_op, optimizer, cost, accuracy], \n",
    "                                                             feed_dict={X: imgs, y_:batch_y})\n",
    "        ## Test\n",
    "        batch_x, batch_y = mnist.test.next_batch(10000) \n",
    "        imgs = batch_x.reshape((-1, 28, 28, 1))\n",
    "        test_summary, c, a = sess.run([test_summary_op, cost, accuracy], \n",
    "                                          feed_dict={X: imgs, y_:batch_y})    \n",
    "        # Display logs per epoch step\n",
    "        if epoch % display_step == 0:\n",
    "            print(\"Epoch:\", '%04d' % (epoch+1), \"train cost=\", \"{:.5f}\".format(c), \"train acc=\", \"{:.5f}\".format(a), \n",
    "                                                \"test cost=\", \"{:.5f}\".format(c), \"test acc=\", \"{:.5f}\".format(a))\n",
    "            sys.stdout.flush()\n",
    "    \n",
    "        train_writer.add_summary(model_summary, epoch)\n",
    "        train_writer.add_summary(train_summary, epoch)\n",
    "        test_writer.add_summary(test_summary, epoch)\n",
    "    print(\"Optimization Finished!\")\n",
    "    train_writer.close()\n",
    "    test_writer.close()\n",
    "    saver.save(sess, log_dir + \"model/my_model\")\n",
    "\n",
    "sess.close()"
   ]
  },
  {
   "cell_type": "code",
   "execution_count": 12,
   "metadata": {},
   "outputs": [
    {
     "name": "stdout",
     "output_type": "stream",
     "text": [
      "INFO:tensorflow:Restoring parameters from /tmp/tensorflow/conv_AE_MNIST/logsmodel/my_model\n",
      "correct label  :  [1 3 5 8 9 8 2 6 6 4]\n",
      "estimated label:  [1 3 5 8 9 8 2 6 6 4]\n"
     ]
    },
    {
     "name": "stderr",
     "output_type": "stream",
     "text": [
      "/Users/shinya/anaconda/envs/tensorflow/lib/python3.5/site-packages/matplotlib/figure.py:402: UserWarning: matplotlib is currently using a non-GUI backend, so cannot show the figure\n",
      "  \"matplotlib is currently using a non-GUI backend, \"\n"
     ]
    },
    {
     "data": {
      "image/png": "[encoded data removed]",
      "text/plain": [
       "<matplotlib.figure.Figure at 0x11545bef0>"
      ]
     },
     "metadata": {},
     "output_type": "display_data"
    }
   ],
   "source": [
    "n_data = 10\n",
    "\n",
    "saver = tf.train.Saver()\n",
    "with tf.Session() as sess:\n",
    "    saver.restore(sess, log_dir + \"model/my_model\") # not shown\n",
    "    batch_xs, batch_ys = mnist.test.next_batch(n_data)\n",
    "    in_imgs = batch_xs.reshape((n_data, 28, 28, 1))\n",
    "    output = sess.run(encoder_op, feed_dict={X: in_imgs})\n",
    "    # Compare original images with their reconstructions\n",
    "    f, a = plt.subplots(1, n_data, figsize=(10, 2))\n",
    "    for i in range(examples_to_show):\n",
    "        a[i].imshow(np.reshape(batch_xs[i], (28, 28)))\n",
    "    print(\"correct label  : \", np.argmax(batch_ys, axis=1))    \n",
    "    print(\"estimated label: \", np.argmax(output, axis=1))\n",
    "    f.show()"
   ]
  },
  {
   "cell_type": "code",
   "execution_count": 20,
   "metadata": {},
   "outputs": [
    {
     "name": "stdout",
     "output_type": "stream",
     "text": [
      "INFO:tensorflow:Restoring parameters from /tmp/tensorflow/conv_AE_MNIST/logsmodel/my_model\n"
     ]
    },
    {
     "data": {
      "image/png": "[encoded data removed]",
      "text/plain": [
       "<matplotlib.figure.Figure at 0x11a191358>"
      ]
     },
     "metadata": {},
     "output_type": "display_data"
    }
   ],
   "source": [
    "saver = tf.train.Saver()\n",
    "channel = 10\n",
    "with tf.Session() as sess:\n",
    "    saver.restore(sess, log_dir + \"model/my_model\") # not shown\n",
    "    var = tf.get_collection(tf.GraphKeys.TRAINABLE_VARIABLES)\n",
    "    conv1 = sess.run(var[0])\n",
    "    # Compare original images with their reconstructions\n",
    "    f, a = plt.subplots(3, channel, figsize=(20, 5))\n",
    "    for i in range(channel):\n",
    "        a[0][i].imshow(np.reshape(conv1[:,:,0,3*i], (5, 5)))\n",
    "        a[1][i].imshow(np.reshape(conv1[:,:,0,3*i+1], (5, 5)))\n",
    "        a[2][i].imshow(np.reshape(conv1[:,:,0,3*i+2], (5, 5)))"
   ]
  },
  {
   "cell_type": "code",
   "execution_count": 17,
   "metadata": {},
   "outputs": [
    {
     "name": "stdout",
     "output_type": "stream",
     "text": [
      "<tf.Variable 'encoder_part/enc_conv1/conv2d/kernel:0' shape=(5, 5, 1, 30) dtype=float32_ref>\n",
      "<tf.Variable 'encoder_part/enc_conv1/conv2d/bias:0' shape=(30,) dtype=float32_ref>\n",
      "<tf.Variable 'encoder_part/enc_conv2/conv2d/kernel:0' shape=(5, 5, 30, 16) dtype=float32_ref>\n",
      "<tf.Variable 'encoder_part/enc_conv2/conv2d/bias:0' shape=(16,) dtype=float32_ref>\n",
      "<tf.Variable 'encoder_part/enc_conv3/conv2d/kernel:0' shape=(5, 5, 16, 8) dtype=float32_ref>\n",
      "<tf.Variable 'encoder_part/enc_conv3/conv2d/bias:0' shape=(8,) dtype=float32_ref>\n",
      "<tf.Variable 'encoder_part/dence1/dense/kernel:0' shape=(128, 10) dtype=float32_ref>\n",
      "<tf.Variable 'encoder_part/dence1/dense/bias:0' shape=(10,) dtype=float32_ref>\n"
     ]
    }
   ],
   "source": [
    "for v in tf.get_collection(tf.GraphKeys.TRAINABLE_VARIABLES):\n",
    "    print(v)"
   ]
  },
  {
   "cell_type": "markdown",
   "metadata": {
    "collapsed": true
   },
   "source": [
    "## クラスタリング\n",
    "\n",
    "中間層の出力をTensorboardでクラスタリングしてみます。\n",
    "\n",
    "入力：テストデータ\n",
    "embeddingデータ： 中間層のデータ"
   ]
  },
  {
   "cell_type": "code",
   "execution_count": 21,
   "metadata": {
    "collapsed": true
   },
   "outputs": [],
   "source": [
    "import os\n",
    "from tensorflow.contrib.tensorboard.plugins import projector"
   ]
  },
  {
   "cell_type": "code",
   "execution_count": 22,
   "metadata": {
    "scrolled": true
   },
   "outputs": [
    {
     "name": "stdout",
     "output_type": "stream",
     "text": [
      "INFO:tensorflow:Restoring parameters from /tmp/tensorflow/conv_AE_MNIST/logsmodel/my_model\n"
     ]
    }
   ],
   "source": [
    "n_data = 10000\n",
    "\n",
    "saver = tf.train.Saver()\n",
    "with tf.Session() as sess:\n",
    "    saver.restore(sess, log_dir + \"model/my_model\") # not shown\n",
    "    batch_xs, batch_ys = mnist.test.next_batch(n_data)\n",
    "    imgs = batch_xs.reshape((-1, 28, 28, 1))\n",
    "    hidden_tmp = sess.run(encoder_op, feed_dict={X: imgs})"
   ]
  },
  {
   "cell_type": "markdown",
   "metadata": {},
   "source": [
    "### メタデータファイルの作成\n",
    "\n",
    "メタデータファイルは、  \n",
    "* 最初の行にカラム名を記述  \n",
    "* メタ情報を2行目以降に記述  \n",
    "\n",
    "例えば、MNISTの画像のメタデータを作る場合は、以下のように最初のカラムにインデックス、次のカラムにラベル名（数字）を指定します。"
   ]
  },
  {
   "cell_type": "code",
   "execution_count": 23,
   "metadata": {
    "collapsed": true
   },
   "outputs": [],
   "source": [
    "# \n",
    "#LOG_DIR = \"/tmp/tensorflow/conv_AE_MNIST/logs\"\n",
    "\n",
    "# recreate log directory\n",
    "if tf.gfile.Exists(log_dir + '/projector'):\n",
    "    tf.gfile.DeleteRecursively(log_dir + '/projector')\n",
    "tf.gfile.MakeDirs(log_dir + '/projector')"
   ]
  },
  {
   "cell_type": "code",
   "execution_count": 24,
   "metadata": {
    "collapsed": true
   },
   "outputs": [],
   "source": [
    "ys = batch_ys\n",
    "with open(os.path.join(log_dir, 'projector/metadata.tsv'),'w') as f:\n",
    "    #f.write(\"Index\\tLabel\\n\")\n",
    "    for index, label in enumerate(ys):\n",
    "        f.write('{}\\n'.format(label))"
   ]
  },
  {
   "cell_type": "markdown",
   "metadata": {},
   "source": [
    "### クラスタ用のembeddingを保存"
   ]
  },
  {
   "cell_type": "code",
   "execution_count": 25,
   "metadata": {},
   "outputs": [
    {
     "ename": "NameError",
     "evalue": "name 'hidden' is not defined",
     "output_type": "error",
     "traceback": [
      "\u001b[0;31m---------------------------------------------------------------------------\u001b[0m",
      "\u001b[0;31mNameError\u001b[0m                                 Traceback (most recent call last)",
      "\u001b[0;32m<ipython-input-25-9b947eeee644>\u001b[0m in \u001b[0;36m<module>\u001b[0;34m()\u001b[0m\n\u001b[0;32m----> 1\u001b[0;31m \u001b[0mxs\u001b[0m \u001b[0;34m=\u001b[0m \u001b[0mtf\u001b[0m\u001b[0;34m.\u001b[0m\u001b[0mstack\u001b[0m\u001b[0;34m(\u001b[0m\u001b[0mhidden\u001b[0m\u001b[0;34m,\u001b[0m \u001b[0maxis\u001b[0m\u001b[0;34m=\u001b[0m\u001b[0;36m0\u001b[0m\u001b[0;34m)\u001b[0m\u001b[0;34m\u001b[0m\u001b[0m\n\u001b[0m\u001b[1;32m      2\u001b[0m \u001b[0;34m\u001b[0m\u001b[0m\n\u001b[1;32m      3\u001b[0m \u001b[0;32mwith\u001b[0m \u001b[0mtf\u001b[0m\u001b[0;34m.\u001b[0m\u001b[0mvariable_scope\u001b[0m\u001b[0;34m(\u001b[0m\u001b[0;34m'hidden_embedding'\u001b[0m\u001b[0;34m)\u001b[0m\u001b[0;34m:\u001b[0m\u001b[0;34m\u001b[0m\u001b[0m\n\u001b[1;32m      4\u001b[0m     \u001b[0membedding_var\u001b[0m \u001b[0;34m=\u001b[0m \u001b[0mtf\u001b[0m\u001b[0;34m.\u001b[0m\u001b[0mVariable\u001b[0m\u001b[0;34m(\u001b[0m\u001b[0mxs\u001b[0m\u001b[0;34m,\u001b[0m \u001b[0mtrainable\u001b[0m\u001b[0;34m=\u001b[0m\u001b[0;32mFalse\u001b[0m\u001b[0;34m,\u001b[0m \u001b[0mname\u001b[0m\u001b[0;34m=\u001b[0m\u001b[0;34m'embedding'\u001b[0m\u001b[0;34m)\u001b[0m\u001b[0;34m\u001b[0m\u001b[0m\n\u001b[1;32m      5\u001b[0m \u001b[0;34m\u001b[0m\u001b[0m\n",
      "\u001b[0;31mNameError\u001b[0m: name 'hidden' is not defined"
     ]
    }
   ],
   "source": [
    "xs = tf.stack(hidden, axis=0)\n",
    "\n",
    "with tf.variable_scope('hidden_embedding'):\n",
    "    embedding_var = tf.Variable(xs, trainable=False, name='embedding')\n",
    "\n",
    "\n",
    "summary_writer = tf.summary.FileWriter(os.path.join(log_dir, 'projector'), sess.graph)\n",
    "\n",
    "config = projector.ProjectorConfig()\n",
    "embedding = config.embeddings.add()\n",
    "embedding.tensor_name = embedding_var.name\n",
    "\n",
    "# metadata \n",
    "embedding.metadata_path = os.path.join(log_dir, 'projector/metadata.tsv')\n",
    "\n",
    "# stripe \n",
    "#embedding.sprite.image_path = os.path.join(LOG_DIR, 'sprite_image.png')\n",
    "#embedding.sprite.single_image_dim.extend([28,28])\n",
    "\n",
    "projector.visualize_embeddings(summary_writer, config)\n",
    "\n",
    "\n",
    "#sess = tf.InteractiveSession()\n",
    "\n",
    "# initialize \"embedding_ver\"\n",
    "init = tf.variables_initializer([embedding_var])\n",
    "\n",
    "with tf.Session() as sess:\n",
    "    sess.run(init)\n",
    "    # specify variable to save \n",
    "    saver = tf.train.Saver([embedding_var])\n",
    "    # save variables \n",
    "    saver.save(sess, os.path.join(log_dir, \"projector/model.ckpt\"), global_step=n_data)"
   ]
  },
  {
   "cell_type": "markdown",
   "metadata": {},
   "source": [
    "## Tensorboard 起動\n",
    "\n",
    "tensorboard --logdir=/tmp/tensorflow/tensorboard"
   ]
  },
  {
   "cell_type": "code",
   "execution_count": null,
   "metadata": {},
   "outputs": [
    {
     "name": "stdout",
     "output_type": "stream",
     "text": [
      "Starting TensorBoard b'54' at http://shinya-no-MacBook-Pro.local:6006\n",
      "(Press CTRL+C to quit)\n",
      "Error on request:\n",
      "Traceback (most recent call last):\n",
      "  File \"/Users/shinya/anaconda/envs/tensorflow/lib/python3.5/site-packages/werkzeug/serving.py\", line 209, in run_wsgi\n",
      "    execute(self.server.app)\n",
      "  File \"/Users/shinya/anaconda/envs/tensorflow/lib/python3.5/site-packages/werkzeug/serving.py\", line 197, in execute\n",
      "    application_iter = app(environ, start_response)\n",
      "  File \"/Users/shinya/anaconda/envs/tensorflow/lib/python3.5/site-packages/tensorflow/tensorboard/backend/application.py\", line 627, in __call__\n",
      "    return self.data_applications[clean_path](environ, start_response)\n",
      "  File \"/Users/shinya/anaconda/envs/tensorflow/lib/python3.5/site-packages/werkzeug/wrappers.py\", line 301, in application\n",
      "    return f(*args[:-2] + (request,))(*args[-2:])\n",
      "  File \"/Users/shinya/anaconda/envs/tensorflow/lib/python3.5/site-packages/tensorflow/tensorboard/backend/application.py\", line 359, in _serve_histograms\n",
      "    values = self._multiplexer.Histograms(run, tag)\n",
      "  File \"/Users/shinya/anaconda/envs/tensorflow/lib/python3.5/site-packages/tensorflow/tensorboard/backend/event_processing/event_multiplexer.py\", line 369, in Histograms\n",
      "    return accumulator.Histograms(tag)\n",
      "  File \"/Users/shinya/anaconda/envs/tensorflow/lib/python3.5/site-packages/tensorflow/tensorboard/backend/event_processing/event_accumulator.py\", line 513, in Histograms\n",
      "    return self._histograms.Items(tag)\n",
      "  File \"/Users/shinya/anaconda/envs/tensorflow/lib/python3.5/site-packages/tensorflow/tensorboard/backend/event_processing/reservoir.py\", line 104, in Items\n",
      "    raise KeyError('Key %s was not found in Reservoir' % key)\n",
      "KeyError: 'Key decoder_part/dec_conv4/weights/summaries/histogram was not found in Reservoir'\n",
      "Error on request:\n",
      "Traceback (most recent call last):\n",
      "  File \"/Users/shinya/anaconda/envs/tensorflow/lib/python3.5/site-packages/werkzeug/serving.py\", line 209, in run_wsgi\n",
      "    execute(self.server.app)\n",
      "  File \"/Users/shinya/anaconda/envs/tensorflow/lib/python3.5/site-packages/werkzeug/serving.py\", line 197, in execute\n",
      "    application_iter = app(environ, start_response)\n",
      "  File \"/Users/shinya/anaconda/envs/tensorflow/lib/python3.5/site-packages/tensorflow/tensorboard/backend/application.py\", line 627, in __call__\n",
      "    return self.data_applications[clean_path](environ, start_response)\n",
      "  File \"/Users/shinya/anaconda/envs/tensorflow/lib/python3.5/site-packages/werkzeug/wrappers.py\", line 301, in application\n",
      "    return f(*args[:-2] + (request,))(*args[-2:])\n",
      "  File \"/Users/shinya/anaconda/envs/tensorflow/lib/python3.5/site-packages/tensorflow/tensorboard/backend/application.py\", line 359, in _serve_histograms\n",
      "    values = self._multiplexer.Histograms(run, tag)\n",
      "  File \"/Users/shinya/anaconda/envs/tensorflow/lib/python3.5/site-packages/tensorflow/tensorboard/backend/event_processing/event_multiplexer.py\", line 369, in Histograms\n",
      "    return accumulator.Histograms(tag)\n",
      "  File \"/Users/shinya/anaconda/envs/tensorflow/lib/python3.5/site-packages/tensorflow/tensorboard/backend/event_processing/event_accumulator.py\", line 513, in Histograms\n",
      "    return self._histograms.Items(tag)\n",
      "  File \"/Users/shinya/anaconda/envs/tensorflow/lib/python3.5/site-packages/tensorflow/tensorboard/backend/event_processing/reservoir.py\", line 104, in Items\n",
      "    raise KeyError('Key %s was not found in Reservoir' % key)\n",
      "KeyError: 'Key decoder_part/dec_conv4/activation/activations was not found in Reservoir'\n",
      "Error on request:\n",
      "Traceback (most recent call last):\n",
      "  File \"/Users/shinya/anaconda/envs/tensorflow/lib/python3.5/site-packages/werkzeug/serving.py\", line 209, in run_wsgi\n",
      "    execute(self.server.app)\n",
      "  File \"/Users/shinya/anaconda/envs/tensorflow/lib/python3.5/site-packages/werkzeug/serving.py\", line 197, in execute\n",
      "    application_iter = app(environ, start_response)\n",
      "  File \"/Users/shinya/anaconda/envs/tensorflow/lib/python3.5/site-packages/tensorflow/tensorboard/backend/application.py\", line 627, in __call__\n",
      "    return self.data_applications[clean_path](environ, start_response)\n",
      "  File \"/Users/shinya/anaconda/envs/tensorflow/lib/python3.5/site-packages/werkzeug/wrappers.py\", line 301, in application\n",
      "    return f(*args[:-2] + (request,))(*args[-2:])\n",
      "  File \"/Users/shinya/anaconda/envs/tensorflow/lib/python3.5/site-packages/tensorflow/tensorboard/backend/application.py\", line 359, in _serve_histograms\n",
      "    values = self._multiplexer.Histograms(run, tag)\n",
      "  File \"/Users/shinya/anaconda/envs/tensorflow/lib/python3.5/site-packages/tensorflow/tensorboard/backend/event_processing/event_multiplexer.py\", line 369, in Histograms\n",
      "    return accumulator.Histograms(tag)\n",
      "  File \"/Users/shinya/anaconda/envs/tensorflow/lib/python3.5/site-packages/tensorflow/tensorboard/backend/event_processing/event_accumulator.py\", line 513, in Histograms\n",
      "    return self._histograms.Items(tag)\n",
      "  File \"/Users/shinya/anaconda/envs/tensorflow/lib/python3.5/site-packages/tensorflow/tensorboard/backend/event_processing/reservoir.py\", line 104, in Items\n",
      "    raise KeyError('Key %s was not found in Reservoir' % key)\n",
      "KeyError: 'Key decoder_part/dec_conv4/biases/summaries/histogram was not found in Reservoir'\n",
      "Error on request:\n",
      "Traceback (most recent call last):\n",
      "  File \"/Users/shinya/anaconda/envs/tensorflow/lib/python3.5/site-packages/werkzeug/serving.py\", line 209, in run_wsgi\n",
      "    execute(self.server.app)\n",
      "  File \"/Users/shinya/anaconda/envs/tensorflow/lib/python3.5/site-packages/werkzeug/serving.py\", line 197, in execute\n",
      "    application_iter = app(environ, start_response)\n",
      "  File \"/Users/shinya/anaconda/envs/tensorflow/lib/python3.5/site-packages/tensorflow/tensorboard/backend/application.py\", line 627, in __call__\n",
      "    return self.data_applications[clean_path](environ, start_response)\n",
      "  File \"/Users/shinya/anaconda/envs/tensorflow/lib/python3.5/site-packages/werkzeug/wrappers.py\", line 301, in application\n",
      "    return f(*args[:-2] + (request,))(*args[-2:])\n",
      "  File \"/Users/shinya/anaconda/envs/tensorflow/lib/python3.5/site-packages/tensorflow/tensorboard/backend/application.py\", line 359, in _serve_histograms\n",
      "    values = self._multiplexer.Histograms(run, tag)\n",
      "  File \"/Users/shinya/anaconda/envs/tensorflow/lib/python3.5/site-packages/tensorflow/tensorboard/backend/event_processing/event_multiplexer.py\", line 369, in Histograms\n",
      "    return accumulator.Histograms(tag)\n",
      "  File \"/Users/shinya/anaconda/envs/tensorflow/lib/python3.5/site-packages/tensorflow/tensorboard/backend/event_processing/event_accumulator.py\", line 513, in Histograms\n",
      "    return self._histograms.Items(tag)\n",
      "  File \"/Users/shinya/anaconda/envs/tensorflow/lib/python3.5/site-packages/tensorflow/tensorboard/backend/event_processing/reservoir.py\", line 104, in Items\n",
      "    raise KeyError('Key %s was not found in Reservoir' % key)\n",
      "KeyError: 'Key decoder_part/dec_conv4/weights/summaries/histogram was not found in Reservoir'\n",
      "Error on request:\n",
      "Traceback (most recent call last):\n",
      "  File \"/Users/shinya/anaconda/envs/tensorflow/lib/python3.5/site-packages/werkzeug/serving.py\", line 209, in run_wsgi\n",
      "    execute(self.server.app)\n",
      "  File \"/Users/shinya/anaconda/envs/tensorflow/lib/python3.5/site-packages/werkzeug/serving.py\", line 197, in execute\n",
      "    application_iter = app(environ, start_response)\n",
      "  File \"/Users/shinya/anaconda/envs/tensorflow/lib/python3.5/site-packages/tensorflow/tensorboard/backend/application.py\", line 627, in __call__\n",
      "    return self.data_applications[clean_path](environ, start_response)\n",
      "  File \"/Users/shinya/anaconda/envs/tensorflow/lib/python3.5/site-packages/werkzeug/wrappers.py\", line 301, in application\n",
      "    return f(*args[:-2] + (request,))(*args[-2:])\n",
      "  File \"/Users/shinya/anaconda/envs/tensorflow/lib/python3.5/site-packages/tensorflow/tensorboard/backend/application.py\", line 359, in _serve_histograms\n",
      "    values = self._multiplexer.Histograms(run, tag)\n",
      "  File \"/Users/shinya/anaconda/envs/tensorflow/lib/python3.5/site-packages/tensorflow/tensorboard/backend/event_processing/event_multiplexer.py\", line 369, in Histograms\n",
      "    return accumulator.Histograms(tag)\n",
      "  File \"/Users/shinya/anaconda/envs/tensorflow/lib/python3.5/site-packages/tensorflow/tensorboard/backend/event_processing/event_accumulator.py\", line 513, in Histograms\n",
      "    return self._histograms.Items(tag)\n",
      "  File \"/Users/shinya/anaconda/envs/tensorflow/lib/python3.5/site-packages/tensorflow/tensorboard/backend/event_processing/reservoir.py\", line 104, in Items\n",
      "    raise KeyError('Key %s was not found in Reservoir' % key)\n",
      "KeyError: 'Key decoder_part/dec_conv4/biases/summaries/histogram was not found in Reservoir'\n"
     ]
    },
    {
     "name": "stdout",
     "output_type": "stream",
     "text": [
      "Error on request:\n",
      "Traceback (most recent call last):\n",
      "  File \"/Users/shinya/anaconda/envs/tensorflow/lib/python3.5/site-packages/werkzeug/serving.py\", line 209, in run_wsgi\n",
      "    execute(self.server.app)\n",
      "  File \"/Users/shinya/anaconda/envs/tensorflow/lib/python3.5/site-packages/werkzeug/serving.py\", line 197, in execute\n",
      "    application_iter = app(environ, start_response)\n",
      "  File \"/Users/shinya/anaconda/envs/tensorflow/lib/python3.5/site-packages/tensorflow/tensorboard/backend/application.py\", line 627, in __call__\n",
      "    return self.data_applications[clean_path](environ, start_response)\n",
      "  File \"/Users/shinya/anaconda/envs/tensorflow/lib/python3.5/site-packages/werkzeug/wrappers.py\", line 301, in application\n",
      "    return f(*args[:-2] + (request,))(*args[-2:])\n",
      "  File \"/Users/shinya/anaconda/envs/tensorflow/lib/python3.5/site-packages/tensorflow/tensorboard/backend/application.py\", line 359, in _serve_histograms\n",
      "    values = self._multiplexer.Histograms(run, tag)\n",
      "  File \"/Users/shinya/anaconda/envs/tensorflow/lib/python3.5/site-packages/tensorflow/tensorboard/backend/event_processing/event_multiplexer.py\", line 369, in Histograms\n",
      "    return accumulator.Histograms(tag)\n",
      "  File \"/Users/shinya/anaconda/envs/tensorflow/lib/python3.5/site-packages/tensorflow/tensorboard/backend/event_processing/event_accumulator.py\", line 513, in Histograms\n",
      "    return self._histograms.Items(tag)\n",
      "  File \"/Users/shinya/anaconda/envs/tensorflow/lib/python3.5/site-packages/tensorflow/tensorboard/backend/event_processing/reservoir.py\", line 104, in Items\n",
      "    raise KeyError('Key %s was not found in Reservoir' % key)\n",
      "KeyError: 'Key decoder_part/dec_conv4/activation/activations was not found in Reservoir'\n",
      "Error on request:\n",
      "Traceback (most recent call last):\n",
      "  File \"/Users/shinya/anaconda/envs/tensorflow/lib/python3.5/site-packages/werkzeug/serving.py\", line 209, in run_wsgi\n",
      "    execute(self.server.app)\n",
      "  File \"/Users/shinya/anaconda/envs/tensorflow/lib/python3.5/site-packages/werkzeug/serving.py\", line 197, in execute\n",
      "    application_iter = app(environ, start_response)\n",
      "  File \"/Users/shinya/anaconda/envs/tensorflow/lib/python3.5/site-packages/tensorflow/tensorboard/backend/application.py\", line 627, in __call__\n",
      "    return self.data_applications[clean_path](environ, start_response)\n",
      "  File \"/Users/shinya/anaconda/envs/tensorflow/lib/python3.5/site-packages/werkzeug/wrappers.py\", line 301, in application\n",
      "    return f(*args[:-2] + (request,))(*args[-2:])\n",
      "  File \"/Users/shinya/anaconda/envs/tensorflow/lib/python3.5/site-packages/tensorflow/tensorboard/backend/application.py\", line 359, in _serve_histograms\n",
      "    values = self._multiplexer.Histograms(run, tag)\n",
      "  File \"/Users/shinya/anaconda/envs/tensorflow/lib/python3.5/site-packages/tensorflow/tensorboard/backend/event_processing/event_multiplexer.py\", line 369, in Histograms\n",
      "    return accumulator.Histograms(tag)\n",
      "  File \"/Users/shinya/anaconda/envs/tensorflow/lib/python3.5/site-packages/tensorflow/tensorboard/backend/event_processing/event_accumulator.py\", line 513, in Histograms\n",
      "    return self._histograms.Items(tag)\n",
      "  File \"/Users/shinya/anaconda/envs/tensorflow/lib/python3.5/site-packages/tensorflow/tensorboard/backend/event_processing/reservoir.py\", line 104, in Items\n",
      "    raise KeyError('Key %s was not found in Reservoir' % key)\n",
      "KeyError: 'Key decoder_part/dec_conv4/weights/summaries/histogram was not found in Reservoir'\n",
      "Error on request:\n",
      "Traceback (most recent call last):\n",
      "  File \"/Users/shinya/anaconda/envs/tensorflow/lib/python3.5/site-packages/werkzeug/serving.py\", line 209, in run_wsgi\n",
      "    execute(self.server.app)\n",
      "  File \"/Users/shinya/anaconda/envs/tensorflow/lib/python3.5/site-packages/werkzeug/serving.py\", line 197, in execute\n",
      "    application_iter = app(environ, start_response)\n",
      "  File \"/Users/shinya/anaconda/envs/tensorflow/lib/python3.5/site-packages/tensorflow/tensorboard/backend/application.py\", line 627, in __call__\n",
      "    return self.data_applications[clean_path](environ, start_response)\n",
      "  File \"/Users/shinya/anaconda/envs/tensorflow/lib/python3.5/site-packages/werkzeug/wrappers.py\", line 301, in application\n",
      "    return f(*args[:-2] + (request,))(*args[-2:])\n",
      "  File \"/Users/shinya/anaconda/envs/tensorflow/lib/python3.5/site-packages/tensorflow/tensorboard/backend/application.py\", line 359, in _serve_histograms\n",
      "    values = self._multiplexer.Histograms(run, tag)\n",
      "  File \"/Users/shinya/anaconda/envs/tensorflow/lib/python3.5/site-packages/tensorflow/tensorboard/backend/event_processing/event_multiplexer.py\", line 369, in Histograms\n",
      "    return accumulator.Histograms(tag)\n",
      "  File \"/Users/shinya/anaconda/envs/tensorflow/lib/python3.5/site-packages/tensorflow/tensorboard/backend/event_processing/event_accumulator.py\", line 513, in Histograms\n",
      "    return self._histograms.Items(tag)\n",
      "  File \"/Users/shinya/anaconda/envs/tensorflow/lib/python3.5/site-packages/tensorflow/tensorboard/backend/event_processing/reservoir.py\", line 104, in Items\n",
      "    raise KeyError('Key %s was not found in Reservoir' % key)\n",
      "KeyError: 'Key decoder_part/dec_conv4/biases/summaries/histogram was not found in Reservoir'\n",
      "Error on request:\n",
      "Traceback (most recent call last):\n",
      "  File \"/Users/shinya/anaconda/envs/tensorflow/lib/python3.5/site-packages/werkzeug/serving.py\", line 209, in run_wsgi\n",
      "    execute(self.server.app)\n",
      "  File \"/Users/shinya/anaconda/envs/tensorflow/lib/python3.5/site-packages/werkzeug/serving.py\", line 197, in execute\n",
      "    application_iter = app(environ, start_response)\n",
      "  File \"/Users/shinya/anaconda/envs/tensorflow/lib/python3.5/site-packages/tensorflow/tensorboard/backend/application.py\", line 627, in __call__\n",
      "    return self.data_applications[clean_path](environ, start_response)\n",
      "  File \"/Users/shinya/anaconda/envs/tensorflow/lib/python3.5/site-packages/werkzeug/wrappers.py\", line 301, in application\n",
      "    return f(*args[:-2] + (request,))(*args[-2:])\n",
      "  File \"/Users/shinya/anaconda/envs/tensorflow/lib/python3.5/site-packages/tensorflow/tensorboard/backend/application.py\", line 359, in _serve_histograms\n",
      "    values = self._multiplexer.Histograms(run, tag)\n",
      "  File \"/Users/shinya/anaconda/envs/tensorflow/lib/python3.5/site-packages/tensorflow/tensorboard/backend/event_processing/event_multiplexer.py\", line 369, in Histograms\n",
      "    return accumulator.Histograms(tag)\n",
      "  File \"/Users/shinya/anaconda/envs/tensorflow/lib/python3.5/site-packages/tensorflow/tensorboard/backend/event_processing/event_accumulator.py\", line 513, in Histograms\n",
      "    return self._histograms.Items(tag)\n",
      "  File \"/Users/shinya/anaconda/envs/tensorflow/lib/python3.5/site-packages/tensorflow/tensorboard/backend/event_processing/reservoir.py\", line 104, in Items\n",
      "    raise KeyError('Key %s was not found in Reservoir' % key)\n",
      "KeyError: 'Key decoder_part/dec_conv4/activation/activations was not found in Reservoir'\n",
      "Error on request:\n",
      "Traceback (most recent call last):\n",
      "  File \"/Users/shinya/anaconda/envs/tensorflow/lib/python3.5/site-packages/werkzeug/serving.py\", line 209, in run_wsgi\n",
      "    execute(self.server.app)\n",
      "  File \"/Users/shinya/anaconda/envs/tensorflow/lib/python3.5/site-packages/werkzeug/serving.py\", line 197, in execute\n",
      "    application_iter = app(environ, start_response)\n",
      "  File \"/Users/shinya/anaconda/envs/tensorflow/lib/python3.5/site-packages/tensorflow/tensorboard/backend/application.py\", line 627, in __call__\n",
      "    return self.data_applications[clean_path](environ, start_response)\n",
      "  File \"/Users/shinya/anaconda/envs/tensorflow/lib/python3.5/site-packages/werkzeug/wrappers.py\", line 301, in application\n",
      "    return f(*args[:-2] + (request,))(*args[-2:])\n",
      "  File \"/Users/shinya/anaconda/envs/tensorflow/lib/python3.5/site-packages/tensorflow/tensorboard/backend/application.py\", line 359, in _serve_histograms\n",
      "    values = self._multiplexer.Histograms(run, tag)\n",
      "  File \"/Users/shinya/anaconda/envs/tensorflow/lib/python3.5/site-packages/tensorflow/tensorboard/backend/event_processing/event_multiplexer.py\", line 369, in Histograms\n",
      "    return accumulator.Histograms(tag)\n",
      "  File \"/Users/shinya/anaconda/envs/tensorflow/lib/python3.5/site-packages/tensorflow/tensorboard/backend/event_processing/event_accumulator.py\", line 513, in Histograms\n",
      "    return self._histograms.Items(tag)\n",
      "  File \"/Users/shinya/anaconda/envs/tensorflow/lib/python3.5/site-packages/tensorflow/tensorboard/backend/event_processing/reservoir.py\", line 104, in Items\n",
      "    raise KeyError('Key %s was not found in Reservoir' % key)\n",
      "KeyError: 'Key decoder_part/dec_conv4/activation/activations was not found in Reservoir'\n",
      "Error on request:\n",
      "Traceback (most recent call last):\n",
      "  File \"/Users/shinya/anaconda/envs/tensorflow/lib/python3.5/site-packages/werkzeug/serving.py\", line 209, in run_wsgi\n",
      "    execute(self.server.app)\n",
      "  File \"/Users/shinya/anaconda/envs/tensorflow/lib/python3.5/site-packages/werkzeug/serving.py\", line 197, in execute\n",
      "    application_iter = app(environ, start_response)\n",
      "  File \"/Users/shinya/anaconda/envs/tensorflow/lib/python3.5/site-packages/tensorflow/tensorboard/backend/application.py\", line 627, in __call__\n",
      "    return self.data_applications[clean_path](environ, start_response)\n",
      "  File \"/Users/shinya/anaconda/envs/tensorflow/lib/python3.5/site-packages/werkzeug/wrappers.py\", line 301, in application\n",
      "    return f(*args[:-2] + (request,))(*args[-2:])\n",
      "  File \"/Users/shinya/anaconda/envs/tensorflow/lib/python3.5/site-packages/tensorflow/tensorboard/backend/application.py\", line 359, in _serve_histograms\n",
      "    values = self._multiplexer.Histograms(run, tag)\n",
      "  File \"/Users/shinya/anaconda/envs/tensorflow/lib/python3.5/site-packages/tensorflow/tensorboard/backend/event_processing/event_multiplexer.py\", line 369, in Histograms\n",
      "    return accumulator.Histograms(tag)\n",
      "  File \"/Users/shinya/anaconda/envs/tensorflow/lib/python3.5/site-packages/tensorflow/tensorboard/backend/event_processing/event_accumulator.py\", line 513, in Histograms\n",
      "    return self._histograms.Items(tag)\n",
      "  File \"/Users/shinya/anaconda/envs/tensorflow/lib/python3.5/site-packages/tensorflow/tensorboard/backend/event_processing/reservoir.py\", line 104, in Items\n",
      "    raise KeyError('Key %s was not found in Reservoir' % key)\n",
      "KeyError: 'Key decoder_part/dec_conv4/weights/summaries/histogram was not found in Reservoir'\n",
      "Error on request:\n",
      "Traceback (most recent call last):\n",
      "  File \"/Users/shinya/anaconda/envs/tensorflow/lib/python3.5/site-packages/werkzeug/serving.py\", line 209, in run_wsgi\n",
      "    execute(self.server.app)\n",
      "  File \"/Users/shinya/anaconda/envs/tensorflow/lib/python3.5/site-packages/werkzeug/serving.py\", line 197, in execute\n",
      "    application_iter = app(environ, start_response)\n",
      "  File \"/Users/shinya/anaconda/envs/tensorflow/lib/python3.5/site-packages/tensorflow/tensorboard/backend/application.py\", line 627, in __call__\n",
      "    return self.data_applications[clean_path](environ, start_response)\n",
      "  File \"/Users/shinya/anaconda/envs/tensorflow/lib/python3.5/site-packages/werkzeug/wrappers.py\", line 301, in application\n",
      "    return f(*args[:-2] + (request,))(*args[-2:])\n",
      "  File \"/Users/shinya/anaconda/envs/tensorflow/lib/python3.5/site-packages/tensorflow/tensorboard/backend/application.py\", line 359, in _serve_histograms\n",
      "    values = self._multiplexer.Histograms(run, tag)\n",
      "  File \"/Users/shinya/anaconda/envs/tensorflow/lib/python3.5/site-packages/tensorflow/tensorboard/backend/event_processing/event_multiplexer.py\", line 369, in Histograms\n",
      "    return accumulator.Histograms(tag)\n",
      "  File \"/Users/shinya/anaconda/envs/tensorflow/lib/python3.5/site-packages/tensorflow/tensorboard/backend/event_processing/event_accumulator.py\", line 513, in Histograms\n",
      "    return self._histograms.Items(tag)\n",
      "  File \"/Users/shinya/anaconda/envs/tensorflow/lib/python3.5/site-packages/tensorflow/tensorboard/backend/event_processing/reservoir.py\", line 104, in Items\n",
      "    raise KeyError('Key %s was not found in Reservoir' % key)\n",
      "KeyError: 'Key decoder_part/dec_conv4/biases/summaries/histogram was not found in Reservoir'\n"
     ]
    }
   ],
   "source": [
    "!tensorboard --logdir=/tmp/tensorflow/conv_AE_MNIST"
   ]
  }
 ],
 "metadata": {
  "kernelspec": {
   "display_name": "Python 3",
   "language": "python",
   "name": "python3"
  },
  "language_info": {
   "codemirror_mode": {
    "name": "ipython",
    "version": 3
   },
   "file_extension": ".py",
   "mimetype": "text/x-python",
   "name": "python",
   "nbconvert_exporter": "python",
   "pygments_lexer": "ipython3",
   "version": "3.5.3"
  }
 },
 "nbformat": 4,
 "nbformat_minor": 2
}
