{
 "cells": [
  {
   "cell_type": "markdown",
   "metadata": {},
   "source": [
    "### functools.partial()\n",
    "\n",
    "functions.partial()を利用すると、関数やメソッドの引数の一部をある値に固定した形で新しい呼び出し可能オブジェクトを作ることができる。"
   ]
  },
  {
   "cell_type": "markdown",
   "metadata": {},
   "source": [
    "引数の値を出力するだけの関数\"output\"を定義します。  \n",
    "この関数に対して,partial() を利用すると、引数をある値に固定したままで新しい呼び出し可能オブジェクトを作成できます。"
   ]
  },
  {
   "cell_type": "code",
   "execution_count": 21,
   "metadata": {},
   "outputs": [
    {
     "name": "stdout",
     "output_type": "stream",
     "text": [
      "argu1 : 1\n",
      "argu2 : 2\n",
      "argu3 : 3\n",
      "partial function\n",
      "argu1 : 3\n",
      "argu2 : 2\n",
      "argu3 : 5\n"
     ]
    }
   ],
   "source": [
    "def output(a, b, c):\n",
    "    print('argu1 : {}'.format(a))\n",
    "    print('argu2 : {}'.format(b))\n",
    "    print('argu3 : {}'.format(c))\n",
    "    \n",
    "output(1,2,3)\n",
    "\n",
    "import functools\n",
    "print('partial function')\n",
    "output_3 = functools.partial(output, 3, c=5)\n",
    "\n",
    "output_3(2)"
   ]
  },
  {
   "cell_type": "markdown",
   "metadata": {},
   "source": [
    "### これを利用することで、Tensorflowにおいて、同じパラメータセットのlayerを簡単に作成することができます。"
   ]
  },
  {
   "cell_type": "code",
   "execution_count": null,
   "metadata": {
    "collapsed": true
   },
   "outputs": [],
   "source": [
    "my_dense_layer = partial(\n",
    "            tf.layers.dense,\n",
    "            activation=activation,\n",
    "            kernel_initializer=tf.contrib.layers.variance_scaling_initializer(),\n",
    "            kernel_regularizer=tf.contrib.layers.l2_regularizer(l2_reg))\n",
    "\n",
    "        hidden = my_dense_layer(X, n_neurons, name=\"hidden\")"
   ]
  }
 ],
 "metadata": {
  "kernelspec": {
   "display_name": "Python 3",
   "language": "python",
   "name": "python3"
  },
  "language_info": {
   "codemirror_mode": {
    "name": "ipython",
    "version": 3
   },
   "file_extension": ".py",
   "mimetype": "text/x-python",
   "name": "python",
   "nbconvert_exporter": "python",
   "pygments_lexer": "ipython3",
   "version": "3.6.1"
  }
 },
 "nbformat": 4,
 "nbformat_minor": 2
}
