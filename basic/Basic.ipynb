{
 "cells": [
  {
   "cell_type": "markdown",
   "metadata": {},
   "source": [
    "## Managing Graphs\n",
    "\n",
    "Tensorflowにおいて、複数のグラフを管理する方法について説明します。"
   ]
  },
  {
   "cell_type": "code",
   "execution_count": 1,
   "metadata": {
    "collapsed": true
   },
   "outputs": [],
   "source": [
    "import tensorflow as tf\n",
    "import numpy as np"
   ]
  },
  {
   "cell_type": "markdown",
   "metadata": {},
   "source": [
    "通常、変数や定数などのノードを作成する場合、自動的にdefault graphにノードが追加されます。\n",
    "\n",
    "追加した定数がdefault graphであることを下記のコードで確認しています。"
   ]
  },
  {
   "cell_type": "code",
   "execution_count": 2,
   "metadata": {},
   "outputs": [
    {
     "data": {
      "text/plain": [
       "True"
      ]
     },
     "execution_count": 2,
     "metadata": {},
     "output_type": "execute_result"
    }
   ],
   "source": [
    "x_default = tf.Variable(10)\n",
    "x_default.graph is tf.get_default_graph()"
   ]
  },
  {
   "cell_type": "markdown",
   "metadata": {},
   "source": [
    "複数のモデルを一つのコードで動作させたい場合は、別のgraphを作成してノードを追加していく必要があります。  \n",
    "別のgraph（ここでは\"graph1\"と命名）を作成するには、tf.Graph()を利用します。  \n",
    "下記のように、withスコープ内でノードを定義すれば、\"graph1\"にノードが追加されます。  "
   ]
  },
  {
   "cell_type": "code",
   "execution_count": 7,
   "metadata": {
    "collapsed": true
   },
   "outputs": [],
   "source": [
    "graph1 = tf.Graph()\n",
    "with graph1.as_default():\n",
    "    x_graph1 = tf.Variable(100)"
   ]
  },
  {
   "cell_type": "markdown",
   "metadata": {},
   "source": [
    "\"graph1\"で定義したノードが本当にdefault graphと異なる領域に配置されいるかを確認してみます。  \n"
   ]
  },
  {
   "cell_type": "code",
   "execution_count": 4,
   "metadata": {},
   "outputs": [
    {
     "data": {
      "text/plain": [
       "False"
      ]
     },
     "execution_count": 4,
     "metadata": {},
     "output_type": "execute_result"
    }
   ],
   "source": [
    "x_graph1.graph is tf.get_default_graph()"
   ]
  },
  {
   "cell_type": "code",
   "execution_count": 5,
   "metadata": {},
   "outputs": [
    {
     "data": {
      "text/plain": [
       "True"
      ]
     },
     "execution_count": 5,
     "metadata": {},
     "output_type": "execute_result"
    }
   ],
   "source": [
    "x_graph1.graph is graph1"
   ]
  },
  {
   "cell_type": "markdown",
   "metadata": {},
   "source": [
    "新規に作成したグラフ領域を有効にするには、\n",
    "```\n",
    "with tf.Session(graph='新規グラフ') as sess:\n",
    "\n",
    "```\n",
    "のように、セッションのh"
   ]
  },
  {
   "cell_type": "code",
   "execution_count": 10,
   "metadata": {},
   "outputs": [
    {
     "name": "stdout",
     "output_type": "stream",
     "text": [
      "defalt graph:  [10]\n",
      "graph1 :  [100]\n"
     ]
    }
   ],
   "source": [
    "# defalut graph\n",
    "with tf.Session() as sess:\n",
    "    init = tf.global_variables_initializer()\n",
    "    sess.run(init)\n",
    "    print(\"defalt graph: \", sess.run([x_default]))\n",
    "    ## print(\"defalt graph: \", sess.run([x_graph1]))  -> error \n",
    "\n",
    "\n",
    "# \"graph1\" graph\n",
    "with tf.Session(graph=graph1) as sess:\n",
    "    init = tf.global_variables_initializer()\n",
    "    sess.run(init)\n",
    "    print(\"graph1 : \", sess.run([x_graph1]))\n",
    "    ## print(\"graph1 : \", sess.run([x_default]))  -> error"
   ]
  },
  {
   "cell_type": "code",
   "execution_count": null,
   "metadata": {
    "collapsed": true
   },
   "outputs": [],
   "source": []
  }
 ],
 "metadata": {
  "kernelspec": {
   "display_name": "Python 3",
   "language": "python",
   "name": "python3"
  },
  "language_info": {
   "codemirror_mode": {
    "name": "ipython",
    "version": 3
   },
   "file_extension": ".py",
   "mimetype": "text/x-python",
   "name": "python",
   "nbconvert_exporter": "python",
   "pygments_lexer": "ipython3",
   "version": "3.5.3"
  }
 },
 "nbformat": 4,
 "nbformat_minor": 2
}
