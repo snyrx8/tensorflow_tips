{
 "cells": [
  {
   "cell_type": "markdown",
   "metadata": {},
   "source": [
    "#### パラメータの付与\n",
    "\n",
    "tf.app.flags.FLAGSを使うと、TensorFlowのPythonファイルを実行する際にパラメタを付与できる。\n",
    "\n",
    "型  \n",
    "tf.app.flags.DEFINE_string  \n",
    "tf.app.flags.DEFINE_boolean  \n",
    "tf.app.flags.DEFINE_integer   \n",
    "\n",
    "> tf.app.flags.DEFINE_string('変数名', 'デフォルト値', \"\"\"説明文\"\"\")"
   ]
  },
  {
   "cell_type": "markdown",
   "metadata": {},
   "source": [
    "(test.py　としてほz"
   ]
  },
  {
   "cell_type": "code",
   "execution_count": null,
   "metadata": {
    "collapsed": true
   },
   "outputs": [],
   "source": [
    "import tensorflow as tf  \n",
    " \n",
    "FLAGS = tf.app.flags.FLAGS  \n",
    "tf.app.flags.DEFINE_integer('data_num', 100, \"\"\"データ数\"\"\")  \n",
    "tf.app.flags.DEFINE_string('img_path', './img', \"\"\"画像ファイルパス\"\"\")  \n",
    " \n",
    "def main(argv):  \n",
    "    print(FLAGS.data_num, FLAGS.img_path)  \n",
    "\n",
    "if __name__ == '__main__':  \n",
    "    tf.app.run()  "
   ]
  },
  {
   "cell_type": "markdown",
   "metadata": {},
   "source": [
    "\n",
    "\n",
    "\n",
    "#### ヘルプを表示する\n",
    "> $ python test.py --help"
   ]
  },
  {
   "cell_type": "code",
   "execution_count": null,
   "metadata": {
    "collapsed": true
   },
   "outputs": [],
   "source": []
  }
 ],
 "metadata": {
  "kernelspec": {
   "display_name": "Python 3",
   "language": "python",
   "name": "python3"
  },
  "language_info": {
   "codemirror_mode": {
    "name": "ipython",
    "version": 3
   },
   "file_extension": ".py",
   "mimetype": "text/x-python",
   "name": "python",
   "nbconvert_exporter": "python",
   "pygments_lexer": "ipython3",
   "version": "3.5.3"
  }
 },
 "nbformat": 4,
 "nbformat_minor": 2
}
