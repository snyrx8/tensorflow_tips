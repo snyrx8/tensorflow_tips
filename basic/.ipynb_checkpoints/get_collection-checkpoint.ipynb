{
 "cells": [
  {
   "cell_type": "code",
   "execution_count": 1,
   "metadata": {
    "collapsed": true
   },
   "outputs": [],
   "source": [
    "import tensorflow as tf\n",
    "import numpy as np\n",
    "\n",
    "from functools import partial"
   ]
  },
  {
   "cell_type": "markdown",
   "metadata": {},
   "source": [
    "## tf.get_collection()  \n",
    "\n",
    "tf.get_collection()  を利用すれば、グラフの変数を取得することができる。\n",
    "\n",
    "引数には、\n",
    "* tf.GraphKeys.TRAINABLE_VARIABLES\n",
    "* tf.GraphKeys.GLOBAL_VARIABLES\n",
    "などを設定する。  \n",
    "https://www.tensorflow.org/api_docs/python/tf/GraphKeys\n",
    "\n"
   ]
  },
  {
   "cell_type": "markdown",
   "metadata": {},
   "source": [
    "### set parameters"
   ]
  },
  {
   "cell_type": "code",
   "execution_count": 2,
   "metadata": {
    "collapsed": true
   },
   "outputs": [],
   "source": [
    "n_input = 200\n",
    "n_hidden_1 = 100"
   ]
  },
  {
   "cell_type": "markdown",
   "metadata": {},
   "source": [
    "### define placeholder & variables"
   ]
  },
  {
   "cell_type": "code",
   "execution_count": 3,
   "metadata": {
    "collapsed": true
   },
   "outputs": [],
   "source": [
    "with tf.variable_scope('input'):\n",
    "    X = tf.placeholder(tf.float32, [None, n_input])\n",
    "\n",
    "l2_reg = 0.001\n",
    "he_init = tf.contrib.layers.variance_scaling_initializer() # He initialization\n",
    "l2_regularizer = tf.contrib.layers.l2_regularizer(l2_reg) \n",
    "with tf.variable_scope('layers'):    \n",
    "    decorder_1 = tf.layers.dense(X, n_hidden_1, kernel_initializer=he_init, kernel_regularizer=l2_regularizer)\n",
    "    decorder_2 = tf.layers.dense(X, n_hidden_1, kernel_initializer=he_init, kernel_regularizer=l2_regularizer)"
   ]
  },
  {
   "cell_type": "markdown",
   "metadata": {},
   "source": [
    "### グラフに追加されたVariable情報を取得"
   ]
  },
  {
   "cell_type": "code",
   "execution_count": 4,
   "metadata": {},
   "outputs": [
    {
     "name": "stdout",
     "output_type": "stream",
     "text": [
      "<tf.Variable 'layers/dense/kernel:0' shape=(200, 100) dtype=float32_ref>\n",
      "<tf.Variable 'layers/dense/bias:0' shape=(100,) dtype=float32_ref>\n",
      "<tf.Variable 'layers/dense_1/kernel:0' shape=(200, 100) dtype=float32_ref>\n",
      "<tf.Variable 'layers/dense_1/bias:0' shape=(100,) dtype=float32_ref>\n"
     ]
    }
   ],
   "source": [
    "for v in tf.get_collection(tf.GraphKeys.TRAINABLE_VARIABLES):\n",
    "    print(v)"
   ]
  },
  {
   "cell_type": "markdown",
   "metadata": {},
   "source": [
    "### あるスコープ内の変数を取得する\n",
    "\n",
    "格納された順番で変数の値がリストとして格納される  \n",
    "[0] : 'layers/dense/kernel:0'  \n",
    "[1] : 'layers/dense/bias:0'  \n",
    "[2] : 'layers/dense_1/kernel:0'  \n",
    "[3] : 'layers/dense_1/bias:0'  "
   ]
  },
  {
   "cell_type": "code",
   "execution_count": 5,
   "metadata": {
    "collapsed": true
   },
   "outputs": [],
   "source": [
    "layer1_vars = tf.get_collection(tf.GraphKeys.TRAINABLE_VARIABLES, 'layers')"
   ]
  },
  {
   "cell_type": "code",
   "execution_count": 6,
   "metadata": {},
   "outputs": [
    {
     "data": {
      "text/plain": [
       "<tf.Variable 'layers/dense/bias:0' shape=(100,) dtype=float32_ref>"
      ]
     },
     "execution_count": 6,
     "metadata": {},
     "output_type": "execute_result"
    }
   ],
   "source": [
    "layer1_vars[1]"
   ]
  },
  {
   "cell_type": "code",
   "execution_count": 7,
   "metadata": {},
   "outputs": [
    {
     "data": {
      "text/plain": [
       "<tf.Variable 'layers/dense_1/kernel:0' shape=(200, 100) dtype=float32_ref>"
      ]
     },
     "execution_count": 7,
     "metadata": {},
     "output_type": "execute_result"
    }
   ],
   "source": [
    "layer1_vars[2]"
   ]
  },
  {
   "cell_type": "code",
   "execution_count": 8,
   "metadata": {},
   "outputs": [
    {
     "data": {
      "text/plain": [
       "<tf.Variable 'layers/dense_1/bias:0' shape=(100,) dtype=float32_ref>"
      ]
     },
     "execution_count": 8,
     "metadata": {},
     "output_type": "execute_result"
    }
   ],
   "source": [
    "layer1_vars[3]"
   ]
  },
  {
   "cell_type": "markdown",
   "metadata": {},
   "source": [
    "### "
   ]
  },
  {
   "cell_type": "code",
   "execution_count": 9,
   "metadata": {},
   "outputs": [
    {
     "data": {
      "text/plain": [
       "[<tf.Variable 'layers/dense/kernel:0' shape=(200, 100) dtype=float32_ref>,\n",
       " <tf.Variable 'layers/dense/bias:0' shape=(100,) dtype=float32_ref>,\n",
       " <tf.Variable 'layers/dense_1/kernel:0' shape=(200, 100) dtype=float32_ref>,\n",
       " <tf.Variable 'layers/dense_1/bias:0' shape=(100,) dtype=float32_ref>]"
      ]
     },
     "execution_count": 9,
     "metadata": {},
     "output_type": "execute_result"
    }
   ],
   "source": [
    "tf.get_collection(tf.GraphKeys.TRAINABLE_VARIABLES, 'layers')"
   ]
  },
  {
   "cell_type": "code",
   "execution_count": null,
   "metadata": {
    "collapsed": true
   },
   "outputs": [],
   "source": []
  },
  {
   "cell_type": "code",
   "execution_count": 16,
   "metadata": {
    "collapsed": true
   },
   "outputs": [],
   "source": [
    "init = tf.global_variables_initializer()\n",
    "\n",
    "with tf.Session() as sess:\n",
    "    sess.run(init)\n",
    "    W1 = sess.run([layer1_vars[0]])"
   ]
  },
  {
   "cell_type": "markdown",
   "metadata": {},
   "source": [
    "(※）なぜ、W1の値にnanが含まれるのかは不明。"
   ]
  },
  {
   "cell_type": "code",
   "execution_count": 18,
   "metadata": {},
   "outputs": [
    {
     "name": "stdout",
     "output_type": "stream",
     "text": [
      "[array([[             nan,              nan,              nan, ...,\n",
      "                     nan,              nan,              nan],\n",
      "       [ -1.79645744e+38,              nan,              nan, ...,\n",
      "          0.00000000e+00,   6.77626358e-21,  -2.41786086e+24],\n",
      "       [  3.38954295e+38,   3.57331108e-43,   0.00000000e+00, ...,\n",
      "                     nan,              nan,              nan],\n",
      "       ..., \n",
      "       [             nan,              nan,              nan, ...,\n",
      "          0.00000000e+00,   0.00000000e+00,   0.00000000e+00],\n",
      "       [ -3.17273847e-29,   1.15242786e-41,   1.11721992e-31, ...,\n",
      "                     nan,              nan,              nan],\n",
      "       [             nan,              nan,              nan, ...,\n",
      "          2.23226845e-42,   1.43492963e-41,  -2.00001502e+00]], dtype=float32)]\n"
     ]
    }
   ],
   "source": [
    "print(W1)"
   ]
  },
  {
   "cell_type": "code",
   "execution_count": null,
   "metadata": {
    "collapsed": true
   },
   "outputs": [],
   "source": []
  }
 ],
 "metadata": {
  "kernelspec": {
   "display_name": "Python 3",
   "language": "python",
   "name": "python3"
  },
  "language_info": {
   "codemirror_mode": {
    "name": "ipython",
    "version": 3
   },
   "file_extension": ".py",
   "mimetype": "text/x-python",
   "name": "python",
   "nbconvert_exporter": "python",
   "pygments_lexer": "ipython3",
   "version": "3.5.3"
  }
 },
 "nbformat": 4,
 "nbformat_minor": 2
}
