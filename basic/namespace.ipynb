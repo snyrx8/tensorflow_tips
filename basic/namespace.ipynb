{
 "cells": [
  {
   "cell_type": "markdown",
   "metadata": {},
   "source": [
    "# namespace"
   ]
  },
  {
   "cell_type": "markdown",
   "metadata": {},
   "source": [
    "スコープ定義  \n",
    "* tf.name_scope() : 汎用的なスコープ定義 （TensorBoardへの出力は、この識別子設定を利用） \n",
    "* tf.variable_scope() : 変数を管理するためのスコープ定義  \n",
    " \n",
    "変数定義  \n",
    "* tf.Variable() : 低レベルの変数定義\n",
    "* tf.get_variable() : 変数スコープを考慮した変数定義（tf.Variableの高レベルAPI）   \n",
    " \n",
    "tf.get_variable() は，変数名の識別子（新規か？重複がないか？）を管理しながら，変数の定義を行います．必ず tf.variable_scope() とセットで使います．"
   ]
  },
  {
   "cell_type": "code",
   "execution_count": 1,
   "metadata": {
    "collapsed": true
   },
   "outputs": [],
   "source": [
    "import tensorflow as tf"
   ]
  },
  {
   "cell_type": "markdown",
   "metadata": {},
   "source": [
    "### スコープ定義なし\n",
    "\n",
    "まずは、スコープ定義を利用せず変数を定義してみます。 \n",
    "変数は、  \n",
    "* tf.get_variable  \n",
    "* tf.Variable  \n",
    "\n",
    "の２つの方法で定義しています。\n",
    "\n",
    "変数のスコープ名を確認してみると、当然ながらスコープ名は定義されていません。"
   ]
  },
  {
   "cell_type": "code",
   "execution_count": 2,
   "metadata": {},
   "outputs": [
    {
     "name": "stdout",
     "output_type": "stream",
     "text": [
      "g1:0\n",
      "g2:0\n",
      "Add:0\n"
     ]
    }
   ],
   "source": [
    "g1 = tf.get_variable(\"g1\", [1], dtype=tf.float32)\n",
    "g2 = tf.Variable(1, name=\"g2\", dtype=tf.float32)\n",
    "v = tf.add(g1, g2)\n",
    "\n",
    "# スコープ名と変数名を表示\n",
    "print(g1.name)  # g1:0\n",
    "print(g2.name)  # g2:0\n",
    "print(v.name)   # Add:0"
   ]
  },
  {
   "cell_type": "markdown",
   "metadata": {},
   "source": [
    "同じ変数を定義するとどのようになるかを試してみます。  \n",
    "* tf.Variable　-> 新しい変数（○○_1）が定義される\n",
    "* tf.get_variable ->　同スコープで同じ変数を定義するとエラーとなる\n",
    "\n",
    "tf.get_variableの場合、「同じ識別子で変数を取るのはおかしい」というエラーが発生します。"
   ]
  },
  {
   "cell_type": "code",
   "execution_count": 3,
   "metadata": {},
   "outputs": [
    {
     "name": "stdout",
     "output_type": "stream",
     "text": [
      "g1:0\n",
      "g2_1:0\n",
      "Add_1:0\n"
     ]
    }
   ],
   "source": [
    "#g1 = tf.get_variable(\"g1\", [1], dtype=tf.float32) -> error\n",
    "g2 = tf.Variable(1, name=\"g2\", dtype=tf.float32)\n",
    "v = tf.add(g1, g2)\n",
    "print(g1.name)  # g1:0\n",
    "print(g2.name)  # g2_1:0\n",
    "print(v.name)   # Add_1:0"
   ]
  },
  {
   "cell_type": "markdown",
   "metadata": {},
   "source": [
    "### tf.name_scope() によるスコープ定義\n",
    "\n",
    "次に、tf.name_scope()　でスコープを定義してみます。\n",
    "\n",
    "結果をみると、\n",
    "* tf.Variable　-> スコープ定義が適用されている\n",
    "* tf.get_variable -> スコープ定義が適用されていない\n",
    "\n",
    "という違いが確認されました。"
   ]
  },
  {
   "cell_type": "code",
   "execution_count": 4,
   "metadata": {},
   "outputs": [
    {
     "name": "stdout",
     "output_type": "stream",
     "text": [
      "x1:0\n",
      "name_sp/x2:0\n",
      "name_sp/Add:0\n"
     ]
    }
   ],
   "source": [
    "# tf.name_scope\n",
    "with tf.name_scope(\"name_sp\"):\n",
    "    x1 = tf.get_variable(\"x1\", [1], dtype=tf.float32)\n",
    "    x2 = tf.Variable(1, name=\"x2\", dtype=tf.float32)\n",
    "    y = tf.add(x1, x2)\n",
    "\n",
    "print(x1.name)  # x1:0\n",
    "print(x2.name)  # name_sp/x2:0\n",
    "print(y.name)   # name_sp/Add:0"
   ]
  },
  {
   "cell_type": "markdown",
   "metadata": {},
   "source": [
    "同じスコープ定義内で同じ変数を定義すると次のような結果になります。\n",
    "\n",
    "* tf.Variable　-> 新しいスコープ定義（○○_1）で変数が定義される\n",
    "* tf.get_variable ->　同スコープで同じ変数を定義するとエラーとなる\n",
    "\n",
    "tf.Variableは、スコープ定義がない場合と異なり、新しいスコープが定義されるようです。"
   ]
  },
  {
   "cell_type": "code",
   "execution_count": 5,
   "metadata": {},
   "outputs": [
    {
     "name": "stdout",
     "output_type": "stream",
     "text": [
      "x1:0\n",
      "name_sp_1/x2:0\n",
      "name_sp_1/Add:0\n"
     ]
    }
   ],
   "source": [
    "# tf.name_scope\n",
    "with tf.name_scope(\"name_sp\"):\n",
    "    #x1 = tf.get_variable(\"x1\", [1], dtype=tf.float32)\n",
    "    x2 = tf.Variable(1, name=\"x2\", dtype=tf.float32)\n",
    "    y = tf.add(x1, x2)\n",
    "\n",
    "print(x1.name)  # x1:0\n",
    "print(x2.name)  # name_sp_1/x2:0\n",
    "print(y.name)   # name_sp_1/Add:0"
   ]
  },
  {
   "cell_type": "markdown",
   "metadata": {},
   "source": [
    "### tf.variable_scope によるスコープ定義\n",
    "\n",
    "tf.variable_scope の場合、tf.get_variable で定義した変数にもスコープ定義が適用されます。\n"
   ]
  },
  {
   "cell_type": "code",
   "execution_count": 6,
   "metadata": {
    "scrolled": true
   },
   "outputs": [
    {
     "name": "stdout",
     "output_type": "stream",
     "text": [
      "name_sp/x1:0\n",
      "name_sp_2/x2:0\n",
      "name_sp_2/Add:0\n"
     ]
    }
   ],
   "source": [
    "with tf.variable_scope(\"name_sp\"):\n",
    "    x1 = tf.get_variable(\"x1\", [1], dtype=tf.float32)  \n",
    "    x2 = tf.Variable(1, name=\"x2\", dtype=tf.float32)\n",
    "    y = tf.add(x1, x2)\n",
    "\n",
    "print(x1.name)  # name_sp/x1:0\n",
    "print(x2.name)  # name_sp_2/x2:0\n",
    "print(y.name)   # name_sp_2/Add:0"
   ]
  },
  {
   "cell_type": "markdown",
   "metadata": {},
   "source": [
    "tf.get_variableで以前定義した変数を再利用する場合、　　\n",
    "tf.variable_scope の引数に\"reuse=True\"を設定します。\n",
    "\n",
    "tf.Variable では、新しいスコープが定義されてしまっています。"
   ]
  },
  {
   "cell_type": "code",
   "execution_count": 7,
   "metadata": {},
   "outputs": [
    {
     "name": "stdout",
     "output_type": "stream",
     "text": [
      "name_sp/x1:0\n",
      "name_sp_3/x2:0\n",
      "name_sp_3/Add:0\n"
     ]
    }
   ],
   "source": [
    "with tf.variable_scope(\"name_sp\", reuse=True):\n",
    "    x1 = tf.get_variable(\"x1\", [1], dtype=tf.float32)  \n",
    "    x2 = tf.Variable(1, name=\"x2\", dtype=tf.float32)\n",
    "    y = tf.add(x1, x2)\n",
    "\n",
    "print(x1.name)  # name_sp/x1:0\n",
    "print(x2.name)  # name_sp_3/x2:0\n",
    "print(y.name)   # name_sp_3/Add:0"
   ]
  }
 ],
 "metadata": {
  "kernelspec": {
   "display_name": "Python 3",
   "language": "python",
   "name": "python3"
  },
  "language_info": {
   "codemirror_mode": {
    "name": "ipython",
    "version": 3
   },
   "file_extension": ".py",
   "mimetype": "text/x-python",
   "name": "python",
   "nbconvert_exporter": "python",
   "pygments_lexer": "ipython3",
   "version": "3.5.3"
  }
 },
 "nbformat": 4,
 "nbformat_minor": 2
}
