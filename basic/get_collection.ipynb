{
 "cells": [
  {
   "cell_type": "code",
   "execution_count": 1,
   "metadata": {
    "collapsed": true
   },
   "outputs": [],
   "source": [
    "import tensorflow as tf\n",
    "import numpy as np\n",
    "\n",
    "from functools import partial"
   ]
  },
  {
   "cell_type": "markdown",
   "metadata": {},
   "source": [
    "## tf.get_collection()  \n",
    "\n",
    "tf.get_collection()  を利用すれば、グラフの変数を取得することができる。\n",
    "\n",
    "引数には、\n",
    "* tf.GraphKeys.TRAINABLE_VARIABLES\n",
    "* tf.GraphKeys.GLOBAL_VARIABLES\n",
    "などを設定する。  \n",
    "https://www.tensorflow.org/api_docs/python/tf/GraphKeys\n",
    "\n"
   ]
  },
  {
   "cell_type": "markdown",
   "metadata": {},
   "source": [
    "### set parameters"
   ]
  },
  {
   "cell_type": "code",
   "execution_count": 2,
   "metadata": {
    "collapsed": true
   },
   "outputs": [],
   "source": [
    "n_input = 200\n",
    "n_hidden_1 = 100"
   ]
  },
  {
   "cell_type": "markdown",
   "metadata": {},
   "source": [
    "## Fully \n",
    "\n",
    "### define placeholder & variables"
   ]
  },
  {
   "cell_type": "code",
   "execution_count": 3,
   "metadata": {
    "collapsed": true
   },
   "outputs": [],
   "source": [
    "with tf.variable_scope('input'):\n",
    "    X = tf.placeholder(tf.float32, [None, n_input])\n",
    "\n",
    "l2_reg = 0.001\n",
    "he_init = tf.contrib.layers.variance_scaling_initializer() # He initialization\n",
    "l2_regularizer = tf.contrib.layers.l2_regularizer(l2_reg) \n",
    "with tf.variable_scope('layers1'):    \n",
    "    decorder_1 = tf.layers.dense(X, n_hidden_1, kernel_initializer=he_init, kernel_regularizer=l2_regularizer)\n",
    "with tf.variable_scope('layers2'):     \n",
    "    decorder_2 = tf.layers.dense(X, n_hidden_1, kernel_initializer=he_init, kernel_regularizer=l2_regularizer)"
   ]
  },
  {
   "cell_type": "markdown",
   "metadata": {},
   "source": [
    "### グラフに追加されたVariable情報を取得"
   ]
  },
  {
   "cell_type": "code",
   "execution_count": 4,
   "metadata": {},
   "outputs": [
    {
     "name": "stdout",
     "output_type": "stream",
     "text": [
      "<tf.Variable 'layers1/dense/kernel:0' shape=(200, 100) dtype=float32_ref>\n",
      "<tf.Variable 'layers1/dense/bias:0' shape=(100,) dtype=float32_ref>\n",
      "<tf.Variable 'layers2/dense/kernel:0' shape=(200, 100) dtype=float32_ref>\n",
      "<tf.Variable 'layers2/dense/bias:0' shape=(100,) dtype=float32_ref>\n"
     ]
    }
   ],
   "source": [
    "for v in tf.get_collection(tf.GraphKeys.TRAINABLE_VARIABLES):\n",
    "    print(v)"
   ]
  },
  {
   "cell_type": "markdown",
   "metadata": {},
   "source": [
    "### 特定スコープのVariable情報を取得"
   ]
  },
  {
   "cell_type": "code",
   "execution_count": 5,
   "metadata": {},
   "outputs": [
    {
     "name": "stdout",
     "output_type": "stream",
     "text": [
      "layers1/dense/kernel:0\n",
      "layers1/dense/bias:0\n"
     ]
    }
   ],
   "source": [
    "for v in tf.get_collection(tf.GraphKeys.TRAINABLE_VARIABLES, 'layers1'):\n",
    "    print(v.name)"
   ]
  },
  {
   "cell_type": "markdown",
   "metadata": {},
   "source": [
    "## Convolutional Nerual Network"
   ]
  },
  {
   "cell_type": "code",
   "execution_count": 6,
   "metadata": {
    "collapsed": true
   },
   "outputs": [],
   "source": [
    "with tf.variable_scope('input'):\n",
    "    inputs_ = tf.placeholder(tf.float32, (None, 28, 28, 1), name='inputs')\n",
    "    \n",
    "conv1 = tf.layers.conv2d(inputs_, 16, (3,3), padding='same', activation=tf.nn.relu)    "
   ]
  },
  {
   "cell_type": "code",
   "execution_count": 7,
   "metadata": {},
   "outputs": [
    {
     "name": "stdout",
     "output_type": "stream",
     "text": [
      "<tf.Variable 'layers1/dense/kernel:0' shape=(200, 100) dtype=float32_ref>\n",
      "<tf.Variable 'layers1/dense/bias:0' shape=(100,) dtype=float32_ref>\n",
      "<tf.Variable 'layers2/dense/kernel:0' shape=(200, 100) dtype=float32_ref>\n",
      "<tf.Variable 'layers2/dense/bias:0' shape=(100,) dtype=float32_ref>\n",
      "<tf.Variable 'conv2d/kernel:0' shape=(3, 3, 1, 16) dtype=float32_ref>\n",
      "<tf.Variable 'conv2d/bias:0' shape=(16,) dtype=float32_ref>\n"
     ]
    }
   ],
   "source": [
    "for v in tf.get_collection(tf.GraphKeys.TRAINABLE_VARIABLES):\n",
    "    print(v)"
   ]
  },
  {
   "cell_type": "markdown",
   "metadata": {},
   "source": [
    "## スコープ内の変数を取得する方法1"
   ]
  },
  {
   "cell_type": "code",
   "execution_count": 8,
   "metadata": {
    "collapsed": true
   },
   "outputs": [],
   "source": [
    "t_vars = tf.trainable_variables()"
   ]
  },
  {
   "cell_type": "code",
   "execution_count": 9,
   "metadata": {},
   "outputs": [
    {
     "data": {
      "text/plain": [
       "[<tf.Variable 'layers1/dense/kernel:0' shape=(200, 100) dtype=float32_ref>,\n",
       " <tf.Variable 'layers1/dense/bias:0' shape=(100,) dtype=float32_ref>,\n",
       " <tf.Variable 'layers2/dense/kernel:0' shape=(200, 100) dtype=float32_ref>,\n",
       " <tf.Variable 'layers2/dense/bias:0' shape=(100,) dtype=float32_ref>,\n",
       " <tf.Variable 'conv2d/kernel:0' shape=(3, 3, 1, 16) dtype=float32_ref>,\n",
       " <tf.Variable 'conv2d/bias:0' shape=(16,) dtype=float32_ref>]"
      ]
     },
     "execution_count": 9,
     "metadata": {},
     "output_type": "execute_result"
    }
   ],
   "source": [
    "t_vars"
   ]
  },
  {
   "cell_type": "code",
   "execution_count": 10,
   "metadata": {
    "collapsed": true
   },
   "outputs": [],
   "source": [
    "g_vars = [var for var in t_vars if var.name.startswith('layers1')]"
   ]
  },
  {
   "cell_type": "code",
   "execution_count": 11,
   "metadata": {},
   "outputs": [
    {
     "data": {
      "text/plain": [
       "[<tf.Variable 'layers1/dense/kernel:0' shape=(200, 100) dtype=float32_ref>,\n",
       " <tf.Variable 'layers1/dense/bias:0' shape=(100,) dtype=float32_ref>]"
      ]
     },
     "execution_count": 11,
     "metadata": {},
     "output_type": "execute_result"
    }
   ],
   "source": [
    "g_vars"
   ]
  },
  {
   "cell_type": "markdown",
   "metadata": {},
   "source": [
    "## スコープ内の変数を取得する方法2\n",
    "\n",
    "格納された順番で変数の値がリストとして格納される  \n",
    "[0] : 'layers/dense/kernel:0'  \n",
    "[1] : 'layers/dense/bias:0'  \n",
    "[2] : 'layers/dense_1/kernel:0'  \n",
    "[3] : 'layers/dense_1/bias:0'  "
   ]
  },
  {
   "cell_type": "code",
   "execution_count": 12,
   "metadata": {
    "collapsed": true
   },
   "outputs": [],
   "source": [
    "layer1_vars = tf.get_collection(tf.GraphKeys.TRAINABLE_VARIABLES, 'layers1')"
   ]
  },
  {
   "cell_type": "code",
   "execution_count": 15,
   "metadata": {},
   "outputs": [
    {
     "data": {
      "text/plain": [
       "<tf.Variable 'layers1/dense/kernel:0' shape=(200, 100) dtype=float32_ref>"
      ]
     },
     "execution_count": 15,
     "metadata": {},
     "output_type": "execute_result"
    }
   ],
   "source": [
    "layer1_vars[0]"
   ]
  },
  {
   "cell_type": "code",
   "execution_count": 16,
   "metadata": {},
   "outputs": [
    {
     "data": {
      "text/plain": [
       "<tf.Variable 'layers1/dense/bias:0' shape=(100,) dtype=float32_ref>"
      ]
     },
     "execution_count": 16,
     "metadata": {},
     "output_type": "execute_result"
    }
   ],
   "source": [
    "layer1_vars[1]"
   ]
  },
  {
   "cell_type": "code",
   "execution_count": 17,
   "metadata": {
    "collapsed": true
   },
   "outputs": [],
   "source": [
    "init = tf.global_variables_initializer()\n",
    "\n",
    "with tf.Session() as sess:\n",
    "    sess.run(init)\n",
    "    W1 = sess.run([layer1_vars[0]])"
   ]
  },
  {
   "cell_type": "markdown",
   "metadata": {},
   "source": [
    "(※）なぜ、W1の値にnanが含まれるのかは不明。"
   ]
  },
  {
   "cell_type": "code",
   "execution_count": 18,
   "metadata": {},
   "outputs": [
    {
     "name": "stdout",
     "output_type": "stream",
     "text": [
      "[array([[ 0.05459764,  0.08292954, -0.07612792, ...,  0.02462619,\n",
      "         0.18442191,  0.05535779],\n",
      "       [-0.10509244,  0.22576694,  0.07912306, ...,  0.02449062,\n",
      "        -0.12757981,  0.05059064],\n",
      "       [-0.06841816,  0.00492897, -0.15028928, ..., -0.04976881,\n",
      "        -0.10502116, -0.06508294],\n",
      "       ..., \n",
      "       [-0.12263435, -0.14896888, -0.14164306, ...,  0.09722459,\n",
      "         0.09214186, -0.04767206],\n",
      "       [-0.00329463, -0.03244751, -0.00636163, ..., -0.03522604,\n",
      "         0.2135247 ,  0.18546703],\n",
      "       [-0.04546939, -0.02252209, -0.06355116, ..., -0.1523219 ,\n",
      "        -0.11625706,  0.04690878]], dtype=float32)]\n"
     ]
    }
   ],
   "source": [
    "print(W1)"
   ]
  },
  {
   "cell_type": "code",
   "execution_count": null,
   "metadata": {
    "collapsed": true
   },
   "outputs": [],
   "source": []
  }
 ],
 "metadata": {
  "kernelspec": {
   "display_name": "Python 3",
   "language": "python",
   "name": "python3"
  },
  "language_info": {
   "codemirror_mode": {
    "name": "ipython",
    "version": 3
   },
   "file_extension": ".py",
   "mimetype": "text/x-python",
   "name": "python",
   "nbconvert_exporter": "python",
   "pygments_lexer": "ipython3",
   "version": "3.5.3"
  }
 },
 "nbformat": 4,
 "nbformat_minor": 2
}
