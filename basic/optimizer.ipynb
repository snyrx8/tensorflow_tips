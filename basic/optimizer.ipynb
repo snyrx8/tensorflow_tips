{
 "cells": [
  {
   "cell_type": "code",
   "execution_count": 1,
   "metadata": {
    "collapsed": true
   },
   "outputs": [],
   "source": [
    "import tensorflow as tf\n",
    "import numpy as np\n",
    "\n",
    "from functools import partial"
   ]
  },
  {
   "cell_type": "markdown",
   "metadata": {},
   "source": [
    "Deep Learningでモデルを作成して学習するときに、学習するパラメータを指定したい時があります。\n",
    "例えば２つのネットワークを交互に学習している時に、一方のネットワークのパラメータを更新したくない時とかです。\n",
    "\n",
    "学習するパラメータを指定する方法はいくつかあります。"
   ]
  },
  {
   "cell_type": "markdown",
   "metadata": {},
   "source": [
    "## 1. Variableの引数のtrainableをFalseにする"
   ]
  },
  {
   "cell_type": "code",
   "execution_count": 2,
   "metadata": {
    "collapsed": true
   },
   "outputs": [],
   "source": [
    "x = tf.Variable(tf.constant([2.]), name='x', trainable=False)"
   ]
  },
  {
   "cell_type": "markdown",
   "metadata": {},
   "source": [
    "## 2. Optimizerに更新する変数のリストを渡す"
   ]
  },
  {
   "cell_type": "code",
   "execution_count": 3,
   "metadata": {},
   "outputs": [
    {
     "ename": "NameError",
     "evalue": "name 'f' is not defined",
     "output_type": "error",
     "traceback": [
      "\u001b[0;31m---------------------------------------------------------------------------\u001b[0m",
      "\u001b[0;31mNameError\u001b[0m                                 Traceback (most recent call last)",
      "\u001b[0;32m<ipython-input-3-4f317dfd0709>\u001b[0m in \u001b[0;36m<module>\u001b[0;34m()\u001b[0m\n\u001b[1;32m      1\u001b[0m \u001b[0mopt\u001b[0m \u001b[0;34m=\u001b[0m \u001b[0mtf\u001b[0m\u001b[0;34m.\u001b[0m\u001b[0mtrain\u001b[0m\u001b[0;34m.\u001b[0m\u001b[0mGradientDescentOptimizer\u001b[0m\u001b[0;34m(\u001b[0m\u001b[0;36m1.0\u001b[0m\u001b[0;34m)\u001b[0m\u001b[0;34m\u001b[0m\u001b[0m\n\u001b[0;32m----> 2\u001b[0;31m \u001b[0mtrain\u001b[0m \u001b[0;34m=\u001b[0m \u001b[0mopt\u001b[0m\u001b[0;34m.\u001b[0m\u001b[0mminimize\u001b[0m\u001b[0;34m(\u001b[0m\u001b[0mf\u001b[0m\u001b[0;34m,\u001b[0m \u001b[0mvar_list\u001b[0m\u001b[0;34m=\u001b[0m\u001b[0;34m[\u001b[0m\u001b[0mw\u001b[0m\u001b[0;34m,\u001b[0m\u001b[0mb\u001b[0m\u001b[0;34m]\u001b[0m\u001b[0;34m)\u001b[0m\u001b[0;34m\u001b[0m\u001b[0m\n\u001b[0m",
      "\u001b[0;31mNameError\u001b[0m: name 'f' is not defined"
     ]
    }
   ],
   "source": [
    "opt = tf.train.GradientDescentOptimizer(1.0)\n",
    "train = opt.minimize(f, var_list=[w,b])"
   ]
  },
  {
   "cell_type": "markdown",
   "metadata": {},
   "source": [
    "## 何も設定しないとき\n",
    "\n",
    "下記のようなコードを実行すると変数w, b, x, y_が更新されて"
   ]
  },
  {
   "cell_type": "code",
   "execution_count": 6,
   "metadata": {},
   "outputs": [
    {
     "name": "stdout",
     "output_type": "stream",
     "text": [
      "WARNING:tensorflow:From /Users/shinya/anaconda/envs/tensorflow/lib/python3.5/site-packages/tensorflow/python/util/tf_should_use.py:170: initialize_all_variables (from tensorflow.python.ops.variables) is deprecated and will be removed after 2017-03-02.\n",
      "Instructions for updating:\n",
      "Use `tf.global_variables_initializer` instead.\n",
      "x:2.00, w:3.00, b:1.00\n",
      "p:6.00, y:7.00, y_:5.00\n",
      "s:-7.00, t:-2.00, f:4.00\n",
      "---------- gradient ----------\n",
      "gx:12.00, gw:8.00, gb: 4.00\n",
      "gp:4.00, gy:4.00, gy_:-4.00\n",
      "gs:-4.00, gt:-4.00, gf:1.00\n",
      "---------- run GradientDescentOptimizer ----------\n",
      "x:-10.00, w:-5.00, b:-3.00\n",
      "p:50.00, y:47.00, y_:9.00\n",
      "s:-47.00, t:-38.00, f:1444.00\n",
      "---------- gradient ----------\n",
      "gx:-380.00, gw:-760.00, gb: 76.00\n",
      "gp:76.00, gy:76.00, gy_:-76.00\n",
      "gs:-76.00, gt:-76.00, gf:1.00\n"
     ]
    }
   ],
   "source": [
    "import tensorflow as tf\n",
    "import numpy as np\n",
    "\n",
    "w = tf.Variable(tf.constant([3.]), name='w')\n",
    "b = tf.Variable(tf.constant([1.]), name='b')\n",
    "x = tf.Variable(tf.constant([2.]), name='x')\n",
    "y_ = tf.Variable(tf.constant([5.]), name='y_')\n",
    "\n",
    "p = w*x\n",
    "y = p+b\n",
    "s = -y\n",
    "t = s +y_\n",
    "f = t*t\n",
    "\n",
    "gx, gb, gw, gp, gy, gy_,gs, gt, gf = tf.gradients(f, [x, b, w, p, y, y_,s, t, f])\n",
    "\n",
    "init = tf.initialize_all_variables()\n",
    "\n",
    "opt = tf.train.GradientDescentOptimizer(1.0)\n",
    "train = opt.minimize(f)\n",
    "\n",
    "with tf.Session() as sess:\n",
    "    sess.run(init)\n",
    "    print('x:%.2f, w:%.2f, b:%.2f' % (sess.run(x), sess.run(w), sess.run(b)))\n",
    "    print('p:%.2f, y:%.2f, y_:%.2f'% (sess.run(p), sess.run(y), sess.run(y_)))\n",
    "    print('s:%.2f, t:%.2f, f:%.2f' % (sess.run(s), sess.run(t), sess.run(f)))\n",
    "\n",
    "    print('---------- gradient ----------')\n",
    "    print('gx:%.2f, gw:%.2f, gb: %.2f' % (sess.run(gx), sess.run(gw), sess.run(gb)))\n",
    "    print('gp:%.2f, gy:%.2f, gy_:%.2f' %(sess.run(gp), sess.run(gy), sess.run(gy_)))\n",
    "    print('gs:%.2f, gt:%.2f, gf:%.2f' %(sess.run(gs), sess.run(gt), sess.run(gf)))\n",
    "    print('---------- run GradientDescentOptimizer ----------')\n",
    "    sess.run(train)\n",
    "\n",
    "    print('x:%.2f, w:%.2f, b:%.2f' % (sess.run(x), sess.run(w), sess.run(b)))\n",
    "    print('p:%.2f, y:%.2f, y_:%.2f'% (sess.run(p), sess.run(y), sess.run(y_)))\n",
    "    print('s:%.2f, t:%.2f, f:%.2f'%(sess.run(s), sess.run(t), sess.run(f)))\n",
    "\n",
    "    print('---------- gradient ----------')\n",
    "    print('gx:%.2f, gw:%.2f, gb: %.2f' % (sess.run(gx), sess.run(gw), sess.run(gb)))\n",
    "    print('gp:%.2f, gy:%.2f, gy_:%.2f' %(sess.run(gp), sess.run(gy), sess.run(gy_)))\n",
    "    print('gs:%.2f, gt:%.2f, gf:%.2f' %(sess.run(gs), sess.run(gt), sess.run(gf)))"
   ]
  },
  {
   "cell_type": "markdown",
   "metadata": {},
   "source": [
    "## 1. trainableを指定した場合"
   ]
  },
  {
   "cell_type": "code",
   "execution_count": 7,
   "metadata": {},
   "outputs": [
    {
     "name": "stdout",
     "output_type": "stream",
     "text": [
      "WARNING:tensorflow:From /Users/shinya/anaconda/envs/tensorflow/lib/python3.5/site-packages/tensorflow/python/util/tf_should_use.py:170: initialize_all_variables (from tensorflow.python.ops.variables) is deprecated and will be removed after 2017-03-02.\n",
      "Instructions for updating:\n",
      "Use `tf.global_variables_initializer` instead.\n",
      "x:2.00, w:3.00, b:1.00\n",
      "p:6.00, y:7.00, y_:5.00\n",
      "s:-7.00, t:-2.00, f:4.00\n",
      "---------- gradient ----------\n",
      "gx:12.00, gw:8.00, gb: 4.00\n",
      "gp:4.00, gy:4.00, gy_:-4.00\n",
      "gs:-4.00, gt:-4.00, gf:1.00\n",
      "---------- run GradientDescentOptimizer ----------\n",
      "x:2.00, w:-5.00, b:-3.00\n",
      "p:-10.00, y:-13.00, y_:5.00\n",
      "s:13.00, t:18.00, f:324.00\n",
      "---------- gradient ----------\n",
      "gx:180.00, gw:-72.00, gb: -36.00\n",
      "gp:-36.00, gy:-36.00, gy_:36.00\n",
      "gs:36.00, gt:36.00, gf:1.00\n"
     ]
    }
   ],
   "source": [
    "import tensorflow as tf\n",
    "import numpy as np\n",
    "\n",
    "w = tf.Variable(tf.constant([3.]), name='w')\n",
    "b = tf.Variable(tf.constant([1.]), name='b')\n",
    "##########################################\n",
    "# trainable に False を指定する\n",
    "##########################################\n",
    "x = tf.Variable(tf.constant([2.]), name='x', trainable=False)\n",
    "y_ = tf.Variable(tf.constant([5.]), name='y_', trainable=False)\n",
    "\n",
    "p = w*x\n",
    "y = p+b\n",
    "s = -y\n",
    "t = s +y_\n",
    "f = t*t\n",
    "\n",
    "gx, gb, gw, gp, gy, gy_,gs, gt, gf = tf.gradients(f, [x, b, w, p, y, y_,s, t, f])\n",
    "\n",
    "init = tf.initialize_all_variables()\n",
    "\n",
    "opt = tf.train.GradientDescentOptimizer(1.0)\n",
    "train = opt.minimize(f)\n",
    "\n",
    "with tf.Session() as sess:\n",
    "    sess.run(init)\n",
    "    print('x:%.2f, w:%.2f, b:%.2f' % (sess.run(x), sess.run(w), sess.run(b)))\n",
    "    print('p:%.2f, y:%.2f, y_:%.2f'% (sess.run(p), sess.run(y), sess.run(y_)))\n",
    "    print('s:%.2f, t:%.2f, f:%.2f' % (sess.run(s), sess.run(t), sess.run(f)))\n",
    "\n",
    "    print('---------- gradient ----------')\n",
    "    print('gx:%.2f, gw:%.2f, gb: %.2f' % (sess.run(gx), sess.run(gw), sess.run(gb)))\n",
    "    print('gp:%.2f, gy:%.2f, gy_:%.2f' %(sess.run(gp), sess.run(gy), sess.run(gy_)))\n",
    "    print('gs:%.2f, gt:%.2f, gf:%.2f' %(sess.run(gs), sess.run(gt), sess.run(gf)))\n",
    "    print('---------- run GradientDescentOptimizer ----------')\n",
    "    sess.run(train)\n",
    "\n",
    "    print('x:%.2f, w:%.2f, b:%.2f' % (sess.run(x), sess.run(w), sess.run(b)))\n",
    "    print('p:%.2f, y:%.2f, y_:%.2f'% (sess.run(p), sess.run(y), sess.run(y_)))\n",
    "    print('s:%.2f, t:%.2f, f:%.2f'%(sess.run(s), sess.run(t), sess.run(f)))\n",
    "\n",
    "    print('---------- gradient ----------')\n",
    "    print('gx:%.2f, gw:%.2f, gb: %.2f' % (sess.run(gx), sess.run(gw), sess.run(gb)))\n",
    "    print('gp:%.2f, gy:%.2f, gy_:%.2f' %(sess.run(gp), sess.run(gy), sess.run(gy_)))\n",
    "    print('gs:%.2f, gt:%.2f, gf:%.2f' %(sess.run(gs), sess.run(gt), sess.run(gf)))"
   ]
  },
  {
   "cell_type": "markdown",
   "metadata": {},
   "source": [
    "## 2. Optimizerに更新する変数のリストを渡す場合"
   ]
  },
  {
   "cell_type": "code",
   "execution_count": 8,
   "metadata": {},
   "outputs": [
    {
     "name": "stdout",
     "output_type": "stream",
     "text": [
      "WARNING:tensorflow:From /Users/shinya/anaconda/envs/tensorflow/lib/python3.5/site-packages/tensorflow/python/util/tf_should_use.py:170: initialize_all_variables (from tensorflow.python.ops.variables) is deprecated and will be removed after 2017-03-02.\n",
      "Instructions for updating:\n",
      "Use `tf.global_variables_initializer` instead.\n",
      "x:2.00, w:3.00, b:1.00\n",
      "p:6.00, y:7.00, y_:5.00\n",
      "s:-7.00, t:-2.00, f:4.00\n",
      "---------- gradient ----------\n",
      "gx:12.00, gw:8.00, gb: 4.00\n",
      "gp:4.00, gy:4.00, gy_:-4.00\n",
      "gs:-4.00, gt:-4.00, gf:1.00\n",
      "---------- run GradientDescentOptimizer ----------\n",
      "x:2.00, w:-5.00, b:-3.00\n",
      "p:-10.00, y:-13.00, y_:5.00\n",
      "s:13.00, t:18.00, f:324.00\n",
      "---------- gradient ----------\n",
      "gx:180.00, gw:-72.00, gb: -36.00\n",
      "gp:-36.00, gy:-36.00, gy_:36.00\n",
      "gs:36.00, gt:36.00, gf:1.00\n"
     ]
    }
   ],
   "source": [
    "import tensorflow as tf\n",
    "import numpy as np\n",
    "\n",
    "w = tf.Variable(tf.constant([3.]), name='w')\n",
    "b = tf.Variable(tf.constant([1.]), name='b')\n",
    "x = tf.Variable(tf.constant([2.]), name='x')\n",
    "y_ = tf.Variable(tf.constant([5.]), name='y_')\n",
    "\n",
    "p = w*x\n",
    "y = p+b\n",
    "s = -y\n",
    "t = s +y_\n",
    "f = t*t\n",
    "\n",
    "\n",
    "gx, gb, gw, gp, gy, gy_,gs, gt, gf = tf.gradients(f, [x, b, w, p, y, y_,s, t, f])\n",
    "\n",
    "init = tf.initialize_all_variables()\n",
    "\n",
    "opt = tf.train.GradientDescentOptimizer(1.0)\n",
    "##########################################\n",
    "# var_list に更新する変数のリストを渡す\n",
    "##########################################\n",
    "train = opt.minimize(f, var_list=[w,b])\n",
    "\n",
    "with tf.Session() as sess:\n",
    "    sess.run(init)\n",
    "    print('x:%.2f, w:%.2f, b:%.2f' % (sess.run(x), sess.run(w), sess.run(b)))\n",
    "    print('p:%.2f, y:%.2f, y_:%.2f'% (sess.run(p), sess.run(y), sess.run(y_)))\n",
    "    print('s:%.2f, t:%.2f, f:%.2f' % (sess.run(s), sess.run(t), sess.run(f)))\n",
    "\n",
    "    print('---------- gradient ----------')\n",
    "    print('gx:%.2f, gw:%.2f, gb: %.2f' % (sess.run(gx), sess.run(gw), sess.run(gb)))\n",
    "    print('gp:%.2f, gy:%.2f, gy_:%.2f' %(sess.run(gp), sess.run(gy), sess.run(gy_)))\n",
    "    print('gs:%.2f, gt:%.2f, gf:%.2f' %(sess.run(gs), sess.run(gt), sess.run(gf)))\n",
    "    print('---------- run GradientDescentOptimizer ----------')\n",
    "    sess.run(train)\n",
    "\n",
    "    print('x:%.2f, w:%.2f, b:%.2f' % (sess.run(x), sess.run(w), sess.run(b)))\n",
    "    print('p:%.2f, y:%.2f, y_:%.2f'% (sess.run(p), sess.run(y), sess.run(y_)))\n",
    "    print('s:%.2f, t:%.2f, f:%.2f'%(sess.run(s), sess.run(t), sess.run(f)))\n",
    "\n",
    "    print('---------- gradient ----------')\n",
    "    print('gx:%.2f, gw:%.2f, gb: %.2f' % (sess.run(gx), sess.run(gw), sess.run(gb)))\n",
    "    print('gp:%.2f, gy:%.2f, gy_:%.2f' %(sess.run(gp), sess.run(gy), sess.run(gy_)))\n",
    "    print('gs:%.2f, gt:%.2f, gf:%.2f' %(sess.run(gs), sess.run(gt), sess.run(gf)))"
   ]
  },
  {
   "cell_type": "markdown",
   "metadata": {},
   "source": [
    "### 2. 2 特定のスコープ変数のみ取得して、それをOptimizerの更新リストに渡す方法"
   ]
  },
  {
   "cell_type": "code",
   "execution_count": 2,
   "metadata": {},
   "outputs": [
    {
     "name": "stdout",
     "output_type": "stream",
     "text": [
      "WARNING:tensorflow:From /Users/shinya/anaconda/envs/tensorflow/lib/python3.5/site-packages/tensorflow/python/util/tf_should_use.py:170: initialize_all_variables (from tensorflow.python.ops.variables) is deprecated and will be removed after 2017-03-02.\n",
      "Instructions for updating:\n",
      "Use `tf.global_variables_initializer` instead.\n",
      "x:2.00, w:3.00, b:1.00\n",
      "p:6.00, y:7.00, y_:5.00\n",
      "s:-7.00, t:-2.00, f:4.00\n",
      "---------- gradient ----------\n",
      "gx:12.00, gw:8.00, gb: 4.00\n",
      "gp:4.00, gy:4.00, gy_:-4.00\n",
      "gs:-4.00, gt:-4.00, gf:1.00\n",
      "---------- run GradientDescentOptimizer ----------\n",
      "x:2.00, w:-5.00, b:-3.00\n",
      "p:-10.00, y:-13.00, y_:5.00\n",
      "s:13.00, t:18.00, f:324.00\n",
      "---------- gradient ----------\n",
      "gx:180.00, gw:-72.00, gb: -36.00\n",
      "gp:-36.00, gy:-36.00, gy_:36.00\n",
      "gs:36.00, gt:36.00, gf:1.00\n"
     ]
    }
   ],
   "source": [
    "# Get the trainable_variables, split into G and D parts\n",
    "#t_vars = tf.trainable_variables()\n",
    "#g_vars = [var for var in t_vars if var.name.startswith('generator')]\n",
    "#d_vars = [var for var in t_vars if var.name.startswith('discriminator')]\n",
    "\n",
    "#d_train_opt = tf.train.AdamOptimizer(learning_rate).minimize(d_loss, var_list=d_vars)\n",
    "#g_train_opt = tf.train.AdamOptimizer(learning_rate).minimize(g_loss, var_list=g_vars)\n",
    "\n",
    "\n",
    "import tensorflow as tf\n",
    "import numpy as np\n",
    "\n",
    "### Scope\n",
    "with tf.variable_scope('trainable'):\n",
    "    w = tf.Variable(tf.constant([3.]), name='w')\n",
    "    b = tf.Variable(tf.constant([1.]), name='b')\n",
    "\n",
    "x = tf.Variable(tf.constant([2.]), name='x')\n",
    "y_ = tf.Variable(tf.constant([5.]), name='y_')\n",
    "\n",
    "p = w*x\n",
    "y = p+b\n",
    "s = -y\n",
    "t = s +y_\n",
    "f = t*t\n",
    "\n",
    "\n",
    "gx, gb, gw, gp, gy, gy_,gs, gt, gf = tf.gradients(f, [x, b, w, p, y, y_,s, t, f])\n",
    "\n",
    "init = tf.initialize_all_variables()\n",
    "\n",
    "opt = tf.train.GradientDescentOptimizer(1.0)\n",
    "##########################################\n",
    "# var_list に更新する変数のリストを渡す\n",
    "##########################################\n",
    "# Get the trainable_variables, split into G and D parts\n",
    "t_vars = tf.trainable_variables()\n",
    "t_vars = [var for var in t_vars if var.name.startswith('trainable')]\n",
    "\n",
    "\n",
    "train = opt.minimize(f, var_list=t_vars)\n",
    "\n",
    "with tf.Session() as sess:\n",
    "    sess.run(init)\n",
    "    print('x:%.2f, w:%.2f, b:%.2f' % (sess.run(x), sess.run(w), sess.run(b)))\n",
    "    print('p:%.2f, y:%.2f, y_:%.2f'% (sess.run(p), sess.run(y), sess.run(y_)))\n",
    "    print('s:%.2f, t:%.2f, f:%.2f' % (sess.run(s), sess.run(t), sess.run(f)))\n",
    "\n",
    "    print('---------- gradient ----------')\n",
    "    print('gx:%.2f, gw:%.2f, gb: %.2f' % (sess.run(gx), sess.run(gw), sess.run(gb)))\n",
    "    print('gp:%.2f, gy:%.2f, gy_:%.2f' %(sess.run(gp), sess.run(gy), sess.run(gy_)))\n",
    "    print('gs:%.2f, gt:%.2f, gf:%.2f' %(sess.run(gs), sess.run(gt), sess.run(gf)))\n",
    "    print('---------- run GradientDescentOptimizer ----------')\n",
    "    sess.run(train)\n",
    "\n",
    "    print('x:%.2f, w:%.2f, b:%.2f' % (sess.run(x), sess.run(w), sess.run(b)))\n",
    "    print('p:%.2f, y:%.2f, y_:%.2f'% (sess.run(p), sess.run(y), sess.run(y_)))\n",
    "    print('s:%.2f, t:%.2f, f:%.2f'%(sess.run(s), sess.run(t), sess.run(f)))\n",
    "\n",
    "    print('---------- gradient ----------')\n",
    "    print('gx:%.2f, gw:%.2f, gb: %.2f' % (sess.run(gx), sess.run(gw), sess.run(gb)))\n",
    "    print('gp:%.2f, gy:%.2f, gy_:%.2f' %(sess.run(gp), sess.run(gy), sess.run(gy_)))\n",
    "    print('gs:%.2f, gt:%.2f, gf:%.2f' %(sess.run(gs), sess.run(gt), sess.run(gf)))"
   ]
  },
  {
   "cell_type": "code",
   "execution_count": null,
   "metadata": {
    "collapsed": true
   },
   "outputs": [],
   "source": []
  }
 ],
 "metadata": {
  "kernelspec": {
   "display_name": "Python 3",
   "language": "python",
   "name": "python3"
  },
  "language_info": {
   "codemirror_mode": {
    "name": "ipython",
    "version": 3
   },
   "file_extension": ".py",
   "mimetype": "text/x-python",
   "name": "python",
   "nbconvert_exporter": "python",
   "pygments_lexer": "ipython3",
   "version": "3.5.3"
  }
 },
 "nbformat": 4,
 "nbformat_minor": 2
}
