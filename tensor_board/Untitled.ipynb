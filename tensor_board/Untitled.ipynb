{
 "cells": [
  {
   "cell_type": "code",
   "execution_count": 5,
   "metadata": {},
   "outputs": [
    {
     "data": {
      "text/plain": [
       "'\\nsaver = tf.train.Saver()\\ninit = tf.initialize_all_variables()\\nwith tf.Session() as sess\\n    sess.run(init)\\n    sess.run(embedding_var, \\n    saver.save(session, os.path.join(LOG_DIR, \"model.ckpt\"), step)\\n'"
      ]
     },
     "execution_count": 5,
     "metadata": {},
     "output_type": "execute_result"
    }
   ],
   "source": [
    "import tensorflow as tf\n",
    "import os\n",
    "from tensorflow.contrib.tensorboard.plugins import projector\n",
    "\n",
    "LOG_DIR = \"/tmp/tensorflow/tensorboard\"\n",
    "\n",
    "# Create randomly initialized embedding weights which will be trained.\n",
    "N = 100 # Number of items (vocab size).\n",
    "D = 20 # Dimensionality of the embedding.\n",
    "\n",
    "sess = tf.InteractiveSession()\n",
    "embedding_var = tf.Variable(tf.random_normal([N,D]), name='word_embedding')\n",
    "#embedding_var = tf.Variable([N,D], name='word_embedding')\n",
    "\n",
    "\"\"\"\n",
    "# Format: tensorflow/tensorboard/plugins/projector/projector_config.proto\n",
    "config = projector.ProjectorConfig()\n",
    "\n",
    "# You can add multiple embeddings. Here we add only one.\n",
    "embedding = config.embeddings.add()\n",
    "embedding.tensor_name = embedding_var.name\n",
    "# Link this tensor to its metadata file (e.g. labels).\n",
    "embedding.metadata_path = os.path.join(LOG_DIR, 'metadata.tsv')\n",
    "\n",
    "# Use the same LOG_DIR where you stored your checkpoint.\n",
    "summary_writer = tf.summary.FileWriter(LOG_DIR)\n",
    "\n",
    "# The next line writes a projector_config.pbtxt in the LOG_DIR. TensorBoard will\n",
    "# read this file during startup.\n",
    "projector.visualize_embeddings(summary_writer, config)\n",
    "\"\"\"\n",
    "tf.global_variables_initializer().run()\n",
    "saver = tf.train.Saver()\n",
    "saver.save(sess, os.path.join(LOG_DIR, \"model.ckpt\"), global_step=N)\n",
    "\n",
    "sess.close()\n",
    "\"\"\"\n",
    "saver = tf.train.Saver()\n",
    "init = tf.initialize_all_variables()\n",
    "with tf.Session() as sess\n",
    "    sess.run(init)\n",
    "    sess.run(embedding_var, \n",
    "    saver.save(session, os.path.join(LOG_DIR, \"model.ckpt\"), step)\n",
    "\"\"\""
   ]
  },
  {
   "cell_type": "code",
   "execution_count": null,
   "metadata": {
    "collapsed": true
   },
   "outputs": [],
   "source": []
  },
  {
   "cell_type": "code",
   "execution_count": null,
   "metadata": {
    "collapsed": true
   },
   "outputs": [],
   "source": []
  }
 ],
 "metadata": {
  "kernelspec": {
   "display_name": "Python 3",
   "language": "python",
   "name": "python3"
  },
  "language_info": {
   "codemirror_mode": {
    "name": "ipython",
    "version": 3
   },
   "file_extension": ".py",
   "mimetype": "text/x-python",
   "name": "python",
   "nbconvert_exporter": "python",
   "pygments_lexer": "ipython3",
   "version": "3.5.3"
  }
 },
 "nbformat": 4,
 "nbformat_minor": 2
}
