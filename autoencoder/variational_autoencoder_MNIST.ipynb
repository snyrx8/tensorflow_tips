{
 "cells": [
  {
   "cell_type": "code",
   "execution_count": 1,
   "metadata": {
    "collapsed": true
   },
   "outputs": [],
   "source": [
    "from __future__ import division, print_function, absolute_import\n",
    "\n",
    "import tensorflow as tf\n",
    "import numpy as np\n",
    "import matplotlib.pyplot as plt\n",
    "import sys\n",
    "\n",
    "%matplotlib inline\n",
    "\n",
    "from functools import partial"
   ]
  },
  {
   "cell_type": "markdown",
   "metadata": {},
   "source": [
    "### Import MNIST data"
   ]
  },
  {
   "cell_type": "code",
   "execution_count": 2,
   "metadata": {},
   "outputs": [
    {
     "name": "stdout",
     "output_type": "stream",
     "text": [
      "Extracting MNIST_data/train-images-idx3-ubyte.gz\n",
      "Extracting MNIST_data/train-labels-idx1-ubyte.gz\n",
      "Extracting MNIST_data/t10k-images-idx3-ubyte.gz\n",
      "Extracting MNIST_data/t10k-labels-idx1-ubyte.gz\n"
     ]
    }
   ],
   "source": [
    "from tensorflow.examples.tutorials.mnist import input_data\n",
    "mnist = input_data.read_data_sets(\"MNIST_data\", one_hot=True)"
   ]
  },
  {
   "cell_type": "code",
   "execution_count": 3,
   "metadata": {
    "collapsed": true
   },
   "outputs": [],
   "source": [
    "def reset_graph(seed=42):\n",
    "    tf.reset_default_graph()\n",
    "    tf.set_random_seed(seed)\n",
    "    np.random.seed(seed)\n",
    "    \n",
    "reset_graph()    "
   ]
  },
  {
   "cell_type": "code",
   "execution_count": 4,
   "metadata": {
    "collapsed": true
   },
   "outputs": [],
   "source": [
    "def variable_summaries(var):\n",
    "    \"\"\" Attach a lot of summaries to a Tensor (for TensorBoard visualization). \"\"\"\n",
    "    with tf.name_scope('summaries'):\n",
    "        mean = tf.reduce_mean(var)\n",
    "        tf.summary.scalar('mean', mean)\n",
    "        with tf.name_scope('stddev'):\n",
    "            stddev = tf.sqrt(tf.reduce_mean(tf.square(var - mean)))\n",
    "        tf.summary.scalar('stddev', stddev)\n",
    "        tf.summary.scalar('max', tf.reduce_max(var))\n",
    "        tf.summary.scalar('min', tf.reduce_min(var))\n",
    "        tf.summary.histogram('histogram', var)"
   ]
  },
  {
   "cell_type": "markdown",
   "metadata": {},
   "source": [
    "### set parameters"
   ]
  },
  {
   "cell_type": "code",
   "execution_count": 5,
   "metadata": {
    "collapsed": true
   },
   "outputs": [],
   "source": [
    "learning_rate = 0.001\n",
    "\n",
    "training_epochs = 50\n",
    "batch_size = 200\n",
    "display_step = 1\n",
    "examples_to_show = 10\n",
    "\n",
    "# Network Parameters\n",
    "n_input = 28 * 28\n",
    "n_hidden_1 = 500\n",
    "n_hidden_2 = 500\n",
    "n_hidden_coding = 20  # codings\n",
    "\n",
    "# log directory for tensorboard\n",
    "log_dir = '/tmp/tensorflow/variational_autoencoder/logs'"
   ]
  },
  {
   "cell_type": "code",
   "execution_count": 6,
   "metadata": {
    "collapsed": true
   },
   "outputs": [],
   "source": [
    "with tf.variable_scope('input'):\n",
    "    X = tf.placeholder(tf.float32, [None, n_input])"
   ]
  },
  {
   "cell_type": "markdown",
   "metadata": {},
   "source": [
    "### 標準セットのlayerを定義する\n",
    "\n",
    "ここでは、重みの初期化に\"He\"を、regularizerに\"l2\"を設定する。  \n",
    "また、tensorboardへの表示用の出力も設定する。"
   ]
  },
  {
   "cell_type": "code",
   "execution_count": 7,
   "metadata": {
    "collapsed": true
   },
   "outputs": [],
   "source": [
    "def nn_layer(input_tensor, output_dim, name, activation=tf.nn.elu, l2_reg = 0.0):\n",
    "    with tf.variable_scope(name):\n",
    "        \n",
    "        he_init = tf.contrib.layers.variance_scaling_initializer() # He initialization\n",
    "        #l2_regularizer = tf.contrib.layers.l2_regularizer(l2_reg) \n",
    "        layer = tf.layers.dense(input_tensor, output_dim, \n",
    "                                activation=activation,\n",
    "                                kernel_initializer=he_init)\n",
    "        \n",
    "        layer_vars = tf.get_collection(tf.GraphKeys.TRAINABLE_VARIABLES, name)\n",
    "        with tf.variable_scope('weights'):\n",
    "            variable_summaries(layer_vars[0])\n",
    "        with tf.variable_scope('biases'):\n",
    "            variable_summaries(layer_vars[1])\n",
    "        with tf.variable_scope('activation'):\n",
    "            tf.summary.histogram('activations', layer)\n",
    "        return layer"
   ]
  },
  {
   "cell_type": "markdown",
   "metadata": {},
   "source": [
    "### decoder部"
   ]
  },
  {
   "cell_type": "code",
   "execution_count": 8,
   "metadata": {
    "collapsed": true
   },
   "outputs": [],
   "source": [
    "def encoder(x):\n",
    "    layer_1 = nn_layer(x, n_hidden_1, name='encoder_1')\n",
    "    layer_2 = nn_layer(layer_1, n_hidden_2, name='encoder_2')\n",
    "    return layer_2"
   ]
  },
  {
   "cell_type": "markdown",
   "metadata": {},
   "source": [
    "### coding space"
   ]
  },
  {
   "cell_type": "code",
   "execution_count": 9,
   "metadata": {
    "collapsed": true
   },
   "outputs": [],
   "source": [
    "def coding_space(x):\n",
    "    coding_mean = nn_layer(x, n_hidden_coding, name='coding_mean', activation=None)\n",
    "    coding_sigma = nn_layer(x, n_hidden_coding, name='coding_sigma', activation=None)\n",
    "    noise = tf.random_normal(tf.shape(coding_sigma), dtype=tf.float32)\n",
    "    layer = coding_mean + coding_sigma * noise\n",
    "    return layer, coding_mean, coding_sigma"
   ]
  },
  {
   "cell_type": "markdown",
   "metadata": {},
   "source": [
    "### encoder部"
   ]
  },
  {
   "cell_type": "code",
   "execution_count": 10,
   "metadata": {
    "collapsed": true
   },
   "outputs": [],
   "source": [
    "def decoder(x):\n",
    "    layer_1 = nn_layer(x, n_hidden_2, name='decoder_1')\n",
    "    layer_2 = nn_layer(layer_1, n_hidden_1, name='decoder_2')\n",
    "    layer_3 = nn_layer(layer_2, n_input, name='decoder_3', activation=None)\n",
    "    return layer_3"
   ]
  },
  {
   "cell_type": "markdown",
   "metadata": {},
   "source": [
    "### シグモイド＆クロスエントロピー誤差を用いてロス値を計算する方法"
   ]
  },
  {
   "cell_type": "code",
   "execution_count": 11,
   "metadata": {
    "collapsed": true
   },
   "outputs": [],
   "source": [
    "# Construct model\n",
    "with tf.name_scope('encoder_part'):\n",
    "    encoder_op = encoder(X)\n",
    "    \n",
    "with tf.name_scope('coding_part'):\n",
    "    coding_op, coding_mean, coding_sigma = coding_space(encoder_op)\n",
    "\n",
    "with tf.name_scope('decoder_part'):\n",
    "    decoder_op = decoder(coding_op)\n",
    "\n",
    "# Prediction\n",
    "with tf.name_scope('prediction'):\n",
    "    y_pred = tf.nn.sigmoid(decoder_op)\n",
    "\n",
    "# Targets (Labels) are the input data.\n",
    "with tf.name_scope('target'):\n",
    "    y_true = X\n",
    "\n",
    "# Define loss and optimizer, minimize the squared error\n",
    "with tf.name_scope('reconstruction_loss'):\n",
    "    xentropy = tf.nn.sigmoid_cross_entropy_with_logits(labels=y_true, logits=decoder_op)\n",
    "    reconstruction_loss = tf.reduce_sum(xentropy)\n",
    "\n",
    "with tf.name_scope('latent_loss'):\n",
    "    eps = 1e-10 # smoothing term to avoid computing log(0) which is NaN\n",
    "    latent_loss = 0.5 * tf.reduce_sum(\n",
    "        tf.square(coding_sigma) + tf.square(coding_mean)\n",
    "        - 1 - tf.log(eps + tf.square(coding_sigma)))\n",
    "    \n",
    "with tf.name_scope('cost'):\n",
    "    cost = reconstruction_loss + latent_loss\n",
    "    \n",
    "tf.summary.scalar('reduce_mean', cost)\n",
    "\n",
    "\n",
    "with tf.name_scope('train'):\n",
    "    optimizer = tf.train.AdamOptimizer(learning_rate).minimize(cost)\n"
   ]
  },
  {
   "cell_type": "code",
   "execution_count": 12,
   "metadata": {
    "scrolled": false
   },
   "outputs": [
    {
     "name": "stdout",
     "output_type": "stream",
     "text": [
      "Epoch: 0001 cost= 37179.457031250\n",
      "Epoch: 0002 cost= 37113.152343750\n",
      "Epoch: 0003 cost= 38283.968750000\n",
      "Epoch: 0004 cost= 30187.667968750\n",
      "Epoch: 0005 cost= 34076.007812500\n",
      "Epoch: 0006 cost= 28048.802734375\n",
      "Epoch: 0007 cost= 26294.480468750\n",
      "Epoch: 0008 cost= 24166.691406250\n",
      "Epoch: 0009 cost= 24261.031250000\n",
      "Epoch: 0010 cost= 22473.451171875\n",
      "Epoch: 0011 cost= 22035.837890625\n",
      "Epoch: 0012 cost= 22651.277343750\n",
      "Epoch: 0013 cost= 21539.343750000\n",
      "Epoch: 0014 cost= 22305.343750000\n",
      "Epoch: 0015 cost= 21868.058593750\n",
      "Epoch: 0016 cost= 21095.980468750\n",
      "Epoch: 0017 cost= 21620.343750000\n",
      "Epoch: 0018 cost= 21580.845703125\n",
      "Epoch: 0019 cost= 21359.277343750\n",
      "Epoch: 0020 cost= 20718.783203125\n",
      "Epoch: 0021 cost= 22143.566406250\n",
      "Epoch: 0022 cost= 21072.619140625\n",
      "Epoch: 0023 cost= 25198.378906250\n",
      "Epoch: 0024 cost= 21767.498046875\n",
      "Epoch: 0025 cost= 20777.394531250\n",
      "Epoch: 0026 cost= 20530.742187500\n",
      "Epoch: 0027 cost= 20727.312500000\n",
      "Epoch: 0028 cost= 20629.867187500\n",
      "Epoch: 0029 cost= 20381.154296875\n",
      "Epoch: 0030 cost= 20123.437500000\n",
      "Epoch: 0031 cost= 21298.169921875\n",
      "Epoch: 0032 cost= 21887.375000000\n",
      "Epoch: 0033 cost= 20671.482421875\n",
      "Epoch: 0034 cost= 21525.484375000\n",
      "Epoch: 0035 cost= 25988.097656250\n",
      "Epoch: 0036 cost= 21260.253906250\n",
      "Epoch: 0037 cost= 21945.273437500\n",
      "Epoch: 0038 cost= 20626.076171875\n",
      "Epoch: 0039 cost= 20252.035156250\n",
      "Epoch: 0040 cost= 20940.937500000\n",
      "Epoch: 0041 cost= 21753.664062500\n",
      "Epoch: 0042 cost= 26563.736328125\n",
      "Epoch: 0043 cost= 28570.060546875\n",
      "Epoch: 0044 cost= 22225.697265625\n",
      "Epoch: 0045 cost= 25285.507812500\n",
      "Epoch: 0046 cost= 21713.789062500\n",
      "Epoch: 0047 cost= 22425.679687500\n",
      "Epoch: 0048 cost= 23136.351562500\n",
      "Epoch: 0049 cost= 20653.388671875\n",
      "Epoch: 0050 cost= 20595.773437500\n",
      "Optimization Finished!\n"
     ]
    },
    {
     "name": "stderr",
     "output_type": "stream",
     "text": [
      "/home/a1021028/anaconda3/envs/tensorflow/lib/python3.6/site-packages/matplotlib/figure.py:403: UserWarning: matplotlib is currently using a non-GUI backend, so cannot show the figure\n",
      "  \"matplotlib is currently using a non-GUI backend, \"\n"
     ]
    },
    {
     "data": {
      "image/png": "[encoded data removed]",
      "text/plain": [
       "<matplotlib.figure.Figure at 0x7f6f7f7fed30>"
      ]
     },
     "metadata": {},
     "output_type": "display_data"
    }
   ],
   "source": [
    "# Initializing the variables\n",
    "merged = tf.summary.merge_all()\n",
    "init = tf.global_variables_initializer()\n",
    "\n",
    "if tf.gfile.Exists(log_dir):\n",
    "    tf.gfile.DeleteRecursively(log_dir)\n",
    "tf.gfile.MakeDirs(log_dir)\n",
    "\n",
    "saver = tf.train.Saver()\n",
    "# Launch the graph\n",
    "with tf.Session() as sess:\n",
    "    sess.run(init)\n",
    "    train_writer = tf.summary.FileWriter(log_dir + '/summaries/train', sess.graph)\n",
    "    test_writer = tf.summary.FileWriter(log_dir + '/summaries/test')\n",
    "\n",
    "    total_batch = int(mnist.train.num_examples/batch_size)\n",
    "    # Training cycle\n",
    "    for epoch in range(training_epochs):\n",
    "        # Loop over all batches\n",
    "        for i in range(total_batch):\n",
    "            batch_xs, batch_ys = mnist.train.next_batch(batch_size)\n",
    "            # Run optimization op (backprop) adn cost op (to get loss value)\n",
    "            summary, _, c = sess.run([merged, optimizer, cost], feed_dict={X: batch_xs})\n",
    "        # Display logs per epoch step\n",
    "        if epoch % display_step == 0:\n",
    "            print(\"Epoch:\", '%04d' % (epoch+1), \"cost=\", \"{:.9f}\".format(c))\n",
    "            sys.stdout.flush()\n",
    "        train_writer.add_summary(summary, epoch)\n",
    "    print(\"Optimization Finished!\")\n",
    "    train_writer.close()\n",
    "    test_writer.close()\n",
    "    saver.save(sess, log_dir + \"model/my_model\")\n",
    "\n",
    "    # Applying encode and decode over test set\n",
    "    encode_decode = sess.run(y_pred,\n",
    "                             feed_dict={X: mnist.test.images[:examples_to_show]})\n",
    "    # Compare original images with their reconstructions\n",
    "    f, a = plt.subplots(2, 10, figsize=(10, 2))\n",
    "    for i in range(examples_to_show):\n",
    "        a[0][i].imshow(np.reshape(mnist.test.images[i], (28, 28)))\n",
    "        a[1][i].imshow(np.reshape(encode_decode[i], (28, 28)))\n",
    "    f.show()\n",
    "\n",
    "sess.close()"
   ]
  },
  {
   "cell_type": "markdown",
   "metadata": {},
   "source": [
    "## クラスタリング\n",
    "\n",
    "中間層の出力をTensorboardでクラスタリングしてみます。"
   ]
  },
  {
   "cell_type": "code",
   "execution_count": 25,
   "metadata": {
    "collapsed": true
   },
   "outputs": [],
   "source": [
    "import os\n",
    "from tensorflow.contrib.tensorboard.plugins import projector"
   ]
  },
  {
   "cell_type": "code",
   "execution_count": 26,
   "metadata": {},
   "outputs": [
    {
     "name": "stdout",
     "output_type": "stream",
     "text": [
      "INFO:tensorflow:Restoring parameters from ./my_model\n"
     ]
    },
    {
     "ename": "NotFoundError",
     "evalue": "Unsuccessful TensorSliceReader constructor: Failed to find any matching files for ./my_model\n\t [[Node: save_5/RestoreV2 = RestoreV2[dtypes=[DT_FLOAT], _device=\"/job:localhost/replica:0/task:0/cpu:0\"](_arg_save_5/Const_0_0, save_5/RestoreV2/tensor_names, save_5/RestoreV2/shape_and_slices)]]\n\t [[Node: save_5/RestoreV2/_81 = _Recv[client_terminated=false, recv_device=\"/job:localhost/replica:0/task:0/gpu:0\", send_device=\"/job:localhost/replica:0/task:0/cpu:0\", send_device_incarnation=1, tensor_name=\"edge_176_save_5/RestoreV2\", tensor_type=DT_FLOAT, _device=\"/job:localhost/replica:0/task:0/gpu:0\"]()]]\n\nCaused by op 'save_5/RestoreV2', defined at:\n  File \"/home/a1021028/anaconda3/envs/tensorflow/lib/python3.6/runpy.py\", line 193, in _run_module_as_main\n    \"__main__\", mod_spec)\n  File \"/home/a1021028/anaconda3/envs/tensorflow/lib/python3.6/runpy.py\", line 85, in _run_code\n    exec(code, run_globals)\n  File \"/home/a1021028/anaconda3/envs/tensorflow/lib/python3.6/site-packages/ipykernel_launcher.py\", line 16, in <module>\n    app.launch_new_instance()\n  File \"/home/a1021028/anaconda3/envs/tensorflow/lib/python3.6/site-packages/traitlets/config/application.py\", line 658, in launch_instance\n    app.start()\n  File \"/home/a1021028/anaconda3/envs/tensorflow/lib/python3.6/site-packages/ipykernel/kernelapp.py\", line 477, in start\n    ioloop.IOLoop.instance().start()\n  File \"/home/a1021028/anaconda3/envs/tensorflow/lib/python3.6/site-packages/zmq/eventloop/ioloop.py\", line 177, in start\n    super(ZMQIOLoop, self).start()\n  File \"/home/a1021028/anaconda3/envs/tensorflow/lib/python3.6/site-packages/tornado/ioloop.py\", line 888, in start\n    handler_func(fd_obj, events)\n  File \"/home/a1021028/anaconda3/envs/tensorflow/lib/python3.6/site-packages/tornado/stack_context.py\", line 277, in null_wrapper\n    return fn(*args, **kwargs)\n  File \"/home/a1021028/anaconda3/envs/tensorflow/lib/python3.6/site-packages/zmq/eventloop/zmqstream.py\", line 440, in _handle_events\n    self._handle_recv()\n  File \"/home/a1021028/anaconda3/envs/tensorflow/lib/python3.6/site-packages/zmq/eventloop/zmqstream.py\", line 472, in _handle_recv\n    self._run_callback(callback, msg)\n  File \"/home/a1021028/anaconda3/envs/tensorflow/lib/python3.6/site-packages/zmq/eventloop/zmqstream.py\", line 414, in _run_callback\n    callback(*args, **kwargs)\n  File \"/home/a1021028/anaconda3/envs/tensorflow/lib/python3.6/site-packages/tornado/stack_context.py\", line 277, in null_wrapper\n    return fn(*args, **kwargs)\n  File \"/home/a1021028/anaconda3/envs/tensorflow/lib/python3.6/site-packages/ipykernel/kernelbase.py\", line 283, in dispatcher\n    return self.dispatch_shell(stream, msg)\n  File \"/home/a1021028/anaconda3/envs/tensorflow/lib/python3.6/site-packages/ipykernel/kernelbase.py\", line 235, in dispatch_shell\n    handler(stream, idents, msg)\n  File \"/home/a1021028/anaconda3/envs/tensorflow/lib/python3.6/site-packages/ipykernel/kernelbase.py\", line 399, in execute_request\n    user_expressions, allow_stdin)\n  File \"/home/a1021028/anaconda3/envs/tensorflow/lib/python3.6/site-packages/ipykernel/ipkernel.py\", line 196, in do_execute\n    res = shell.run_cell(code, store_history=store_history, silent=silent)\n  File \"/home/a1021028/anaconda3/envs/tensorflow/lib/python3.6/site-packages/ipykernel/zmqshell.py\", line 533, in run_cell\n    return super(ZMQInteractiveShell, self).run_cell(*args, **kwargs)\n  File \"/home/a1021028/anaconda3/envs/tensorflow/lib/python3.6/site-packages/IPython/core/interactiveshell.py\", line 2683, in run_cell\n    interactivity=interactivity, compiler=compiler, result=result)\n  File \"/home/a1021028/anaconda3/envs/tensorflow/lib/python3.6/site-packages/IPython/core/interactiveshell.py\", line 2787, in run_ast_nodes\n    if self.run_code(code, result):\n  File \"/home/a1021028/anaconda3/envs/tensorflow/lib/python3.6/site-packages/IPython/core/interactiveshell.py\", line 2847, in run_code\n    exec(code_obj, self.user_global_ns, self.user_ns)\n  File \"<ipython-input-26-06eab05eaf4c>\", line 4, in <module>\n    saver = tf.train.Saver()\n  File \"/home/a1021028/anaconda3/envs/tensorflow/lib/python3.6/site-packages/tensorflow/python/training/saver.py\", line 1139, in __init__\n    self.build()\n  File \"/home/a1021028/anaconda3/envs/tensorflow/lib/python3.6/site-packages/tensorflow/python/training/saver.py\", line 1170, in build\n    restore_sequentially=self._restore_sequentially)\n  File \"/home/a1021028/anaconda3/envs/tensorflow/lib/python3.6/site-packages/tensorflow/python/training/saver.py\", line 691, in build\n    restore_sequentially, reshape)\n  File \"/home/a1021028/anaconda3/envs/tensorflow/lib/python3.6/site-packages/tensorflow/python/training/saver.py\", line 407, in _AddRestoreOps\n    tensors = self.restore_op(filename_tensor, saveable, preferred_shard)\n  File \"/home/a1021028/anaconda3/envs/tensorflow/lib/python3.6/site-packages/tensorflow/python/training/saver.py\", line 247, in restore_op\n    [spec.tensor.dtype])[0])\n  File \"/home/a1021028/anaconda3/envs/tensorflow/lib/python3.6/site-packages/tensorflow/python/ops/gen_io_ops.py\", line 640, in restore_v2\n    dtypes=dtypes, name=name)\n  File \"/home/a1021028/anaconda3/envs/tensorflow/lib/python3.6/site-packages/tensorflow/python/framework/op_def_library.py\", line 767, in apply_op\n    op_def=op_def)\n  File \"/home/a1021028/anaconda3/envs/tensorflow/lib/python3.6/site-packages/tensorflow/python/framework/ops.py\", line 2506, in create_op\n    original_op=self._default_original_op, op_def=op_def)\n  File \"/home/a1021028/anaconda3/envs/tensorflow/lib/python3.6/site-packages/tensorflow/python/framework/ops.py\", line 1269, in __init__\n    self._traceback = _extract_stack()\n\nNotFoundError (see above for traceback): Unsuccessful TensorSliceReader constructor: Failed to find any matching files for ./my_model\n\t [[Node: save_5/RestoreV2 = RestoreV2[dtypes=[DT_FLOAT], _device=\"/job:localhost/replica:0/task:0/cpu:0\"](_arg_save_5/Const_0_0, save_5/RestoreV2/tensor_names, save_5/RestoreV2/shape_and_slices)]]\n\t [[Node: save_5/RestoreV2/_81 = _Recv[client_terminated=false, recv_device=\"/job:localhost/replica:0/task:0/gpu:0\", send_device=\"/job:localhost/replica:0/task:0/cpu:0\", send_device_incarnation=1, tensor_name=\"edge_176_save_5/RestoreV2\", tensor_type=DT_FLOAT, _device=\"/job:localhost/replica:0/task:0/gpu:0\"]()]]\n",
     "output_type": "error",
     "traceback": [
      "\u001b[0;31m---------------------------------------------------------------------------\u001b[0m",
      "\u001b[0;31mNotFoundError\u001b[0m                             Traceback (most recent call last)",
      "\u001b[0;32m/home/a1021028/anaconda3/envs/tensorflow/lib/python3.6/site-packages/tensorflow/python/client/session.py\u001b[0m in \u001b[0;36m_do_call\u001b[0;34m(self, fn, *args)\u001b[0m\n\u001b[1;32m   1138\u001b[0m     \u001b[0;32mtry\u001b[0m\u001b[0;34m:\u001b[0m\u001b[0;34m\u001b[0m\u001b[0m\n\u001b[0;32m-> 1139\u001b[0;31m       \u001b[0;32mreturn\u001b[0m \u001b[0mfn\u001b[0m\u001b[0;34m(\u001b[0m\u001b[0;34m*\u001b[0m\u001b[0margs\u001b[0m\u001b[0;34m)\u001b[0m\u001b[0;34m\u001b[0m\u001b[0m\n\u001b[0m\u001b[1;32m   1140\u001b[0m     \u001b[0;32mexcept\u001b[0m \u001b[0merrors\u001b[0m\u001b[0;34m.\u001b[0m\u001b[0mOpError\u001b[0m \u001b[0;32mas\u001b[0m \u001b[0me\u001b[0m\u001b[0;34m:\u001b[0m\u001b[0;34m\u001b[0m\u001b[0m\n",
      "\u001b[0;32m/home/a1021028/anaconda3/envs/tensorflow/lib/python3.6/site-packages/tensorflow/python/client/session.py\u001b[0m in \u001b[0;36m_run_fn\u001b[0;34m(session, feed_dict, fetch_list, target_list, options, run_metadata)\u001b[0m\n\u001b[1;32m   1120\u001b[0m                                  \u001b[0mfeed_dict\u001b[0m\u001b[0;34m,\u001b[0m \u001b[0mfetch_list\u001b[0m\u001b[0;34m,\u001b[0m \u001b[0mtarget_list\u001b[0m\u001b[0;34m,\u001b[0m\u001b[0;34m\u001b[0m\u001b[0m\n\u001b[0;32m-> 1121\u001b[0;31m                                  status, run_metadata)\n\u001b[0m\u001b[1;32m   1122\u001b[0m \u001b[0;34m\u001b[0m\u001b[0m\n",
      "\u001b[0;32m/home/a1021028/anaconda3/envs/tensorflow/lib/python3.6/contextlib.py\u001b[0m in \u001b[0;36m__exit__\u001b[0;34m(self, type, value, traceback)\u001b[0m\n\u001b[1;32m     88\u001b[0m             \u001b[0;32mtry\u001b[0m\u001b[0;34m:\u001b[0m\u001b[0;34m\u001b[0m\u001b[0m\n\u001b[0;32m---> 89\u001b[0;31m                 \u001b[0mnext\u001b[0m\u001b[0;34m(\u001b[0m\u001b[0mself\u001b[0m\u001b[0;34m.\u001b[0m\u001b[0mgen\u001b[0m\u001b[0;34m)\u001b[0m\u001b[0;34m\u001b[0m\u001b[0m\n\u001b[0m\u001b[1;32m     90\u001b[0m             \u001b[0;32mexcept\u001b[0m \u001b[0mStopIteration\u001b[0m\u001b[0;34m:\u001b[0m\u001b[0;34m\u001b[0m\u001b[0m\n",
      "\u001b[0;32m/home/a1021028/anaconda3/envs/tensorflow/lib/python3.6/site-packages/tensorflow/python/framework/errors_impl.py\u001b[0m in \u001b[0;36mraise_exception_on_not_ok_status\u001b[0;34m()\u001b[0m\n\u001b[1;32m    465\u001b[0m           \u001b[0mcompat\u001b[0m\u001b[0;34m.\u001b[0m\u001b[0mas_text\u001b[0m\u001b[0;34m(\u001b[0m\u001b[0mpywrap_tensorflow\u001b[0m\u001b[0;34m.\u001b[0m\u001b[0mTF_Message\u001b[0m\u001b[0;34m(\u001b[0m\u001b[0mstatus\u001b[0m\u001b[0;34m)\u001b[0m\u001b[0;34m)\u001b[0m\u001b[0;34m,\u001b[0m\u001b[0;34m\u001b[0m\u001b[0m\n\u001b[0;32m--> 466\u001b[0;31m           pywrap_tensorflow.TF_GetCode(status))\n\u001b[0m\u001b[1;32m    467\u001b[0m   \u001b[0;32mfinally\u001b[0m\u001b[0;34m:\u001b[0m\u001b[0;34m\u001b[0m\u001b[0m\n",
      "\u001b[0;31mNotFoundError\u001b[0m: Unsuccessful TensorSliceReader constructor: Failed to find any matching files for ./my_model\n\t [[Node: save_5/RestoreV2 = RestoreV2[dtypes=[DT_FLOAT], _device=\"/job:localhost/replica:0/task:0/cpu:0\"](_arg_save_5/Const_0_0, save_5/RestoreV2/tensor_names, save_5/RestoreV2/shape_and_slices)]]\n\t [[Node: save_5/RestoreV2/_81 = _Recv[client_terminated=false, recv_device=\"/job:localhost/replica:0/task:0/gpu:0\", send_device=\"/job:localhost/replica:0/task:0/cpu:0\", send_device_incarnation=1, tensor_name=\"edge_176_save_5/RestoreV2\", tensor_type=DT_FLOAT, _device=\"/job:localhost/replica:0/task:0/gpu:0\"]()]]",
      "\nDuring handling of the above exception, another exception occurred:\n",
      "\u001b[0;31mNotFoundError\u001b[0m                             Traceback (most recent call last)",
      "\u001b[0;32m<ipython-input-26-06eab05eaf4c>\u001b[0m in \u001b[0;36m<module>\u001b[0;34m()\u001b[0m\n\u001b[1;32m      4\u001b[0m \u001b[0msaver\u001b[0m \u001b[0;34m=\u001b[0m \u001b[0mtf\u001b[0m\u001b[0;34m.\u001b[0m\u001b[0mtrain\u001b[0m\u001b[0;34m.\u001b[0m\u001b[0mSaver\u001b[0m\u001b[0;34m(\u001b[0m\u001b[0;34m)\u001b[0m\u001b[0;34m\u001b[0m\u001b[0m\n\u001b[1;32m      5\u001b[0m \u001b[0;32mwith\u001b[0m \u001b[0mtf\u001b[0m\u001b[0;34m.\u001b[0m\u001b[0mSession\u001b[0m\u001b[0;34m(\u001b[0m\u001b[0;34m)\u001b[0m \u001b[0;32mas\u001b[0m \u001b[0msess\u001b[0m\u001b[0;34m:\u001b[0m\u001b[0;34m\u001b[0m\u001b[0m\n\u001b[0;32m----> 6\u001b[0;31m     \u001b[0msaver\u001b[0m\u001b[0;34m.\u001b[0m\u001b[0mrestore\u001b[0m\u001b[0;34m(\u001b[0m\u001b[0msess\u001b[0m\u001b[0;34m,\u001b[0m \u001b[0;34m\"./my_model\"\u001b[0m\u001b[0;34m)\u001b[0m \u001b[0;31m# not shown\u001b[0m\u001b[0;34m\u001b[0m\u001b[0m\n\u001b[0m\u001b[1;32m      7\u001b[0m     \u001b[0mbatch_xs\u001b[0m\u001b[0;34m,\u001b[0m \u001b[0mbatch_ys\u001b[0m \u001b[0;34m=\u001b[0m \u001b[0mmnist\u001b[0m\u001b[0;34m.\u001b[0m\u001b[0mtest\u001b[0m\u001b[0;34m.\u001b[0m\u001b[0mnext_batch\u001b[0m\u001b[0;34m(\u001b[0m\u001b[0mn_data\u001b[0m\u001b[0;34m)\u001b[0m\u001b[0;34m\u001b[0m\u001b[0m\n\u001b[1;32m      8\u001b[0m     \u001b[0mhidden\u001b[0m \u001b[0;34m=\u001b[0m \u001b[0msess\u001b[0m\u001b[0;34m.\u001b[0m\u001b[0mrun\u001b[0m\u001b[0;34m(\u001b[0m\u001b[0mcoding_op\u001b[0m\u001b[0;34m,\u001b[0m \u001b[0mfeed_dict\u001b[0m\u001b[0;34m=\u001b[0m\u001b[0;34m{\u001b[0m\u001b[0mX\u001b[0m\u001b[0;34m:\u001b[0m \u001b[0mbatch_xs\u001b[0m\u001b[0;34m}\u001b[0m\u001b[0;34m)\u001b[0m\u001b[0;34m\u001b[0m\u001b[0m\n",
      "\u001b[0;32m/home/a1021028/anaconda3/envs/tensorflow/lib/python3.6/site-packages/tensorflow/python/training/saver.py\u001b[0m in \u001b[0;36mrestore\u001b[0;34m(self, sess, save_path)\u001b[0m\n\u001b[1;32m   1546\u001b[0m     \u001b[0mlogging\u001b[0m\u001b[0;34m.\u001b[0m\u001b[0minfo\u001b[0m\u001b[0;34m(\u001b[0m\u001b[0;34m\"Restoring parameters from %s\"\u001b[0m\u001b[0;34m,\u001b[0m \u001b[0msave_path\u001b[0m\u001b[0;34m)\u001b[0m\u001b[0;34m\u001b[0m\u001b[0m\n\u001b[1;32m   1547\u001b[0m     sess.run(self.saver_def.restore_op_name,\n\u001b[0;32m-> 1548\u001b[0;31m              {self.saver_def.filename_tensor_name: save_path})\n\u001b[0m\u001b[1;32m   1549\u001b[0m \u001b[0;34m\u001b[0m\u001b[0m\n\u001b[1;32m   1550\u001b[0m   \u001b[0;34m@\u001b[0m\u001b[0mstaticmethod\u001b[0m\u001b[0;34m\u001b[0m\u001b[0m\n",
      "\u001b[0;32m/home/a1021028/anaconda3/envs/tensorflow/lib/python3.6/site-packages/tensorflow/python/client/session.py\u001b[0m in \u001b[0;36mrun\u001b[0;34m(self, fetches, feed_dict, options, run_metadata)\u001b[0m\n\u001b[1;32m    787\u001b[0m     \u001b[0;32mtry\u001b[0m\u001b[0;34m:\u001b[0m\u001b[0;34m\u001b[0m\u001b[0m\n\u001b[1;32m    788\u001b[0m       result = self._run(None, fetches, feed_dict, options_ptr,\n\u001b[0;32m--> 789\u001b[0;31m                          run_metadata_ptr)\n\u001b[0m\u001b[1;32m    790\u001b[0m       \u001b[0;32mif\u001b[0m \u001b[0mrun_metadata\u001b[0m\u001b[0;34m:\u001b[0m\u001b[0;34m\u001b[0m\u001b[0m\n\u001b[1;32m    791\u001b[0m         \u001b[0mproto_data\u001b[0m \u001b[0;34m=\u001b[0m \u001b[0mtf_session\u001b[0m\u001b[0;34m.\u001b[0m\u001b[0mTF_GetBuffer\u001b[0m\u001b[0;34m(\u001b[0m\u001b[0mrun_metadata_ptr\u001b[0m\u001b[0;34m)\u001b[0m\u001b[0;34m\u001b[0m\u001b[0m\n",
      "\u001b[0;32m/home/a1021028/anaconda3/envs/tensorflow/lib/python3.6/site-packages/tensorflow/python/client/session.py\u001b[0m in \u001b[0;36m_run\u001b[0;34m(self, handle, fetches, feed_dict, options, run_metadata)\u001b[0m\n\u001b[1;32m    995\u001b[0m     \u001b[0;32mif\u001b[0m \u001b[0mfinal_fetches\u001b[0m \u001b[0;32mor\u001b[0m \u001b[0mfinal_targets\u001b[0m\u001b[0;34m:\u001b[0m\u001b[0;34m\u001b[0m\u001b[0m\n\u001b[1;32m    996\u001b[0m       results = self._do_run(handle, final_targets, final_fetches,\n\u001b[0;32m--> 997\u001b[0;31m                              feed_dict_string, options, run_metadata)\n\u001b[0m\u001b[1;32m    998\u001b[0m     \u001b[0;32melse\u001b[0m\u001b[0;34m:\u001b[0m\u001b[0;34m\u001b[0m\u001b[0m\n\u001b[1;32m    999\u001b[0m       \u001b[0mresults\u001b[0m \u001b[0;34m=\u001b[0m \u001b[0;34m[\u001b[0m\u001b[0;34m]\u001b[0m\u001b[0;34m\u001b[0m\u001b[0m\n",
      "\u001b[0;32m/home/a1021028/anaconda3/envs/tensorflow/lib/python3.6/site-packages/tensorflow/python/client/session.py\u001b[0m in \u001b[0;36m_do_run\u001b[0;34m(self, handle, target_list, fetch_list, feed_dict, options, run_metadata)\u001b[0m\n\u001b[1;32m   1130\u001b[0m     \u001b[0;32mif\u001b[0m \u001b[0mhandle\u001b[0m \u001b[0;32mis\u001b[0m \u001b[0;32mNone\u001b[0m\u001b[0;34m:\u001b[0m\u001b[0;34m\u001b[0m\u001b[0m\n\u001b[1;32m   1131\u001b[0m       return self._do_call(_run_fn, self._session, feed_dict, fetch_list,\n\u001b[0;32m-> 1132\u001b[0;31m                            target_list, options, run_metadata)\n\u001b[0m\u001b[1;32m   1133\u001b[0m     \u001b[0;32melse\u001b[0m\u001b[0;34m:\u001b[0m\u001b[0;34m\u001b[0m\u001b[0m\n\u001b[1;32m   1134\u001b[0m       return self._do_call(_prun_fn, self._session, handle, feed_dict,\n",
      "\u001b[0;32m/home/a1021028/anaconda3/envs/tensorflow/lib/python3.6/site-packages/tensorflow/python/client/session.py\u001b[0m in \u001b[0;36m_do_call\u001b[0;34m(self, fn, *args)\u001b[0m\n\u001b[1;32m   1150\u001b[0m         \u001b[0;32mexcept\u001b[0m \u001b[0mKeyError\u001b[0m\u001b[0;34m:\u001b[0m\u001b[0;34m\u001b[0m\u001b[0m\n\u001b[1;32m   1151\u001b[0m           \u001b[0;32mpass\u001b[0m\u001b[0;34m\u001b[0m\u001b[0m\n\u001b[0;32m-> 1152\u001b[0;31m       \u001b[0;32mraise\u001b[0m \u001b[0mtype\u001b[0m\u001b[0;34m(\u001b[0m\u001b[0me\u001b[0m\u001b[0;34m)\u001b[0m\u001b[0;34m(\u001b[0m\u001b[0mnode_def\u001b[0m\u001b[0;34m,\u001b[0m \u001b[0mop\u001b[0m\u001b[0;34m,\u001b[0m \u001b[0mmessage\u001b[0m\u001b[0;34m)\u001b[0m\u001b[0;34m\u001b[0m\u001b[0m\n\u001b[0m\u001b[1;32m   1153\u001b[0m \u001b[0;34m\u001b[0m\u001b[0m\n\u001b[1;32m   1154\u001b[0m   \u001b[0;32mdef\u001b[0m \u001b[0m_extend_graph\u001b[0m\u001b[0;34m(\u001b[0m\u001b[0mself\u001b[0m\u001b[0;34m)\u001b[0m\u001b[0;34m:\u001b[0m\u001b[0;34m\u001b[0m\u001b[0m\n",
      "\u001b[0;31mNotFoundError\u001b[0m: Unsuccessful TensorSliceReader constructor: Failed to find any matching files for ./my_model\n\t [[Node: save_5/RestoreV2 = RestoreV2[dtypes=[DT_FLOAT], _device=\"/job:localhost/replica:0/task:0/cpu:0\"](_arg_save_5/Const_0_0, save_5/RestoreV2/tensor_names, save_5/RestoreV2/shape_and_slices)]]\n\t [[Node: save_5/RestoreV2/_81 = _Recv[client_terminated=false, recv_device=\"/job:localhost/replica:0/task:0/gpu:0\", send_device=\"/job:localhost/replica:0/task:0/cpu:0\", send_device_incarnation=1, tensor_name=\"edge_176_save_5/RestoreV2\", tensor_type=DT_FLOAT, _device=\"/job:localhost/replica:0/task:0/gpu:0\"]()]]\n\nCaused by op 'save_5/RestoreV2', defined at:\n  File \"/home/a1021028/anaconda3/envs/tensorflow/lib/python3.6/runpy.py\", line 193, in _run_module_as_main\n    \"__main__\", mod_spec)\n  File \"/home/a1021028/anaconda3/envs/tensorflow/lib/python3.6/runpy.py\", line 85, in _run_code\n    exec(code, run_globals)\n  File \"/home/a1021028/anaconda3/envs/tensorflow/lib/python3.6/site-packages/ipykernel_launcher.py\", line 16, in <module>\n    app.launch_new_instance()\n  File \"/home/a1021028/anaconda3/envs/tensorflow/lib/python3.6/site-packages/traitlets/config/application.py\", line 658, in launch_instance\n    app.start()\n  File \"/home/a1021028/anaconda3/envs/tensorflow/lib/python3.6/site-packages/ipykernel/kernelapp.py\", line 477, in start\n    ioloop.IOLoop.instance().start()\n  File \"/home/a1021028/anaconda3/envs/tensorflow/lib/python3.6/site-packages/zmq/eventloop/ioloop.py\", line 177, in start\n    super(ZMQIOLoop, self).start()\n  File \"/home/a1021028/anaconda3/envs/tensorflow/lib/python3.6/site-packages/tornado/ioloop.py\", line 888, in start\n    handler_func(fd_obj, events)\n  File \"/home/a1021028/anaconda3/envs/tensorflow/lib/python3.6/site-packages/tornado/stack_context.py\", line 277, in null_wrapper\n    return fn(*args, **kwargs)\n  File \"/home/a1021028/anaconda3/envs/tensorflow/lib/python3.6/site-packages/zmq/eventloop/zmqstream.py\", line 440, in _handle_events\n    self._handle_recv()\n  File \"/home/a1021028/anaconda3/envs/tensorflow/lib/python3.6/site-packages/zmq/eventloop/zmqstream.py\", line 472, in _handle_recv\n    self._run_callback(callback, msg)\n  File \"/home/a1021028/anaconda3/envs/tensorflow/lib/python3.6/site-packages/zmq/eventloop/zmqstream.py\", line 414, in _run_callback\n    callback(*args, **kwargs)\n  File \"/home/a1021028/anaconda3/envs/tensorflow/lib/python3.6/site-packages/tornado/stack_context.py\", line 277, in null_wrapper\n    return fn(*args, **kwargs)\n  File \"/home/a1021028/anaconda3/envs/tensorflow/lib/python3.6/site-packages/ipykernel/kernelbase.py\", line 283, in dispatcher\n    return self.dispatch_shell(stream, msg)\n  File \"/home/a1021028/anaconda3/envs/tensorflow/lib/python3.6/site-packages/ipykernel/kernelbase.py\", line 235, in dispatch_shell\n    handler(stream, idents, msg)\n  File \"/home/a1021028/anaconda3/envs/tensorflow/lib/python3.6/site-packages/ipykernel/kernelbase.py\", line 399, in execute_request\n    user_expressions, allow_stdin)\n  File \"/home/a1021028/anaconda3/envs/tensorflow/lib/python3.6/site-packages/ipykernel/ipkernel.py\", line 196, in do_execute\n    res = shell.run_cell(code, store_history=store_history, silent=silent)\n  File \"/home/a1021028/anaconda3/envs/tensorflow/lib/python3.6/site-packages/ipykernel/zmqshell.py\", line 533, in run_cell\n    return super(ZMQInteractiveShell, self).run_cell(*args, **kwargs)\n  File \"/home/a1021028/anaconda3/envs/tensorflow/lib/python3.6/site-packages/IPython/core/interactiveshell.py\", line 2683, in run_cell\n    interactivity=interactivity, compiler=compiler, result=result)\n  File \"/home/a1021028/anaconda3/envs/tensorflow/lib/python3.6/site-packages/IPython/core/interactiveshell.py\", line 2787, in run_ast_nodes\n    if self.run_code(code, result):\n  File \"/home/a1021028/anaconda3/envs/tensorflow/lib/python3.6/site-packages/IPython/core/interactiveshell.py\", line 2847, in run_code\n    exec(code_obj, self.user_global_ns, self.user_ns)\n  File \"<ipython-input-26-06eab05eaf4c>\", line 4, in <module>\n    saver = tf.train.Saver()\n  File \"/home/a1021028/anaconda3/envs/tensorflow/lib/python3.6/site-packages/tensorflow/python/training/saver.py\", line 1139, in __init__\n    self.build()\n  File \"/home/a1021028/anaconda3/envs/tensorflow/lib/python3.6/site-packages/tensorflow/python/training/saver.py\", line 1170, in build\n    restore_sequentially=self._restore_sequentially)\n  File \"/home/a1021028/anaconda3/envs/tensorflow/lib/python3.6/site-packages/tensorflow/python/training/saver.py\", line 691, in build\n    restore_sequentially, reshape)\n  File \"/home/a1021028/anaconda3/envs/tensorflow/lib/python3.6/site-packages/tensorflow/python/training/saver.py\", line 407, in _AddRestoreOps\n    tensors = self.restore_op(filename_tensor, saveable, preferred_shard)\n  File \"/home/a1021028/anaconda3/envs/tensorflow/lib/python3.6/site-packages/tensorflow/python/training/saver.py\", line 247, in restore_op\n    [spec.tensor.dtype])[0])\n  File \"/home/a1021028/anaconda3/envs/tensorflow/lib/python3.6/site-packages/tensorflow/python/ops/gen_io_ops.py\", line 640, in restore_v2\n    dtypes=dtypes, name=name)\n  File \"/home/a1021028/anaconda3/envs/tensorflow/lib/python3.6/site-packages/tensorflow/python/framework/op_def_library.py\", line 767, in apply_op\n    op_def=op_def)\n  File \"/home/a1021028/anaconda3/envs/tensorflow/lib/python3.6/site-packages/tensorflow/python/framework/ops.py\", line 2506, in create_op\n    original_op=self._default_original_op, op_def=op_def)\n  File \"/home/a1021028/anaconda3/envs/tensorflow/lib/python3.6/site-packages/tensorflow/python/framework/ops.py\", line 1269, in __init__\n    self._traceback = _extract_stack()\n\nNotFoundError (see above for traceback): Unsuccessful TensorSliceReader constructor: Failed to find any matching files for ./my_model\n\t [[Node: save_5/RestoreV2 = RestoreV2[dtypes=[DT_FLOAT], _device=\"/job:localhost/replica:0/task:0/cpu:0\"](_arg_save_5/Const_0_0, save_5/RestoreV2/tensor_names, save_5/RestoreV2/shape_and_slices)]]\n\t [[Node: save_5/RestoreV2/_81 = _Recv[client_terminated=false, recv_device=\"/job:localhost/replica:0/task:0/gpu:0\", send_device=\"/job:localhost/replica:0/task:0/cpu:0\", send_device_incarnation=1, tensor_name=\"edge_176_save_5/RestoreV2\", tensor_type=DT_FLOAT, _device=\"/job:localhost/replica:0/task:0/gpu:0\"]()]]\n"
     ]
    }
   ],
   "source": [
    "n_data = 10000\n",
    "\n",
    "#init = tf.global_variables_initializer()\n",
    "saver = tf.train.Saver()\n",
    "with tf.Session() as sess:\n",
    "    saver.restore(sess, log_dir + \"model/my_model\") # not shown\n",
    "    batch_xs, batch_ys = mnist.test.next_batch(n_data)\n",
    "    hidden = sess.run(coding_op, feed_dict={X: batch_xs})\n",
    "    hidden_mean = sess.run(coding_mean, feed_dict={X: batch_xs})"
   ]
  },
  {
   "cell_type": "code",
   "execution_count": 21,
   "metadata": {},
   "outputs": [
    {
     "data": {
      "text/plain": [
       "array([[-0.28738695,  0.30313328, -0.11015311, ..., -1.16592741,\n",
       "        -0.0133209 ,  0.24648175],\n",
       "       [-1.41768348,  0.43386692, -1.85157895, ...,  0.26582742,\n",
       "        -0.29927453, -0.80946398],\n",
       "       [-0.84023643,  0.0174911 , -0.47468168, ...,  0.71053821,\n",
       "        -0.70165473,  0.88127691],\n",
       "       ..., \n",
       "       [ 0.19201279,  0.41554725, -0.8835907 , ...,  1.72696555,\n",
       "        -1.00333214, -0.66721904],\n",
       "       [-0.89550412,  1.14694214, -1.70604908, ..., -0.60136235,\n",
       "        -0.35393098,  0.78778672],\n",
       "       [-0.7568565 , -0.5854131 ,  0.24616061, ..., -0.24207674,\n",
       "        -0.57763982, -0.12545434]], dtype=float32)"
      ]
     },
     "execution_count": 21,
     "metadata": {},
     "output_type": "execute_result"
    }
   ],
   "source": [
    "hidden_mean"
   ]
  },
  {
   "cell_type": "markdown",
   "metadata": {},
   "source": [
    "### メタデータファイルの作成"
   ]
  },
  {
   "cell_type": "code",
   "execution_count": 22,
   "metadata": {
    "collapsed": true
   },
   "outputs": [],
   "source": [
    "# \n",
    "#LOG_DIR = \"/tmp/tensorflow/variational_AE_MNIST/logs\"\n",
    "\n",
    "# recreate log directory\n",
    "if tf.gfile.Exists(log_dir + '/projector'):\n",
    "    tf.gfile.DeleteRecursively(log_dir + '/projector')\n",
    "tf.gfile.MakeDirs(log_dir + '/projector')"
   ]
  },
  {
   "cell_type": "code",
   "execution_count": 23,
   "metadata": {
    "collapsed": true
   },
   "outputs": [],
   "source": [
    "ys = batch_ys\n",
    "with open(os.path.join(log_dir, 'projector/metadata.tsv'),'w') as f:\n",
    "    #f.write(\"Index\\tLabel\\n\")\n",
    "    for index, label in enumerate(ys):\n",
    "        label = int(np.where(label == 1)[0])   ## one-hot to index\n",
    "        f.write('{}\\n'.format(label))"
   ]
  },
  {
   "cell_type": "markdown",
   "metadata": {},
   "source": [
    "### クラスタ用のembeddingを保存"
   ]
  },
  {
   "cell_type": "code",
   "execution_count": 24,
   "metadata": {
    "collapsed": true
   },
   "outputs": [],
   "source": [
    "xs = tf.stack(hidden_mean, axis=0)\n",
    "\n",
    "with tf.variable_scope('hidden_embedding'):\n",
    "    embedding_var = tf.Variable(xs, trainable=False, name='embedding')\n",
    "\n",
    "\n",
    "summary_writer = tf.summary.FileWriter(os.path.join(log_dir, 'projector'), sess.graph)\n",
    "\n",
    "config = projector.ProjectorConfig()\n",
    "embedding = config.embeddings.add()\n",
    "embedding.tensor_name = embedding_var.name\n",
    "\n",
    "# metadata \n",
    "embedding.metadata_path = os.path.join(log_dir, 'projector/metadata.tsv')\n",
    "\n",
    "# stripe \n",
    "#embedding.sprite.image_path = os.path.join(LOG_DIR, 'sprite_image.png')\n",
    "#embedding.sprite.single_image_dim.extend([28,28])\n",
    "\n",
    "projector.visualize_embeddings(summary_writer, config)\n",
    "\n",
    "\n",
    "#sess = tf.InteractiveSession()\n",
    "\n",
    "# initialize \"embedding_ver\"\n",
    "init = tf.variables_initializer([embedding_var])\n",
    "\n",
    "with tf.Session() as sess:\n",
    "    sess.run(init)\n",
    "    # specify variable to save \n",
    "    saver = tf.train.Saver([embedding_var])\n",
    "    # save variables \n",
    "    saver.save(sess, os.path.join(log_dir, \"projector/model.ckpt\"), global_step=n_data)"
   ]
  },
  {
   "cell_type": "code",
   "execution_count": null,
   "metadata": {
    "collapsed": true
   },
   "outputs": [],
   "source": []
  },
  {
   "cell_type": "markdown",
   "metadata": {
    "collapsed": true
   },
   "source": [
    "## Generate digits"
   ]
  },
  {
   "cell_type": "code",
   "execution_count": 13,
   "metadata": {},
   "outputs": [
    {
     "name": "stdout",
     "output_type": "stream",
     "text": [
      "0 Train total loss: 39003.5 \tReconstruction loss: 24746.2 \tLatent loss: 14257.2\n",
      "1 Train total loss: 33304.0 \tReconstruction loss: 26539.2 \tLatent loss: 6764.78\n",
      "2 Train total loss: 25684.4 \tReconstruction loss: 21760.1 \tLatent loss: 3924.35\n",
      "3 Train total loss: 22355.3 \tReconstruction loss: 19143.1 \tLatent loss: 3212.25\n",
      "4 Train total loss: 27859.5 \tReconstruction loss: 21472.4 \tLatent loss: 6387.15\n",
      "5 Train total loss: 19259.1 \tReconstruction loss: 16062.2 \tLatent loss: 3196.91\n",
      "6 Train total loss: 17922.7 \tReconstruction loss: 14869.7 \tLatent loss: 3053.01\n",
      "7 Train total loss: 17895.9 \tReconstruction loss: 14591.7 \tLatent loss: 3304.21\n",
      "8 Train total loss: 16756.8 \tReconstruction loss: 13636.0 \tLatent loss: 3120.75\n",
      "9 Train total loss: 16550.9 \tReconstruction loss: 13419.7 \tLatent loss: 3131.18\n",
      "10 Train total loss: 16436.9 \tReconstruction loss: 13212.8 \tLatent loss: 3224.11\n",
      "11 Train total loss: 17302.1 \tReconstruction loss: 14013.5 \tLatent loss: 3288.53\n",
      "12 Train total loss: 16707.1 \tReconstruction loss: 13351.3 \tLatent loss: 3355.84\n",
      "13 Train total loss: 16047.3 \tReconstruction loss: 12727.3 \tLatent loss: 3320.03\n",
      "14 Train total loss: 16361.7 \tReconstruction loss: 13146.5 \tLatent loss: 3215.12\n",
      "15 Train total loss: 16357.7 \tReconstruction loss: 12964.5 \tLatent loss: 3393.22\n",
      "16 Train total loss: 15892.7 \tReconstruction loss: 12752.5 \tLatent loss: 3140.2\n",
      "17 Train total loss: 16003.2 \tReconstruction loss: 12682.7 \tLatent loss: 3320.52\n",
      "18 Train total loss: 34143.0 \tReconstruction loss: 25898.6 \tLatent loss: 8244.45\n",
      "19 Train total loss: 33717.4 \tReconstruction loss: 28093.5 \tLatent loss: 5623.83\n",
      "20 Train total loss: 26472.0 \tReconstruction loss: 21959.4 \tLatent loss: 4512.61\n",
      "21 Train total loss: 25402.8 \tReconstruction loss: 20890.9 \tLatent loss: 4511.9\n",
      "22 Train total loss: 31163.2 \tReconstruction loss: 22687.4 \tLatent loss: 8475.88\n",
      "23 Train total loss: 20797.3 \tReconstruction loss: 17450.8 \tLatent loss: 3346.56\n",
      "24 Train total loss: 20200.1 \tReconstruction loss: 16627.4 \tLatent loss: 3572.72\n",
      "25 Train total loss: 17354.5 \tReconstruction loss: 14207.2 \tLatent loss: 3147.39\n",
      "26 Train total loss: 16052.3 \tReconstruction loss: 12896.9 \tLatent loss: 3155.33\n",
      "27 Train total loss: 16579.7 \tReconstruction loss: 13303.6 \tLatent loss: 3276.08\n",
      "28 Train total loss: 15311.5 \tReconstruction loss: 12241.5 \tLatent loss: 3069.99\n",
      "29 Train total loss: 15836.1 \tReconstruction loss: 12618.1 \tLatent loss: 3218.08\n",
      "30 Train total loss: 15591.9 \tReconstruction loss: 12395.4 \tLatent loss: 3196.52\n",
      "31 Train total loss: 15974.6 \tReconstruction loss: 12652.3 \tLatent loss: 3322.29\n",
      "32 Train total loss: 15470.1 \tReconstruction loss: 12294.6 \tLatent loss: 3175.48\n",
      "33 Train total loss: 15971.3 \tReconstruction loss: 12601.1 \tLatent loss: 3370.18\n",
      "34 Train total loss: 15516.9 \tReconstruction loss: 12368.8 \tLatent loss: 3148.12\n",
      "35 Train total loss: 16200.0 \tReconstruction loss: 12868.6 \tLatent loss: 3331.31\n",
      "36 Train total loss: 22420.1 \tReconstruction loss: 17461.8 \tLatent loss: 4958.3\n",
      "37 Train total loss: 16994.3 \tReconstruction loss: 13551.9 \tLatent loss: 3442.37\n",
      "38 Train total loss: 15549.4 \tReconstruction loss: 12284.6 \tLatent loss: 3264.81\n",
      "39 Train total loss: 15432.7 \tReconstruction loss: 12062.2 \tLatent loss: 3370.51\n",
      "40 Train total loss: 15168.3 \tReconstruction loss: 11859.8 \tLatent loss: 3308.45\n",
      "41 Train total loss: 15802.2 \tReconstruction loss: 12448.1 \tLatent loss: 3354.03\n",
      "42 Train total loss: 15282.1 \tReconstruction loss: 12060.4 \tLatent loss: 3221.73\n",
      "43 Train total loss: 20854.9 \tReconstruction loss: 16686.1 \tLatent loss: 4168.81\n",
      "44 Train total loss: 15698.1 \tReconstruction loss: 12382.5 \tLatent loss: 3315.59\n",
      "45 Train total loss: 15636.7 \tReconstruction loss: 12303.9 \tLatent loss: 3332.85\n",
      "46 Train total loss: 15487.1 \tReconstruction loss: 12131.0 \tLatent loss: 3356.16\n",
      "47 Train total loss: 21210.3 \tReconstruction loss: 17104.4 \tLatent loss: 4105.92\n",
      "48 Train total loss: 15554.0 \tReconstruction loss: 12382.6 \tLatent loss: 3171.42\n",
      "49 Train total loss: 16285.4 \tReconstruction loss: 12608.8 \tLatent loss: 3676.61\n"
     ]
    }
   ],
   "source": [
    "import numpy as np\n",
    "\n",
    "n_digits = 60\n",
    "n_epochs = 50\n",
    "batch_size = 150\n",
    "\n",
    "# Initializing the variables\n",
    "merged = tf.summary.merge_all()\n",
    "init = tf.global_variables_initializer()\n",
    "\n",
    "if tf.gfile.Exists(log_dir):\n",
    "    tf.gfile.DeleteRecursively(log_dir)\n",
    "tf.gfile.MakeDirs(log_dir)\n",
    "\n",
    "with tf.Session() as sess:\n",
    "    init.run()\n",
    "    train_writer = tf.summary.FileWriter(log_dir + '/summaries/train', sess.graph)\n",
    "    test_writer = tf.summary.FileWriter(log_dir + '/summaries/test')\n",
    "    for epoch in range(n_epochs):\n",
    "        n_batches = mnist.train.num_examples // batch_size\n",
    "        for iteration in range(n_batches):\n",
    "            print(\"\\r{}%\".format(100 * iteration // n_batches), end=\"\") # not shown in the book\n",
    "            sys.stdout.flush()  \n",
    "            X_batch, y_batch = mnist.train.next_batch(batch_size)\n",
    "            sess.run(optimizer, feed_dict={X: X_batch})\n",
    "        summary, loss_val, reconstruction_loss_val, latent_loss_val = sess.run([merged, cost, reconstruction_loss, latent_loss], feed_dict={X: X_batch}) \n",
    "        print(\"\\r{}\".format(epoch), \"Train total loss:\", loss_val, \"\\tReconstruction loss:\", reconstruction_loss_val, \"\\tLatent loss:\", latent_loss_val)  # not shown    \n",
    "        train_writer.add_summary(summary, epoch)\n",
    "        \n",
    "        codings_rnd = np.random.normal(size=[n_digits, n_hidden_coding])\n",
    "        outputs_val = y_pred.eval(feed_dict={coding_op: codings_rnd})\n",
    "        \n",
    "    train_writer.close()\n",
    "    test_writer.close()"
   ]
  },
  {
   "cell_type": "code",
   "execution_count": 14,
   "metadata": {
    "collapsed": true
   },
   "outputs": [],
   "source": [
    "def plot_image(image, shape=[28, 28]):\n",
    "    plt.imshow(image.reshape(shape), cmap=\"Greys\", interpolation=\"nearest\")\n",
    "    plt.axis(\"off\")"
   ]
  },
  {
   "cell_type": "code",
   "execution_count": 15,
   "metadata": {
    "scrolled": true
   },
   "outputs": [
    {
     "data": {
      "image/png": "[encoded data removed]",
      "text/plain": [
       "<matplotlib.figure.Figure at 0x7f8e19941550>"
      ]
     },
     "metadata": {},
     "output_type": "display_data"
    }
   ],
   "source": [
    "plt.figure(figsize=(8,50)) # not shown in the book\n",
    "for iteration in range(n_digits):\n",
    "    plt.subplot(n_digits, 10, iteration + 1)\n",
    "    plot_image(outputs_val[iteration])"
   ]
  }
 ],
 "metadata": {
  "kernelspec": {
   "display_name": "Python 3",
   "language": "python",
   "name": "python3"
  },
  "language_info": {
   "codemirror_mode": {
    "name": "ipython",
    "version": 3
   },
   "file_extension": ".py",
   "mimetype": "text/x-python",
   "name": "python",
   "nbconvert_exporter": "python",
   "pygments_lexer": "ipython3",
   "version": "3.6.1"
  }
 },
 "nbformat": 4,
 "nbformat_minor": 2
}
