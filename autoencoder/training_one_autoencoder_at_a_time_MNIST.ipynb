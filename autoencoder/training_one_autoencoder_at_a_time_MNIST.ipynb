{
 "cells": [
  {
   "cell_type": "code",
   "execution_count": 1,
   "metadata": {
    "collapsed": true
   },
   "outputs": [],
   "source": [
    "from __future__ import division, print_function, absolute_import\n",
    "\n",
    "import tensorflow as tf\n",
    "import numpy as np\n",
    "import matplotlib.pyplot as plt\n",
    "import sys\n",
    "import os\n",
    "\n",
    "%matplotlib inline\n",
    "\n",
    "from functools import partial"
   ]
  },
  {
   "cell_type": "code",
   "execution_count": 2,
   "metadata": {
    "collapsed": true
   },
   "outputs": [],
   "source": [
    "def reset_graph(seed=42):\n",
    "    tf.reset_default_graph()\n",
    "    tf.set_random_seed(seed)\n",
    "    np.random.seed(seed)\n",
    "    \n",
    "reset_graph()    "
   ]
  },
  {
   "cell_type": "code",
   "execution_count": 3,
   "metadata": {
    "collapsed": true
   },
   "outputs": [],
   "source": [
    "def variable_summaries(var):\n",
    "    \"\"\" Attach a lot of summaries to a Tensor (for TensorBoard visualization). \"\"\"\n",
    "    with tf.name_scope('summaries'):\n",
    "        mean = tf.reduce_mean(var)\n",
    "        tf.summary.scalar('mean', mean)\n",
    "        with tf.name_scope('stddev'):\n",
    "            stddev = tf.sqrt(tf.reduce_mean(tf.square(var - mean)))\n",
    "        tf.summary.scalar('stddev', stddev)\n",
    "        tf.summary.scalar('max', tf.reduce_max(var))\n",
    "        tf.summary.scalar('min', tf.reduce_min(var))\n",
    "        tf.summary.histogram('histogram', var)"
   ]
  },
  {
   "cell_type": "markdown",
   "metadata": {},
   "source": [
    "### Import MNIST data"
   ]
  },
  {
   "cell_type": "code",
   "execution_count": 4,
   "metadata": {},
   "outputs": [
    {
     "name": "stdout",
     "output_type": "stream",
     "text": [
      "Extracting MNIST_data/train-images-idx3-ubyte.gz\n",
      "Extracting MNIST_data/train-labels-idx1-ubyte.gz\n",
      "Extracting MNIST_data/t10k-images-idx3-ubyte.gz\n",
      "Extracting MNIST_data/t10k-labels-idx1-ubyte.gz\n"
     ]
    }
   ],
   "source": [
    "from tensorflow.examples.tutorials.mnist import input_data\n",
    "mnist = input_data.read_data_sets(\"MNIST_data\", one_hot=True)"
   ]
  },
  {
   "cell_type": "markdown",
   "metadata": {},
   "source": [
    "### set parameters"
   ]
  },
  {
   "cell_type": "code",
   "execution_count": 5,
   "metadata": {
    "collapsed": true
   },
   "outputs": [],
   "source": [
    "learning_rate = 0.01\n",
    "l2_reg = 0.0001\n",
    "\n",
    "training_epochs = 2\n",
    "batch_size = 256\n",
    "display_step = 1\n",
    "examples_to_show = 10\n",
    "\n",
    "# Network Parameters\n",
    "n_input = 28 * 28\n",
    "n_hidden_1 = 256\n",
    "n_hidden_2 = 128\n",
    "\n",
    "# log directory for tensorboard\n",
    "log_dir = '/tmp/tensorflow/training_one_autoencoder/logs/summaries'"
   ]
  },
  {
   "cell_type": "markdown",
   "metadata": {},
   "source": [
    "### 標準セットのlayerを定義する\n",
    "\n",
    "ここでは、重みの初期化に\"He\"を、regularizerに\"l2\"を設定する。  \n",
    "また、tensorboardへの表示用の出力も設定する。"
   ]
  },
  {
   "cell_type": "code",
   "execution_count": 6,
   "metadata": {},
   "outputs": [],
   "source": [
    "def nn_layer(input_tensor, output_dim, name, activation=tf.nn.elu, l2_reg = 0.0005):\n",
    "    with tf.variable_scope(name):\n",
    "        he_init = tf.contrib.layers.variance_scaling_initializer() # He initialization\n",
    "        l2_regularizer = tf.contrib.layers.l2_regularizer(l2_reg) \n",
    "        \n",
    "        layer = tf.layers.dense(input_tensor, output_dim, \n",
    "                                activation=activation,\n",
    "                                kernel_initializer=he_init,\n",
    "                                kernel_regularizer=l2_regularizer)\n",
    "         \n",
    "        for v in tf.get_collection(tf.GraphKeys.TRAINABLE_VARIABLES):\n",
    "            print(v.name)  \n",
    "            \n",
    "        layer_vars = tf.get_collection(tf.GraphKeys.TRAINABLE_VARIABLES, name)\n",
    "        #layer_vars = tf.get_collection(tf.GraphKeys.TRAINABLE_VARIABLES)\n",
    "        \n",
    "        with tf.variable_scope('weights'):\n",
    "            variable_summaries(layer_vars[0])\n",
    "        with tf.variable_scope('biases'):\n",
    "            variable_summaries(layer_vars[1])\n",
    "        with tf.variable_scope('activation'):\n",
    "            tf.summary.histogram('activations', layer)\n",
    "        \n",
    "        return layer"
   ]
  },
  {
   "cell_type": "code",
   "execution_count": 7,
   "metadata": {},
   "outputs": [],
   "source": [
    "def train_autoencoder(X_train, n_neurons, n_epochs, batch_size, name,\n",
    "                      learning_rate = 0.01, l2_reg = 0.0005,\n",
    "                      activation=tf.nn.elu):\n",
    "    \n",
    "    graph = tf.Graph()\n",
    "    with graph.as_default():\n",
    "        n_inputs = X_train.shape[1]\n",
    "\n",
    "        X = tf.placeholder(tf.float32, shape=[None, n_inputs])\n",
    "\n",
    "        hidden = nn_layer(X, n_neurons, name=name + \"hidden\", activation=activation)\n",
    "        outputs = nn_layer(hidden, n_inputs, name=name + \"outputs\", activation=None)\n",
    "\n",
    "        reconstruction_loss = tf.reduce_mean(tf.square(outputs - X))\n",
    "\n",
    "        reg_losses = tf.get_collection(tf.GraphKeys.REGULARIZATION_LOSSES)\n",
    "        loss = tf.add_n([reconstruction_loss] + reg_losses)  # tf.add_n : 要素ごとの和\n",
    "\n",
    "        optimizer = tf.train.AdamOptimizer(learning_rate)\n",
    "        training_op = optimizer.minimize(loss)\n",
    "\n",
    "        init = tf.global_variables_initializer()\n",
    "\n",
    "        merged = tf.summary.merge_all()\n",
    "\n",
    "\n",
    "    #if tf.gfile.Exists(log_dir):\n",
    "    #    tf.gfile.DeleteRecursively(log_dir)\n",
    "    if not tf.gfile.Exists(log_dir):\n",
    "        tf.gfile.MakeDirs(log_dir)\n",
    "\n",
    "    with tf.Session(graph=graph) as sess:\n",
    "        init.run()\n",
    "        train_writer = tf.summary.FileWriter(log_dir + '/train', sess.graph)\n",
    "        test_writer = tf.summary.FileWriter(log_dir + '/test')\n",
    "        for epoch in range(n_epochs):\n",
    "            n_batches = len(X_train) // batch_size\n",
    "            for iteration in range(n_batches):\n",
    "                print(\"\\r{}%\".format(100 * iteration // n_batches), end=\"\")\n",
    "                sys.stdout.flush()\n",
    "                indices = np.random.permutation(len(X_train))[:batch_size]\n",
    "                X_batch = X_train[indices]\n",
    "                summary, _ = sess.run([merged,training_op], feed_dict={X: X_batch})\n",
    "            loss_train = reconstruction_loss.eval(feed_dict={X: X_batch})\n",
    "            print(\"\\r{}\".format(epoch), \"Train MSE:\", loss_train)\n",
    "            train_writer.add_summary(summary, epoch)\n",
    "        params = dict([(var.name, var.eval()) for var in tf.get_collection(tf.GraphKeys.TRAINABLE_VARIABLES)])\n",
    "        hidden_val = hidden.eval(feed_dict={X: X_train})\n",
    "        train_writer.close()\n",
    "        test_writer.close()\n",
    "        \n",
    "        return hidden_val, params[name + \"hidden/dense/kernel:0\"], params[name + \"hidden/dense/bias:0\"], params[name + \"outputs/dense/kernel:0\"], params[name + \"outputs/dense/bias:0\"]\n"
   ]
  },
  {
   "cell_type": "code",
   "execution_count": 8,
   "metadata": {},
   "outputs": [
    {
     "name": "stdout",
     "output_type": "stream",
     "text": [
      "layer1hidden/dense/kernel:0\n",
      "layer1hidden/dense/bias:0\n",
      "layer1hidden/dense/kernel:0\n",
      "layer1hidden/dense/bias:0\n",
      "layer1outputs/dense/kernel:0\n",
      "layer1outputs/dense/bias:0\n",
      "09% Train MSE: 0.0174256\n",
      "1 Train MSE: 0.0181099\n",
      "layer2hidden/dense/kernel:0\n",
      "layer2hidden/dense/bias:0\n",
      "layer2hidden/dense/kernel:0\n",
      "layer2hidden/dense/bias:0\n",
      "layer2outputs/dense/kernel:0\n",
      "layer2outputs/dense/bias:0\n",
      "09% Train MSE: 0.00387737\n",
      "1 %Train MSE: 0.00415635\n"
     ]
    }
   ],
   "source": [
    "with tf.variable_scope('layer1'):\n",
    "    hidden_output, W1, b1, W4, b4 = train_autoencoder(mnist.train.images, \n",
    "                                                      n_hidden_1, \n",
    "                                                      training_epochs, \n",
    "                                                      batch_size, \n",
    "                                                      name = 'layer1',\n",
    "                                                      learning_rate = 0.01, \n",
    "                                                      l2_reg = 0.0005,\n",
    "                                                      activation=tf.nn.elu)\n",
    "\n",
    "with tf.variable_scope('layer2'):    \n",
    "    _, W2, b2, W3, b3  = train_autoencoder(hidden_output, \n",
    "                                           n_hidden_2, \n",
    "                                           training_epochs, \n",
    "                                           batch_size, \n",
    "                                           name = 'layer2',\n",
    "                                           learning_rate = 0.01, \n",
    "                                           l2_reg = 0.0005,\n",
    "                                           activation=tf.nn.elu)"
   ]
  },
  {
   "cell_type": "code",
   "execution_count": 9,
   "metadata": {
    "collapsed": true
   },
   "outputs": [],
   "source": [
    "for v in tf.get_collection(tf.GraphKeys.TRAINABLE_VARIABLES):\n",
    "    print(v)"
   ]
  },
  {
   "cell_type": "code",
   "execution_count": 10,
   "metadata": {},
   "outputs": [
    {
     "name": "stderr",
     "output_type": "stream",
     "text": [
      "/Users/shinya/anaconda/envs/tensorflow/lib/python3.5/site-packages/matplotlib/figure.py:402: UserWarning: matplotlib is currently using a non-GUI backend, so cannot show the figure\n",
      "  \"matplotlib is currently using a non-GUI backend, \"\n"
     ]
    },
    {
     "data": {
      "image/png": "[encoded data removed]",
      "text/plain": [
       "<matplotlib.figure.Figure at 0x123b9c198>"
      ]
     },
     "metadata": {},
     "output_type": "display_data"
    }
   ],
   "source": [
    "reset_graph()\n",
    "\n",
    "n_inputs = 28*28\n",
    "\n",
    "X = tf.placeholder(tf.float32, shape=[None, n_inputs])\n",
    "hidden1 = tf.nn.elu(tf.matmul(X, W1) + b1)\n",
    "hidden2 = tf.nn.elu(tf.matmul(hidden1, W2) + b2)\n",
    "hidden3 = tf.nn.elu(tf.matmul(hidden2, W3) + b3)\n",
    "outputs = tf.matmul(hidden3, W4) + b4\n",
    "\n",
    "# Applying encode and decode over test set\n",
    "with tf.Session() as sess:\n",
    "    encode_decode = sess.run(outputs,feed_dict={X: mnist.test.images[:examples_to_show]})\n",
    "    # Compare original images with their reconstructions\n",
    "    f, a = plt.subplots(2, 10, figsize=(10, 2))\n",
    "    for i in range(examples_to_show):\n",
    "        a[0][i].imshow(np.reshape(mnist.test.images[i], (28, 28)))\n",
    "        a[1][i].imshow(np.reshape(encode_decode[i], (28, 28)))\n",
    "    f.show()"
   ]
  },
  {
   "cell_type": "code",
   "execution_count": null,
   "metadata": {
    "collapsed": true
   },
   "outputs": [],
   "source": []
  }
 ],
 "metadata": {
  "kernelspec": {
   "display_name": "Python 3",
   "language": "python",
   "name": "python3"
  },
  "language_info": {
   "codemirror_mode": {
    "name": "ipython",
    "version": 3
   },
   "file_extension": ".py",
   "mimetype": "text/x-python",
   "name": "python",
   "nbconvert_exporter": "python",
   "pygments_lexer": "ipython3",
   "version": "3.5.3"
  }
 },
 "nbformat": 4,
 "nbformat_minor": 2
}
