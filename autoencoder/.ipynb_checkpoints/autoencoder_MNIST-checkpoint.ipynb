{
 "cells": [
  {
   "cell_type": "code",
   "execution_count": 1,
   "metadata": {
    "collapsed": true
   },
   "outputs": [],
   "source": [
    "from __future__ import division, print_function, absolute_import\n",
    "\n",
    "import tensorflow as tf\n",
    "import numpy as np\n",
    "import matplotlib.pyplot as plt\n",
    "import sys\n",
    "\n",
    "%matplotlib inline\n",
    "\n",
    "from functools import partial"
   ]
  },
  {
   "cell_type": "markdown",
   "metadata": {},
   "source": [
    "### Import MNIST data"
   ]
  },
  {
   "cell_type": "code",
   "execution_count": 2,
   "metadata": {},
   "outputs": [
    {
     "name": "stdout",
     "output_type": "stream",
     "text": [
      "Extracting MNIST_data/train-images-idx3-ubyte.gz\n",
      "Extracting MNIST_data/train-labels-idx1-ubyte.gz\n",
      "Extracting MNIST_data/t10k-images-idx3-ubyte.gz\n",
      "Extracting MNIST_data/t10k-labels-idx1-ubyte.gz\n"
     ]
    }
   ],
   "source": [
    "from tensorflow.examples.tutorials.mnist import input_data\n",
    "mnist = input_data.read_data_sets(\"MNIST_data\", one_hot=True)"
   ]
  },
  {
   "cell_type": "markdown",
   "metadata": {
    "collapsed": true
   },
   "source": [
    "### function to save variable summaries for tensorboard"
   ]
  },
  {
   "cell_type": "code",
   "execution_count": 3,
   "metadata": {
    "collapsed": true
   },
   "outputs": [],
   "source": [
    "def variable_summaries(var):\n",
    "    \"\"\" Attach a lot of summaries to a Tensor (for TensorBoard visualization). \"\"\"\n",
    "    with tf.name_scope('summaries'):\n",
    "        mean = tf.reduce_mean(var)\n",
    "        tf.summary.scalar('mean', mean)\n",
    "        with tf.name_scope('stddev'):\n",
    "            stddev = tf.sqrt(tf.reduce_mean(tf.square(var - mean)))\n",
    "        tf.summary.scalar('stddev', stddev)\n",
    "        tf.summary.scalar('max', tf.reduce_max(var))\n",
    "        tf.summary.scalar('min', tf.reduce_min(var))\n",
    "        tf.summary.histogram('histogram', var)"
   ]
  },
  {
   "cell_type": "markdown",
   "metadata": {},
   "source": [
    "### set parameters"
   ]
  },
  {
   "cell_type": "code",
   "execution_count": 4,
   "metadata": {
    "collapsed": true
   },
   "outputs": [],
   "source": [
    "learning_rate = 0.001\n",
    "\n",
    "training_epochs = 2\n",
    "batch_size = 256\n",
    "display_step = 1\n",
    "examples_to_show = 10\n",
    "\n",
    "# Network Parameters\n",
    "n_input = 28 * 28\n",
    "n_hidden_1 = 256\n",
    "n_hidden_2 = 128\n",
    "\n",
    "# log directory for tensorboard\n",
    "log_dir = '/tmp/tensorflow/AE_MNIST/logs'"
   ]
  },
  {
   "cell_type": "markdown",
   "metadata": {},
   "source": [
    "### 標準セットのlayerを定義する\n",
    "\n",
    "ここでは、重みの初期化に\"He\"を、regularizerに\"l2\"を設定する。  \n",
    "また、tensorboardへの表示用の出力も設定する。"
   ]
  },
  {
   "cell_type": "code",
   "execution_count": 5,
   "metadata": {},
   "outputs": [],
   "source": [
    "def nn_layer(input_tensor, output_dim, name, activation=tf.nn.elu, l2_reg = 0.0005):\n",
    "    with tf.variable_scope(name):\n",
    "        \n",
    "        he_init = tf.contrib.layers.variance_scaling_initializer() # He initialization\n",
    "        l2_regularizer = tf.contrib.layers.l2_regularizer(l2_reg) \n",
    "        layer = tf.layers.dense(input_tensor, output_dim, \n",
    "                                activation=activation,\n",
    "                                kernel_initializer=he_init,\n",
    "                                kernel_regularizer=l2_regularizer)\n",
    "        # get layer's variables for tensorboard\n",
    "        layer_vars = layer.graph.get_collection(tf.GraphKeys.TRAINABLE_VARIABLES)\n",
    "\n",
    "        with tf.variable_scope('weights'):\n",
    "            variable_summaries(layer_vars[0])\n",
    "        with tf.variable_scope('biases'):\n",
    "            variable_summaries(layer_vars[1])\n",
    "        with tf.variable_scope('activation'):\n",
    "            tf.summary.histogram('activations', layer)\n",
    "        return layer"
   ]
  },
  {
   "cell_type": "markdown",
   "metadata": {},
   "source": [
    "### decoder部"
   ]
  },
  {
   "cell_type": "code",
   "execution_count": 6,
   "metadata": {
    "collapsed": true
   },
   "outputs": [],
   "source": [
    "def encoder(x):\n",
    "    layer_1 = nn_layer(x, n_hidden_1, name='encoder_1')\n",
    "    layer_2 = nn_layer(layer_1, n_hidden_2, name='encoder_2')\n",
    "    return layer_2"
   ]
  },
  {
   "cell_type": "markdown",
   "metadata": {},
   "source": [
    "### encoder部"
   ]
  },
  {
   "cell_type": "code",
   "execution_count": 7,
   "metadata": {
    "collapsed": true
   },
   "outputs": [],
   "source": [
    "def decoder(x):\n",
    "    layer_1 = nn_layer(x, n_hidden_1, name='decoder_1')\n",
    "    layer_2 = nn_layer(layer_1, n_input, name='decoder_2', activation=None)\n",
    "    return layer_2"
   ]
  },
  {
   "cell_type": "markdown",
   "metadata": {},
   "source": [
    "### グラフを定義\n",
    "\n",
    "二乗和誤差を用いてロス値を計算する方法"
   ]
  },
  {
   "cell_type": "code",
   "execution_count": 8,
   "metadata": {},
   "outputs": [
    {
     "data": {
      "text/plain": [
       "\"\\n# Construct model\\nwith tf.name_scope('encoder_part'):\\n    encoder_op = encoder(X)\\n\\nwith tf.name_scope('decoder_part'):\\n    decoder_op = decoder(encoder_op)\\n\\n# Prediction\\nwith tf.name_scope('prediction'):\\n    y_pred = decoder_op\\n\\n# Targets (Labels) are the input data.\\nwith tf.name_scope('target'):\\n    y_true = X\\n\\n# Define loss and optimizer, minimize the squared error\\nwith tf.name_scope('reduce_mean'):\\n    #cost = tf.reduce_mean(tf.pow(y_true - y_pred, 2))\\n    cost = tf.reduce_mean(tf.square(y_true - y_pred))\\ntf.summary.scalar('reduce_mean', cost)\\n\\n\\nwith tf.name_scope('train'):\\n    optimizer = tf.train.AdamOptimizer(learning_rate).minimize(cost)\\n\""
      ]
     },
     "execution_count": 8,
     "metadata": {},
     "output_type": "execute_result"
    }
   ],
   "source": [
    "\"\"\"\n",
    "# Construct model\n",
    "with tf.name_scope('encoder_part'):\n",
    "    encoder_op = encoder(X)\n",
    "\n",
    "with tf.name_scope('decoder_part'):\n",
    "    decoder_op = decoder(encoder_op)\n",
    "\n",
    "# Prediction\n",
    "with tf.name_scope('prediction'):\n",
    "    y_pred = decoder_op\n",
    "\n",
    "# Targets (Labels) are the input data.\n",
    "with tf.name_scope('target'):\n",
    "    y_true = X\n",
    "\n",
    "# Define loss and optimizer, minimize the squared error\n",
    "with tf.name_scope('reduce_mean'):\n",
    "    #cost = tf.reduce_mean(tf.pow(y_true - y_pred, 2))\n",
    "    cost = tf.reduce_mean(tf.square(y_true - y_pred))\n",
    "tf.summary.scalar('reduce_mean', cost)\n",
    "\n",
    "\n",
    "with tf.name_scope('train'):\n",
    "    optimizer = tf.train.AdamOptimizer(learning_rate).minimize(cost)\n",
    "\"\"\""
   ]
  },
  {
   "cell_type": "markdown",
   "metadata": {},
   "source": [
    "### Reset Graph"
   ]
  },
  {
   "cell_type": "code",
   "execution_count": 9,
   "metadata": {
    "collapsed": true
   },
   "outputs": [],
   "source": [
    "tf.reset_default_graph()"
   ]
  },
  {
   "cell_type": "markdown",
   "metadata": {},
   "source": [
    "### グラフを定義\n",
    "\n",
    "コスト関数：シグモイド＆クロスエントロピー誤差を用いてロス値を計算する方法"
   ]
  },
  {
   "cell_type": "code",
   "execution_count": 10,
   "metadata": {},
   "outputs": [],
   "source": [
    "with tf.variable_scope('input'):\n",
    "    X = tf.placeholder(tf.float32, [None, n_input])\n",
    "\n",
    "# Construct model\n",
    "with tf.variable_scope('encoder_part'):\n",
    "    encoder_op = encoder(X)\n",
    "\n",
    "with tf.variable_scope('decoder_part'):\n",
    "    decoder_op = decoder(encoder_op)\n",
    "\n",
    "# Prediction\n",
    "with tf.variable_scope('prediction'):\n",
    "    y_pred = tf.nn.sigmoid(decoder_op)\n",
    "\n",
    "# Targets (Labels) are the input data.\n",
    "with tf.variable_scope('target'):\n",
    "    y_true = X\n",
    "\n",
    "# Define loss and optimizer, minimize the squared error\n",
    "with tf.variable_scope('reduce_mean'):\n",
    "    diff = tf.nn.sigmoid_cross_entropy_with_logits(labels=y_true, logits=decoder_op)\n",
    "    cost = tf.reduce_mean(diff)\n",
    "tf.summary.scalar('reduce_mean', cost)\n",
    "\n",
    "\n",
    "with tf.variable_scope('train'):\n",
    "    optimizer = tf.train.AdamOptimizer(learning_rate).minimize(cost)\n"
   ]
  },
  {
   "cell_type": "markdown",
   "metadata": {},
   "source": [
    "### Training"
   ]
  },
  {
   "cell_type": "code",
   "execution_count": 11,
   "metadata": {
    "scrolled": false
   },
   "outputs": [
    {
     "name": "stdout",
     "output_type": "stream",
     "text": [
      "Epoch: 0001 cost= 0.103915893\n",
      "Epoch: 0002 cost= 0.086431205\n",
      "Optimization Finished!\n"
     ]
    },
    {
     "name": "stderr",
     "output_type": "stream",
     "text": [
      "/Users/shinya/anaconda/envs/tensorflow/lib/python3.5/site-packages/matplotlib/figure.py:402: UserWarning: matplotlib is currently using a non-GUI backend, so cannot show the figure\n",
      "  \"matplotlib is currently using a non-GUI backend, \"\n"
     ]
    },
    {
     "data": {
      "image/png": "[encoded data removed]",
      "text/plain": [
       "<matplotlib.figure.Figure at 0x117947048>"
      ]
     },
     "metadata": {},
     "output_type": "display_data"
    }
   ],
   "source": [
    "# Initializing the variables\n",
    "merged = tf.summary.merge_all()\n",
    "init = tf.global_variables_initializer()\n",
    "\n",
    "if tf.gfile.Exists(log_dir):\n",
    "    tf.gfile.DeleteRecursively(log_dir)\n",
    "tf.gfile.MakeDirs(log_dir)\n",
    "\n",
    "saver = tf.train.Saver()\n",
    "# Launch the graph\n",
    "with tf.Session() as sess:\n",
    "    sess.run(init)\n",
    "    train_writer = tf.summary.FileWriter(log_dir + '/summaries/train', sess.graph)\n",
    "    test_writer = tf.summary.FileWriter(log_dir + '/summaries/test')\n",
    "\n",
    "    total_batch = int(mnist.train.num_examples/batch_size)\n",
    "    # Training cycle\n",
    "    for epoch in range(training_epochs):\n",
    "        # Loop over all batches\n",
    "        for i in range(total_batch):\n",
    "            batch_xs, batch_ys = mnist.train.next_batch(batch_size)\n",
    "            # Run optimization op (backprop) adn cost op (to get loss value)\n",
    "            summary, _, c = sess.run([merged, optimizer, cost], feed_dict={X: batch_xs})\n",
    "        # Display logs per epoch step\n",
    "        if epoch % display_step == 0:\n",
    "            print(\"Epoch:\", '%04d' % (epoch+1), \"cost=\", \"{:.9f}\".format(c))\n",
    "            sys.stdout.flush()\n",
    "        train_writer.add_summary(summary, epoch)\n",
    "    print(\"Optimization Finished!\")\n",
    "    train_writer.close()\n",
    "    test_writer.close()\n",
    "    saver.save(sess, log_dir + \"model/my_model\")\n",
    "\n",
    "    # Applying encode and decode over test set\n",
    "    encode_decode = sess.run(y_pred,\n",
    "                             feed_dict={X: mnist.test.images[:examples_to_show]})\n",
    "    # Compare original images with their reconstructions\n",
    "    f, a = plt.subplots(2, 10, figsize=(10, 2))\n",
    "    for i in range(examples_to_show):\n",
    "        a[0][i].imshow(np.reshape(mnist.test.images[i], (28, 28)))\n",
    "        a[1][i].imshow(np.reshape(encode_decode[i], (28, 28)))\n",
    "    f.show()\n",
    "\n",
    "sess.close()"
   ]
  },
  {
   "cell_type": "markdown",
   "metadata": {},
   "source": [
    "## クラスタリング\n",
    "\n",
    "中間層の出力をTensorboardでクラスタリングしてみます。"
   ]
  },
  {
   "cell_type": "code",
   "execution_count": 12,
   "metadata": {
    "collapsed": true
   },
   "outputs": [],
   "source": [
    "import os\n",
    "from tensorflow.contrib.tensorboard.plugins import projector"
   ]
  },
  {
   "cell_type": "code",
   "execution_count": 13,
   "metadata": {},
   "outputs": [
    {
     "name": "stdout",
     "output_type": "stream",
     "text": [
      "INFO:tensorflow:Restoring parameters from /tmp/tensorflow/AE_MNIST/logsmodel/my_model\n"
     ]
    }
   ],
   "source": [
    "n_data = 10000\n",
    "\n",
    "#init = tf.global_variables_initializer()\n",
    "saver = tf.train.Saver()\n",
    "with tf.Session() as sess:\n",
    "    saver.restore(sess, log_dir + \"model/my_model\") # not shown\n",
    "    batch_xs, batch_ys = mnist.test.next_batch(n_data)\n",
    "    hidden = sess.run(encoder_op, feed_dict={X: batch_xs})"
   ]
  },
  {
   "cell_type": "markdown",
   "metadata": {},
   "source": [
    "### メタデータファイルの作成\n",
    "\n",
    "メタデータファイルは、  \n",
    "* 最初の行にカラム名を記述  \n",
    "* メタ情報を2行目以降に記述  \n",
    "\n",
    "例えば、MNISTの画像のメタデータを作る場合は、以下のように最初のカラムにインデックス、次のカラムにラベル名（数字）を指定します。"
   ]
  },
  {
   "cell_type": "code",
   "execution_count": 14,
   "metadata": {
    "collapsed": true
   },
   "outputs": [],
   "source": [
    "# \n",
    "#LOG_DIR = \"/tmp/tensorflow/tensorboard/logs\"\n",
    "\n",
    "# recreate log directory\n",
    "if tf.gfile.Exists(log_dir + '/projector'):\n",
    "    tf.gfile.DeleteRecursively(log_dir + '/projector')\n",
    "tf.gfile.MakeDirs(log_dir + '/projector')"
   ]
  },
  {
   "cell_type": "code",
   "execution_count": 15,
   "metadata": {},
   "outputs": [
    {
     "data": {
      "text/plain": [
       "'\\nys = batch_ys\\nwith open(os.path.join(\\'./\\', \\'metadata.tsv\\'),\\'w\\') as f:\\n    f.write(\"Index\\tLabel\\n\")\\n    for index, label in enumerate(ys):\\n        label = int(np.where(label == 1)[0])   ## one-hot to index\\n        f.write(\"%d\\t%d\\n\" % (index, label))\\n'"
      ]
     },
     "execution_count": 15,
     "metadata": {},
     "output_type": "execute_result"
    }
   ],
   "source": [
    "\"\"\"\n",
    "ys = batch_ys\n",
    "with open(os.path.join('./', 'metadata.tsv'),'w') as f:\n",
    "    f.write(\"Index\\tLabel\\n\")\n",
    "    for index, label in enumerate(ys):\n",
    "        label = int(np.where(label == 1)[0])   ## one-hot to index\n",
    "        f.write(\"%d\\t%d\\n\" % (index, label))\n",
    "\"\"\""
   ]
  },
  {
   "cell_type": "code",
   "execution_count": 16,
   "metadata": {
    "collapsed": true
   },
   "outputs": [],
   "source": [
    "ys = batch_ys\n",
    "with open(os.path.join(log_dir, 'projector/metadata.tsv'),'w') as f:\n",
    "    #f.write(\"Index\\tLabel\\n\")\n",
    "    for index, label in enumerate(ys):\n",
    "        label = int(np.where(label == 1)[0])   ## one-hot to index\n",
    "        f.write('{}\\n'.format(label))\n"
   ]
  },
  {
   "cell_type": "markdown",
   "metadata": {},
   "source": [
    "### クラスタ用のembeddingを保存"
   ]
  },
  {
   "cell_type": "code",
   "execution_count": 17,
   "metadata": {
    "collapsed": true
   },
   "outputs": [],
   "source": [
    "xs = tf.stack(hidden, axis=0)\n",
    "\n",
    "with tf.variable_scope('hidden_embedding'):\n",
    "    embedding_var = tf.Variable(xs, trainable=False, name='embedding')\n",
    "\n",
    "\n",
    "summary_writer = tf.summary.FileWriter(os.path.join(log_dir, 'projector'), sess.graph)\n",
    "\n",
    "config = projector.ProjectorConfig()\n",
    "embedding = config.embeddings.add()\n",
    "embedding.tensor_name = embedding_var.name\n",
    "\n",
    "# metadata \n",
    "embedding.metadata_path = os.path.join(log_dir, 'projector/metadata.tsv')\n",
    "\n",
    "# stripe \n",
    "#embedding.sprite.image_path = os.path.join(LOG_DIR, 'sprite_image.png')\n",
    "#embedding.sprite.single_image_dim.extend([28,28])\n",
    "\n",
    "projector.visualize_embeddings(summary_writer, config)\n",
    "\n",
    "\n",
    "#sess = tf.InteractiveSession()\n",
    "\n",
    "# initialize \"embedding_ver\"\n",
    "init = tf.variables_initializer([embedding_var])\n",
    "\n",
    "with tf.Session() as sess:\n",
    "    sess.run(init)\n",
    "    # specify variable to save \n",
    "    saver = tf.train.Saver([embedding_var])\n",
    "    # save variables \n",
    "    saver.save(sess, os.path.join(log_dir, \"projector/model.ckpt\"), global_step=n_data)"
   ]
  },
  {
   "cell_type": "markdown",
   "metadata": {},
   "source": [
    "## Tensorboard 起動\n",
    "\n",
    "tensorboard --logdir=/tmp/tensorflow/tensorboard"
   ]
  }
 ],
 "metadata": {
  "kernelspec": {
   "display_name": "Python 3",
   "language": "python",
   "name": "python3"
  },
  "language_info": {
   "codemirror_mode": {
    "name": "ipython",
    "version": 3
   },
   "file_extension": ".py",
   "mimetype": "text/x-python",
   "name": "python",
   "nbconvert_exporter": "python",
   "pygments_lexer": "ipython3",
   "version": "3.5.3"
  }
 },
 "nbformat": 4,
 "nbformat_minor": 2
}
